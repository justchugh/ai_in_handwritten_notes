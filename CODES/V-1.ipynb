{
 "cells": [
  {
   "cell_type": "code",
   "execution_count": null,
   "id": "e3a2bace",
   "metadata": {},
   "outputs": [],
   "source": [
    "import numpy as np"
   ]
  },
  {
   "cell_type": "code",
   "execution_count": null,
   "id": "bdcdd106",
   "metadata": {},
   "outputs": [],
   "source": [
    "from matplotlib import pyplot as plt"
   ]
  },
  {
   "cell_type": "code",
   "execution_count": null,
   "id": "7168d446",
   "metadata": {},
   "outputs": [],
   "source": [
    "import cv2 as cv"
   ]
  },
  {
   "cell_type": "code",
   "execution_count": null,
   "id": "7eebc923",
   "metadata": {},
   "outputs": [],
   "source": [
    "image = cv.imread('3.jpg', 0)"
   ]
  },
  {
   "cell_type": "code",
   "execution_count": null,
   "id": "00ae3289",
   "metadata": {},
   "outputs": [],
   "source": [
    "image = cv.resize(image, (400, 200))"
   ]
  },
  {
   "cell_type": "code",
   "execution_count": null,
   "id": "f93f113d",
   "metadata": {},
   "outputs": [],
   "source": [
    "image.shape"
   ]
  },
  {
   "cell_type": "code",
   "execution_count": null,
   "id": "44eebd30",
   "metadata": {},
   "outputs": [],
   "source": [
    "cv.imshow('R', image)"
   ]
  },
  {
   "cell_type": "code",
   "execution_count": null,
   "id": "defd90ea",
   "metadata": {},
   "outputs": [],
   "source": [
    "cv.waitKey(0)"
   ]
  },
  {
   "cell_type": "code",
   "execution_count": null,
   "id": "1df58815",
   "metadata": {},
   "outputs": [],
   "source": [
    "cv.destroyAllWindows()"
   ]
  },
  {
   "cell_type": "code",
   "execution_count": null,
   "id": "62a95b89",
   "metadata": {},
   "outputs": [],
   "source": [
    "temp1 = image[55: 145, :]"
   ]
  },
  {
   "cell_type": "code",
   "execution_count": null,
   "id": "cde2c3db",
   "metadata": {},
   "outputs": [],
   "source": [
    "cv.imshow('R', temp1)"
   ]
  },
  {
   "cell_type": "code",
   "execution_count": null,
   "id": "876ff1b9",
   "metadata": {},
   "outputs": [],
   "source": [
    "cv.waitKey(0)"
   ]
  },
  {
   "cell_type": "code",
   "execution_count": null,
   "id": "f6236bb9",
   "metadata": {},
   "outputs": [],
   "source": [
    "cv.destroyAllWindows()"
   ]
  },
  {
   "cell_type": "code",
   "execution_count": null,
   "id": "dc737ed2",
   "metadata": {},
   "outputs": [],
   "source": [
    "l1 = temp1.sum(axis=0)"
   ]
  },
  {
   "cell_type": "code",
   "execution_count": null,
   "id": "7cd42031",
   "metadata": {},
   "outputs": [],
   "source": [
    "l2 = temp1.sum(axis=1)"
   ]
  },
  {
   "cell_type": "code",
   "execution_count": null,
   "id": "d6034784",
   "metadata": {},
   "outputs": [],
   "source": [
    "plt.scatter(range(len(l1)), l1)"
   ]
  },
  {
   "cell_type": "code",
   "execution_count": null,
   "id": "c285b2d7",
   "metadata": {},
   "outputs": [],
   "source": [
    "def model1(l1):\n",
    "    m0 = min(l1)\n",
    "    m1 = max(l1)\n",
    "    l1_sort = sorted(l1)\n",
    "    i = 0\n",
    "    M = []\n",
    "    M_slope_0 = []\n",
    "    M_slope_1 = []\n",
    "    for i in range(len(l1_sort)):\n",
    "        if i + 1 != len(l1_sort):\n",
    "            x1, y1 = i, l1_sort[i]\n",
    "            x2, y2 = i + 1, l1_sort[i + 1]\n",
    "            m = (y2 - y1) / (x2 - x1)\n",
    "            M.append(m)\n",
    "            if m == 0:\n",
    "                M_slope_0.append(i)\n",
    "            if m == 1:\n",
    "                M_slope_1.append(i)\n",
    "    return M, M_slope_0, M_slope_1\n",
    "M, M_slope_0, M_slope_1 = model1(l1)"
   ]
  },
  {
   "cell_type": "code",
   "execution_count": null,
   "id": "a4878be6",
   "metadata": {},
   "outputs": [],
   "source": [
    "l1_sort = sorted(l1)"
   ]
  },
  {
   "cell_type": "code",
   "execution_count": null,
   "id": "d6bed103",
   "metadata": {},
   "outputs": [],
   "source": [
    "plt.figure(figsize=(30, 20))"
   ]
  },
  {
   "cell_type": "code",
   "execution_count": null,
   "id": "2a27470b",
   "metadata": {},
   "outputs": [],
   "source": [
    "plt.scatter(range(len(l1_sort)), l1_sort)"
   ]
  },
  {
   "cell_type": "code",
   "execution_count": null,
   "id": "7f137417",
   "metadata": {},
   "outputs": [],
   "source": [
    "plt.scatter(M_slope_0, [min(l1)] * len(M_slope_0))"
   ]
  },
  {
   "cell_type": "code",
   "execution_count": null,
   "id": "9028e4f7",
   "metadata": {},
   "outputs": [],
   "source": [
    "l1_sort = sorted(l1)"
   ]
  },
  {
   "cell_type": "code",
   "execution_count": null,
   "id": "5883c350",
   "metadata": {},
   "outputs": [],
   "source": [
    "plt.figure(figsize=(30, 20))"
   ]
  },
  {
   "cell_type": "code",
   "execution_count": null,
   "id": "5c95a6a0",
   "metadata": {},
   "outputs": [],
   "source": [
    "plt.scatter(range(len(l1_sort)), l1_sort)"
   ]
  }
 ],
 "metadata": {},
 "nbformat": 4,
 "nbformat_minor": 5
}
