{
 "cells": [
  {
   "cell_type": "code",
   "execution_count": null,
   "id": "79dec53e",
   "metadata": {},
   "outputs": [],
   "source": [
    "import numpy as np"
   ]
  },
  {
   "cell_type": "code",
   "execution_count": null,
   "id": "c26ea7d4",
   "metadata": {},
   "outputs": [],
   "source": [
    "from matplotlib import pyplot as plt"
   ]
  },
  {
   "cell_type": "code",
   "execution_count": null,
   "id": "59216c24",
   "metadata": {},
   "outputs": [],
   "source": [
    "import cv2 as cv"
   ]
  },
  {
   "cell_type": "code",
   "execution_count": null,
   "id": "f53e3e6c",
   "metadata": {},
   "outputs": [],
   "source": [
    "image = cv.imread('3.jpg', 0)"
   ]
  },
  {
   "cell_type": "code",
   "execution_count": null,
   "id": "4752fb2a",
   "metadata": {},
   "outputs": [],
   "source": [
    "image = cv.resize(image, (400, 200))"
   ]
  },
  {
   "cell_type": "code",
   "execution_count": null,
   "id": "a7ae9631",
   "metadata": {},
   "outputs": [],
   "source": [
    "image.shape"
   ]
  },
  {
   "cell_type": "code",
   "execution_count": null,
   "id": "d474a1e9",
   "metadata": {},
   "outputs": [],
   "source": [
    "cv.imshow('R', image)"
   ]
  },
  {
   "cell_type": "code",
   "execution_count": null,
   "id": "fcf73018",
   "metadata": {},
   "outputs": [],
   "source": [
    "cv.waitKey(0)"
   ]
  },
  {
   "cell_type": "code",
   "execution_count": null,
   "id": "cd03f42e",
   "metadata": {},
   "outputs": [],
   "source": [
    "cv.destroyAllWindows()"
   ]
  },
  {
   "cell_type": "code",
   "execution_count": null,
   "id": "7877f735",
   "metadata": {},
   "outputs": [],
   "source": [
    "temp1 = image[55: 145, :]"
   ]
  },
  {
   "cell_type": "code",
   "execution_count": null,
   "id": "4f6db734",
   "metadata": {},
   "outputs": [],
   "source": [
    "cv.imshow('R', temp1)"
   ]
  },
  {
   "cell_type": "code",
   "execution_count": null,
   "id": "59804221",
   "metadata": {},
   "outputs": [],
   "source": [
    "cv.waitKey(0)"
   ]
  },
  {
   "cell_type": "code",
   "execution_count": null,
   "id": "de5f09e9",
   "metadata": {},
   "outputs": [],
   "source": [
    "cv.destroyAllWindows()"
   ]
  },
  {
   "cell_type": "code",
   "execution_count": null,
   "id": "4ebdaf20",
   "metadata": {},
   "outputs": [],
   "source": [
    "l1 = temp1.sum(axis=0)"
   ]
  },
  {
   "cell_type": "code",
   "execution_count": null,
   "id": "45bc8b48",
   "metadata": {},
   "outputs": [],
   "source": [
    "l2 = temp1.sum(axis=1)"
   ]
  },
  {
   "cell_type": "code",
   "execution_count": null,
   "id": "221b08c5",
   "metadata": {},
   "outputs": [],
   "source": [
    "plt.scatter(range(len(l1)), l1)"
   ]
  },
  {
   "cell_type": "code",
   "execution_count": null,
   "id": "e8ec1e56",
   "metadata": {},
   "outputs": [],
   "source": [
    "def model1(l1):\n",
    "    m0 = min(l1)\n",
    "    m1 = max(l1)\n",
    "    l1_sort = sorted(l1)\n",
    "    i = 0\n",
    "    M = []\n",
    "    M_slope_0 = []\n",
    "    M_slope_1 = []\n",
    "    for i in range(len(l1_sort)):\n",
    "        if i + 1 != len(l1_sort):\n",
    "            x1, y1 = i, l1_sort[i]\n",
    "            x2, y2 = i + 1, l1_sort[i + 1]\n",
    "            m = (y2 - y1) / (x2 - x1)\n",
    "            M.append(m)\n",
    "            if m == 0:\n",
    "                M_slope_0.append(i)\n",
    "            if m == 1:\n",
    "                M_slope_1.append(i)\n",
    "    return M, M_slope_0, M_slope_1\n",
    "M, M_slope_0, M_slope_1 = model1(l1)"
   ]
  },
  {
   "cell_type": "code",
   "execution_count": null,
   "id": "876642b5",
   "metadata": {},
   "outputs": [],
   "source": [
    "l1_sort = sorted(l1)"
   ]
  },
  {
   "cell_type": "code",
   "execution_count": null,
   "id": "022c6375",
   "metadata": {},
   "outputs": [],
   "source": [
    "plt.figure(figsize=(30, 20))"
   ]
  },
  {
   "cell_type": "code",
   "execution_count": null,
   "id": "833b8304",
   "metadata": {},
   "outputs": [],
   "source": [
    "plt.scatter(range(len(l1_sort)), l1_sort)"
   ]
  },
  {
   "cell_type": "code",
   "execution_count": null,
   "id": "3ecd7ac9",
   "metadata": {},
   "outputs": [],
   "source": [
    "plt.scatter(M_slope_0, [min(l1)] * len(M_slope_0))"
   ]
  }
 ],
 "metadata": {},
 "nbformat": 4,
 "nbformat_minor": 5
}
