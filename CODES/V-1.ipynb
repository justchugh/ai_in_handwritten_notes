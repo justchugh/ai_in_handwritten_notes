{
 "cells": [
  {
   "cell_type": "code",
   "execution_count": null,
   "id": "e6d079e4",
   "metadata": {},
   "outputs": [],
   "source": [
    "import numpy as np"
   ]
  },
  {
   "cell_type": "code",
   "execution_count": null,
   "id": "dbc06c65",
   "metadata": {},
   "outputs": [],
   "source": [
    "from matplotlib import pyplot as plt"
   ]
  },
  {
   "cell_type": "code",
   "execution_count": null,
   "id": "ba57c872",
   "metadata": {},
   "outputs": [],
   "source": [
    "import cv2 as cv"
   ]
  },
  {
   "cell_type": "code",
   "execution_count": null,
   "id": "d07ceee3",
   "metadata": {},
   "outputs": [],
   "source": [
    "image = cv.imread('3.jpg', 0)"
   ]
  },
  {
   "cell_type": "code",
   "execution_count": null,
   "id": "8286c98b",
   "metadata": {},
   "outputs": [],
   "source": [
    "image = cv.resize(image, (400, 200))"
   ]
  },
  {
   "cell_type": "code",
   "execution_count": null,
   "id": "8cdac3e5",
   "metadata": {},
   "outputs": [],
   "source": [
    "image.shape"
   ]
  },
  {
   "cell_type": "code",
   "execution_count": null,
   "id": "63538de7",
   "metadata": {},
   "outputs": [],
   "source": [
    "cv.imshow('R', image)"
   ]
  },
  {
   "cell_type": "code",
   "execution_count": null,
   "id": "245dda3f",
   "metadata": {},
   "outputs": [],
   "source": [
    "cv.waitKey(0)"
   ]
  },
  {
   "cell_type": "code",
   "execution_count": null,
   "id": "42b10d97",
   "metadata": {},
   "outputs": [],
   "source": [
    "cv.destroyAllWindows()"
   ]
  },
  {
   "cell_type": "code",
   "execution_count": null,
   "id": "e49a1b84",
   "metadata": {},
   "outputs": [],
   "source": [
    "temp1 = image[55: 145, :]"
   ]
  },
  {
   "cell_type": "code",
   "execution_count": null,
   "id": "1cb502b3",
   "metadata": {},
   "outputs": [],
   "source": [
    "cv.imshow('R', temp1)"
   ]
  },
  {
   "cell_type": "code",
   "execution_count": null,
   "id": "52b6ed04",
   "metadata": {},
   "outputs": [],
   "source": [
    "cv.waitKey(0)"
   ]
  },
  {
   "cell_type": "code",
   "execution_count": null,
   "id": "967e2f1e",
   "metadata": {},
   "outputs": [],
   "source": [
    "cv.destroyAllWindows()"
   ]
  },
  {
   "cell_type": "code",
   "execution_count": null,
   "id": "356bcbaa",
   "metadata": {},
   "outputs": [],
   "source": [
    "l1 = temp1.sum(axis=0)"
   ]
  },
  {
   "cell_type": "code",
   "execution_count": null,
   "id": "0a21f686",
   "metadata": {},
   "outputs": [],
   "source": [
    "l2 = temp1.sum(axis=1)"
   ]
  },
  {
   "cell_type": "code",
   "execution_count": null,
   "id": "62dd853b",
   "metadata": {},
   "outputs": [],
   "source": [
    "plt.scatter(range(len(l1)), l1)"
   ]
  },
  {
   "cell_type": "code",
   "execution_count": null,
   "id": "3528c062",
   "metadata": {},
   "outputs": [],
   "source": [
    "def model1(l1):\n",
    "    m0 = min(l1)\n",
    "    m1 = max(l1)\n",
    "    l1_sort = sorted(l1)\n",
    "    i = 0\n",
    "    M = []\n",
    "    M_slope_0 = []\n",
    "    M_slope_1 = []\n",
    "    for i in range(len(l1_sort)):\n",
    "        if i + 1 != len(l1_sort):\n",
    "            x1, y1 = i, l1_sort[i]\n",
    "            x2, y2 = i + 1, l1_sort[i + 1]\n",
    "            m = (y2 - y1) / (x2 - x1)\n",
    "            M.append(m)\n",
    "            if m == 0:\n",
    "                M_slope_0.append(i)\n",
    "            if m == 1:\n",
    "                M_slope_1.append(i)\n",
    "    return M, M_slope_0, M_slope_1\n",
    "M, M_slope_0, M_slope_1 = model1(l1)"
   ]
  }
 ],
 "metadata": {},
 "nbformat": 4,
 "nbformat_minor": 5
}
