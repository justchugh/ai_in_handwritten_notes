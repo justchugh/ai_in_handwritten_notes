{
 "cells": [
  {
   "cell_type": "code",
   "execution_count": null,
   "id": "18be8a48",
   "metadata": {},
   "outputs": [],
   "source": [
    "import numpy as np"
   ]
  },
  {
   "cell_type": "code",
   "execution_count": null,
   "id": "68bb9394",
   "metadata": {},
   "outputs": [],
   "source": [
    "from matplotlib import pyplot as plt"
   ]
  },
  {
   "cell_type": "code",
   "execution_count": null,
   "id": "8fb4d1f6",
   "metadata": {},
   "outputs": [],
   "source": [
    "import cv2 as cv"
   ]
  },
  {
   "cell_type": "code",
   "execution_count": null,
   "id": "4a70f8d8",
   "metadata": {},
   "outputs": [],
   "source": [
    "image = cv.imread('3.jpg', 0)"
   ]
  },
  {
   "cell_type": "code",
   "execution_count": null,
   "id": "7fe6d39b",
   "metadata": {},
   "outputs": [],
   "source": [
    "image = cv.resize(image, (400, 200))"
   ]
  },
  {
   "cell_type": "code",
   "execution_count": null,
   "id": "cc5be4bd",
   "metadata": {},
   "outputs": [],
   "source": [
    "image.shape"
   ]
  },
  {
   "cell_type": "code",
   "execution_count": null,
   "id": "d27af867",
   "metadata": {},
   "outputs": [],
   "source": [
    "cv.imshow('R', image)"
   ]
  },
  {
   "cell_type": "code",
   "execution_count": null,
   "id": "e08636b9",
   "metadata": {},
   "outputs": [],
   "source": [
    "cv.waitKey(0)"
   ]
  },
  {
   "cell_type": "code",
   "execution_count": null,
   "id": "5da8c5c9",
   "metadata": {},
   "outputs": [],
   "source": [
    "cv.destroyAllWindows()"
   ]
  },
  {
   "cell_type": "code",
   "execution_count": null,
   "id": "5c3ac880",
   "metadata": {},
   "outputs": [],
   "source": [
    "temp1 = image[55: 145, :]"
   ]
  },
  {
   "cell_type": "code",
   "execution_count": null,
   "id": "652eafdc",
   "metadata": {},
   "outputs": [],
   "source": [
    "cv.imshow('R', temp1)"
   ]
  },
  {
   "cell_type": "code",
   "execution_count": null,
   "id": "41093dc3",
   "metadata": {},
   "outputs": [],
   "source": [
    "cv.waitKey(0)"
   ]
  },
  {
   "cell_type": "code",
   "execution_count": null,
   "id": "07ae1ff9",
   "metadata": {},
   "outputs": [],
   "source": [
    "cv.destroyAllWindows()"
   ]
  },
  {
   "cell_type": "code",
   "execution_count": null,
   "id": "4fea3c95",
   "metadata": {},
   "outputs": [],
   "source": [
    "l1 = temp1.sum(axis=0)"
   ]
  },
  {
   "cell_type": "code",
   "execution_count": null,
   "id": "624cda49",
   "metadata": {},
   "outputs": [],
   "source": [
    "l2 = temp1.sum(axis=1)"
   ]
  },
  {
   "cell_type": "code",
   "execution_count": null,
   "id": "42c5efe4",
   "metadata": {},
   "outputs": [],
   "source": [
    "plt.scatter(range(len(l1)), l1)"
   ]
  }
 ],
 "metadata": {},
 "nbformat": 4,
 "nbformat_minor": 5
}
