{
 "cells": [
  {
   "cell_type": "code",
   "execution_count": null,
   "id": "77ae9ea2",
   "metadata": {},
   "outputs": [],
   "source": [
    "import numpy as np"
   ]
  },
  {
   "cell_type": "code",
   "execution_count": null,
   "id": "77de676f",
   "metadata": {},
   "outputs": [],
   "source": [
    "from matplotlib import pyplot as plt"
   ]
  },
  {
   "cell_type": "code",
   "execution_count": null,
   "id": "f56b0e17",
   "metadata": {},
   "outputs": [],
   "source": [
    "import cv2 as cv"
   ]
  },
  {
   "cell_type": "code",
   "execution_count": null,
   "id": "3052c8ab",
   "metadata": {},
   "outputs": [],
   "source": [
    "image = cv.imread('3.jpg', 0)"
   ]
  },
  {
   "cell_type": "code",
   "execution_count": null,
   "id": "cab435f4",
   "metadata": {},
   "outputs": [],
   "source": [
    "image = cv.resize(image, (400, 200))"
   ]
  },
  {
   "cell_type": "code",
   "execution_count": null,
   "id": "abdf85ff",
   "metadata": {},
   "outputs": [],
   "source": [
    "image.shape"
   ]
  },
  {
   "cell_type": "code",
   "execution_count": null,
   "id": "e72ebc49",
   "metadata": {},
   "outputs": [],
   "source": [
    "cv.imshow('R', image)"
   ]
  },
  {
   "cell_type": "code",
   "execution_count": null,
   "id": "04e05ff8",
   "metadata": {},
   "outputs": [],
   "source": [
    "cv.waitKey(0)"
   ]
  },
  {
   "cell_type": "code",
   "execution_count": null,
   "id": "8ed793b1",
   "metadata": {},
   "outputs": [],
   "source": [
    "cv.destroyAllWindows()"
   ]
  },
  {
   "cell_type": "code",
   "execution_count": null,
   "id": "c048547c",
   "metadata": {},
   "outputs": [],
   "source": [
    "temp1 = image[55: 145, :]"
   ]
  },
  {
   "cell_type": "code",
   "execution_count": null,
   "id": "1bc95b62",
   "metadata": {},
   "outputs": [],
   "source": [
    "cv.imshow('R', temp1)"
   ]
  },
  {
   "cell_type": "code",
   "execution_count": null,
   "id": "454042f1",
   "metadata": {},
   "outputs": [],
   "source": [
    "cv.waitKey(0)"
   ]
  },
  {
   "cell_type": "code",
   "execution_count": null,
   "id": "c2da3085",
   "metadata": {},
   "outputs": [],
   "source": [
    "cv.destroyAllWindows()"
   ]
  },
  {
   "cell_type": "code",
   "execution_count": null,
   "id": "9b1c5414",
   "metadata": {},
   "outputs": [],
   "source": [
    "l1 = temp1.sum(axis=0)"
   ]
  },
  {
   "cell_type": "code",
   "execution_count": null,
   "id": "1acc11b0",
   "metadata": {},
   "outputs": [],
   "source": [
    "l2 = temp1.sum(axis=1)"
   ]
  },
  {
   "cell_type": "code",
   "execution_count": null,
   "id": "5a6f3081",
   "metadata": {},
   "outputs": [],
   "source": [
    "plt.scatter(range(len(l1)), l1)"
   ]
  },
  {
   "cell_type": "code",
   "execution_count": null,
   "id": "666b2e93",
   "metadata": {},
   "outputs": [],
   "source": [
    "def model1(l1):\n",
    "    m0 = min(l1)\n",
    "    m1 = max(l1)\n",
    "    l1_sort = sorted(l1)\n",
    "    i = 0\n",
    "    M = []\n",
    "    M_slope_0 = []\n",
    "    M_slope_1 = []\n",
    "    for i in range(len(l1_sort)):\n",
    "        if i + 1 != len(l1_sort):\n",
    "            x1, y1 = i, l1_sort[i]\n",
    "            x2, y2 = i + 1, l1_sort[i + 1]\n",
    "            m = (y2 - y1) / (x2 - x1)\n",
    "            M.append(m)\n",
    "            if m == 0:\n",
    "                M_slope_0.append(i)\n",
    "            if m == 1:\n",
    "                M_slope_1.append(i)\n",
    "    return M, M_slope_0, M_slope_1\n",
    "M, M_slope_0, M_slope_1 = model1(l1)"
   ]
  },
  {
   "cell_type": "code",
   "execution_count": null,
   "id": "78c1a185",
   "metadata": {},
   "outputs": [],
   "source": [
    "l1_sort = sorted(l1)"
   ]
  },
  {
   "cell_type": "code",
   "execution_count": null,
   "id": "a8d8c1ea",
   "metadata": {},
   "outputs": [],
   "source": [
    "plt.figure(figsize=(30, 20))"
   ]
  },
  {
   "cell_type": "code",
   "execution_count": null,
   "id": "5cd3246d",
   "metadata": {},
   "outputs": [],
   "source": [
    "plt.scatter(range(len(l1_sort)), l1_sort)"
   ]
  },
  {
   "cell_type": "code",
   "execution_count": null,
   "id": "bc288a57",
   "metadata": {},
   "outputs": [],
   "source": [
    "plt.scatter(M_slope_0, [min(l1)] * len(M_slope_0))"
   ]
  },
  {
   "cell_type": "code",
   "execution_count": null,
   "id": "efff661f",
   "metadata": {},
   "outputs": [],
   "source": [
    "l1_sort = sorted(l1)"
   ]
  },
  {
   "cell_type": "code",
   "execution_count": null,
   "id": "1128b3b3",
   "metadata": {},
   "outputs": [],
   "source": [
    "plt.figure(figsize=(30, 20))"
   ]
  },
  {
   "cell_type": "code",
   "execution_count": null,
   "id": "75d3b55e",
   "metadata": {},
   "outputs": [],
   "source": [
    "plt.scatter(range(len(l1_sort)), l1_sort)"
   ]
  },
  {
   "cell_type": "code",
   "execution_count": null,
   "id": "278ff2db",
   "metadata": {},
   "outputs": [],
   "source": [
    "plt.scatter(M_slope_1, [min(l1_sort)] * len(M_slope_1))"
   ]
  }
 ],
 "metadata": {},
 "nbformat": 4,
 "nbformat_minor": 5
}
