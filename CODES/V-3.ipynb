{
 "cells": [
  {
   "cell_type": "code",
   "execution_count": null,
   "id": "87464267",
   "metadata": {},
   "outputs": [],
   "source": [
    "import numpy as np"
   ]
  },
  {
   "cell_type": "code",
   "execution_count": null,
   "id": "7f7cf3b2",
   "metadata": {},
   "outputs": [],
   "source": [
    "import cv2 as cv"
   ]
  },
  {
   "cell_type": "code",
   "execution_count": null,
   "id": "2199b6f7",
   "metadata": {},
   "outputs": [],
   "source": [
    "from matplotlib import pyplot as plt"
   ]
  },
  {
   "cell_type": "code",
   "execution_count": null,
   "id": "1522fa2f",
   "metadata": {},
   "outputs": [],
   "source": [
    "def display_image(image):\n",
    "    plt.imshow(cv.cvtColor(image, cv.COLOR_BGR2RGB))\n",
    "    plt.show(block=True)"
   ]
  },
  {
   "cell_type": "code",
   "execution_count": null,
   "id": "5879168b",
   "metadata": {},
   "outputs": [],
   "source": [
    "def display_graph(image):\n",
    "    sum_ = image.sum(axis=0)\n",
    "    plt.figure(figsize=(15, 8))\n",
    "    x = list(range(len(sum_)))\n",
    "    y = list(sum_)\n",
    "    plt.scatter(x, y, alpha=0.5)\n",
    "    plt.show()"
   ]
  },
  {
   "cell_type": "code",
   "execution_count": null,
   "id": "dc5a14a2",
   "metadata": {},
   "outputs": [],
   "source": [
    "image = cv.imread(\"3.jpg\")\n",
    "image = cv.resize(image, (500, 300))\n",
    "image = image[90:210, :]\n",
    "display_image(image)"
   ]
  },
  {
   "cell_type": "code",
   "execution_count": null,
   "id": "75c95cee",
   "metadata": {},
   "outputs": [],
   "source": [
    "gray = cv.cvtColor(image, cv.COLOR_BGR2GRAY)"
   ]
  },
  {
   "cell_type": "code",
   "execution_count": null,
   "id": "14b18c57",
   "metadata": {},
   "outputs": [],
   "source": [
    "display_image(gray)"
   ]
  },
  {
   "cell_type": "code",
   "execution_count": null,
   "id": "ece33c14",
   "metadata": {},
   "outputs": [],
   "source": [
    "display_graph(gray)"
   ]
  },
  {
   "cell_type": "code",
   "execution_count": null,
   "id": "24a66088",
   "metadata": {},
   "outputs": [],
   "source": [
    "blur = cv.bilateralFilter(gray, 7, 75, 75)"
   ]
  },
  {
   "cell_type": "code",
   "execution_count": null,
   "id": "101d949b",
   "metadata": {},
   "outputs": [],
   "source": [
    "display_image(blur)"
   ]
  },
  {
   "cell_type": "code",
   "execution_count": null,
   "id": "f05b5db0",
   "metadata": {},
   "outputs": [],
   "source": [
    "display_graph(blur)"
   ]
  },
  {
   "cell_type": "code",
   "execution_count": null,
   "id": "28591bef",
   "metadata": {},
   "outputs": [],
   "source": [
    "thresh = cv.adaptiveThreshold(blur, 255, cv.ADAPTIVE_THRESH_GAUSSIAN_C, cv.THRESH_BINARY, 11, 2)\n",
    "display_image(thresh)\n",
    "display_graph(thresh)"
   ]
  },
  {
   "cell_type": "code",
   "execution_count": null,
   "id": "2959cff8",
   "metadata": {},
   "outputs": [],
   "source": [
    "k = 3\n",
    "kernel = np.ones((k, k), np.uint8)\n",
    "dil = cv.dilate(thresh, kernel, iterations=1)\n",
    "display_image(dil)\n",
    "display_graph(dil)"
   ]
  },
  {
   "cell_type": "code",
   "execution_count": null,
   "id": "607a9b13",
   "metadata": {},
   "outputs": [],
   "source": [
    "def model1(l):\n",
    "    maximum = max(l)\n",
    "    cutout_dip = []\n",
    "    cutout_up = []\n",
    "    \n",
    "    for i in range(len(l)):\n",
    "        if (i + 1) != len(l):\n",
    "            if l[i] == maximum:\n",
    "                if (l[i + 1] < maximum):\n",
    "                    cutout_dip.append(i)\n",
    "            \n",
    "            if l[i] < maximum:\n",
    "                if (l[i + 1] == maximum):\n",
    "                    cutout_up.append(i + 1)\n",
    "    return cutout_up, cutout_dip\n",
    "sum_ = dil.sum(axis=0)\n",
    "cutout_up, cutout_dip = model1(sum_)\n",
    "cutout_up, cutout_dip"
   ]
  },
  {
   "cell_type": "code",
   "execution_count": null,
   "id": "6e9830dc",
   "metadata": {},
   "outputs": [],
   "source": [
    "def model2(image, cutout_up, cutout_dip):\n",
    "    cutout_images = []\n",
    "    for up, dip in zip(cutout_up, cutout_dip):\n",
    "        temp = image[:, dip : up]\n",
    "        cutout_images.append(temp)\n",
    "    return cutout_images\n",
    "cutout_images = model2(image, cutout_up, cutout_dip)\n",
    "len(cutout_images)"
   ]
  },
  {
   "cell_type": "code",
   "execution_count": null,
   "id": "69dd7b8f",
   "metadata": {},
   "outputs": [],
   "source": [
    "for i in range(len(cutout_images)):\n",
    "    print(\"image number : \", i + 1)\n",
    "    plt.imshow(cv.cvtColor(cutout_images[i], cv.COLOR_BGR2RGB))\n",
    "    plt.show(block=True)"
   ]
  },
  {
   "cell_type": "code",
   "execution_count": null,
   "id": "1aa46554",
   "metadata": {},
   "outputs": [],
   "source": [
    "cutout_images_T = []\n",
    "for cutout_image in cutout_images:\n",
    "    cutout_images_T.append(cutout_image.T)\n",
    "len(cutout_images_T)"
   ]
  }
 ],
 "metadata": {},
 "nbformat": 4,
 "nbformat_minor": 5
}
