{
 "cells": [
  {
   "cell_type": "code",
   "execution_count": null,
   "id": "340ed313",
   "metadata": {},
   "outputs": [],
   "source": [
    "import numpy as np"
   ]
  },
  {
   "cell_type": "code",
   "execution_count": null,
   "id": "1290eb04",
   "metadata": {},
   "outputs": [],
   "source": [
    "import cv2 as cv"
   ]
  },
  {
   "cell_type": "code",
   "execution_count": null,
   "id": "f1139d1b",
   "metadata": {},
   "outputs": [],
   "source": [
    "from matplotlib import pyplot as plt"
   ]
  },
  {
   "cell_type": "code",
   "execution_count": null,
   "id": "0349a0e5",
   "metadata": {},
   "outputs": [],
   "source": [
    "def display_image(image):\n",
    "    plt.imshow(cv.cvtColor(image, cv.COLOR_BGR2RGB))\n",
    "    plt.show(block=True)"
   ]
  },
  {
   "cell_type": "code",
   "execution_count": null,
   "id": "8449c990",
   "metadata": {},
   "outputs": [],
   "source": [
    "def display_graph(image):\n",
    "    sum_ = image.sum(axis=0)\n",
    "    plt.figure(figsize=(15, 8))\n",
    "    x = list(range(len(sum_)))\n",
    "    y = list(sum_)\n",
    "    plt.scatter(x, y, alpha=0.5)\n",
    "    plt.show()"
   ]
  },
  {
   "cell_type": "code",
   "execution_count": null,
   "id": "788d08eb",
   "metadata": {},
   "outputs": [],
   "source": [
    "image = cv.imread(\"3.jpg\")\n",
    "image = cv.resize(image, (500, 300))\n",
    "image = image[90:210, :]\n",
    "display_image(image)"
   ]
  },
  {
   "cell_type": "code",
   "execution_count": null,
   "id": "9e11d9d7",
   "metadata": {},
   "outputs": [],
   "source": [
    "gray = cv.cvtColor(image, cv.COLOR_BGR2GRAY)"
   ]
  },
  {
   "cell_type": "code",
   "execution_count": null,
   "id": "3e92cf67",
   "metadata": {},
   "outputs": [],
   "source": [
    "display_image(gray)"
   ]
  },
  {
   "cell_type": "code",
   "execution_count": null,
   "id": "4c97ddd9",
   "metadata": {},
   "outputs": [],
   "source": [
    "display_graph(gray)"
   ]
  },
  {
   "cell_type": "code",
   "execution_count": null,
   "id": "a8bb2835",
   "metadata": {},
   "outputs": [],
   "source": [
    "blur = cv.bilateralFilter(gray, 7, 75, 75)"
   ]
  },
  {
   "cell_type": "code",
   "execution_count": null,
   "id": "bde2c3ab",
   "metadata": {},
   "outputs": [],
   "source": [
    "display_image(blur)"
   ]
  },
  {
   "cell_type": "code",
   "execution_count": null,
   "id": "b1c03a1e",
   "metadata": {},
   "outputs": [],
   "source": [
    "display_graph(blur)"
   ]
  },
  {
   "cell_type": "code",
   "execution_count": null,
   "id": "072f63eb",
   "metadata": {},
   "outputs": [],
   "source": [
    "thresh = cv.adaptiveThreshold(blur, 255, cv.ADAPTIVE_THRESH_GAUSSIAN_C, cv.THRESH_BINARY, 11, 2)\n",
    "display_image(thresh)\n",
    "display_graph(thresh)"
   ]
  },
  {
   "cell_type": "code",
   "execution_count": null,
   "id": "d31e185c",
   "metadata": {},
   "outputs": [],
   "source": [
    "k = 3\n",
    "kernel = np.ones((k, k), np.uint8)\n",
    "dil = cv.dilate(thresh, kernel, iterations=1)\n",
    "display_image(dil)\n",
    "display_graph(dil)"
   ]
  },
  {
   "cell_type": "code",
   "execution_count": null,
   "id": "5c0956b4",
   "metadata": {},
   "outputs": [],
   "source": [
    "def model1(l):\n",
    "    maximum = max(l)\n",
    "    cutout_dip = []\n",
    "    cutout_up = []\n",
    "    \n",
    "    for i in range(len(l)):\n",
    "        if (i + 1) != len(l):\n",
    "            if l[i] == maximum:\n",
    "                if (l[i + 1] < maximum):\n",
    "                    cutout_dip.append(i)\n",
    "            if l[i] < maximum:\n",
    "                if (l[i + 1] == maximum):\n",
    "                    cutout_up.append(i + 1)\n",
    "    return cutout_up, cutout_dip\n",
    "sum_ = dil.sum(axis=0)\n",
    "cutout_up, cutout_dip = model1(sum_)\n",
    "cutout_up, cutout_dip"
   ]
  }
 ],
 "metadata": {},
 "nbformat": 4,
 "nbformat_minor": 5
}
