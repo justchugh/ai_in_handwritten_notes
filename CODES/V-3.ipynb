{
 "cells": [
  {
   "cell_type": "code",
   "execution_count": null,
   "id": "0f755ce8",
   "metadata": {},
   "outputs": [],
   "source": [
    "import numpy as np"
   ]
  },
  {
   "cell_type": "code",
   "execution_count": null,
   "id": "9c8b25be",
   "metadata": {},
   "outputs": [],
   "source": [
    "import cv2 as cv"
   ]
  },
  {
   "cell_type": "code",
   "execution_count": null,
   "id": "193fa955",
   "metadata": {},
   "outputs": [],
   "source": [
    "from matplotlib import pyplot as plt"
   ]
  },
  {
   "cell_type": "code",
   "execution_count": null,
   "id": "47098bc7",
   "metadata": {},
   "outputs": [],
   "source": [
    "def display_image(image):\n",
    "    plt.imshow(cv.cvtColor(image, cv.COLOR_BGR2RGB))\n",
    "    plt.show(block=True)"
   ]
  },
  {
   "cell_type": "code",
   "execution_count": null,
   "id": "3ab3799e",
   "metadata": {},
   "outputs": [],
   "source": [
    "def display_graph(image):\n",
    "    sum_ = image.sum(axis=0)\n",
    "    plt.figure(figsize=(15, 8))\n",
    "    x = list(range(len(sum_)))\n",
    "    y = list(sum_)\n",
    "    plt.scatter(x, y, alpha=0.5)\n",
    "    plt.show()"
   ]
  },
  {
   "cell_type": "code",
   "execution_count": null,
   "id": "45e4ff83",
   "metadata": {},
   "outputs": [],
   "source": [
    "image = cv.imread(\"3.jpg\")\n",
    "image = cv.resize(image, (500, 300))\n",
    "image = image[90:210, :]\n",
    "display_image(image)"
   ]
  },
  {
   "cell_type": "code",
   "execution_count": null,
   "id": "fa65cbc7",
   "metadata": {},
   "outputs": [],
   "source": [
    "gray = cv.cvtColor(image, cv.COLOR_BGR2GRAY)"
   ]
  },
  {
   "cell_type": "code",
   "execution_count": null,
   "id": "e2c14576",
   "metadata": {},
   "outputs": [],
   "source": [
    "display_image(gray)"
   ]
  },
  {
   "cell_type": "code",
   "execution_count": null,
   "id": "82e9f510",
   "metadata": {},
   "outputs": [],
   "source": [
    "display_graph(gray)"
   ]
  },
  {
   "cell_type": "code",
   "execution_count": null,
   "id": "e7e3d13c",
   "metadata": {},
   "outputs": [],
   "source": [
    "blur = cv.bilateralFilter(gray, 7, 75, 75)"
   ]
  },
  {
   "cell_type": "code",
   "execution_count": null,
   "id": "c978cde3",
   "metadata": {},
   "outputs": [],
   "source": [
    "display_image(blur)"
   ]
  },
  {
   "cell_type": "code",
   "execution_count": null,
   "id": "ae28ad4d",
   "metadata": {},
   "outputs": [],
   "source": [
    "display_graph(blur)"
   ]
  },
  {
   "cell_type": "code",
   "execution_count": null,
   "id": "aa3775bc",
   "metadata": {},
   "outputs": [],
   "source": [
    "thresh = cv.adaptiveThreshold(blur, 255, cv.ADAPTIVE_THRESH_GAUSSIAN_C, cv.THRESH_BINARY, 11, 2)\n",
    "display_image(thresh)\n",
    "display_graph(thresh)"
   ]
  },
  {
   "cell_type": "code",
   "execution_count": null,
   "id": "8f13f7ff",
   "metadata": {},
   "outputs": [],
   "source": [
    "k = 3\n",
    "kernel = np.ones((k, k), np.uint8)\n",
    "dil = cv.dilate(thresh, kernel, iterations=1)\n",
    "display_image(dil)\n",
    "display_graph(dil)"
   ]
  },
  {
   "cell_type": "code",
   "execution_count": null,
   "id": "ff6404e0",
   "metadata": {},
   "outputs": [],
   "source": [
    "def model1(l):\n",
    "    maximum = max(l)\n",
    "    cutout_dip = []\n",
    "    cutout_up = []\n",
    "    \n",
    "    for i in range(len(l)):\n",
    "        if (i + 1) != len(l):\n",
    "            if l[i] == maximum:\n",
    "                if (l[i + 1] < maximum):\n",
    "                    cutout_dip.append(i)\n",
    "            \n",
    "            if l[i] < maximum:\n",
    "                if (l[i + 1] == maximum):\n",
    "                    cutout_up.append(i + 1)\n",
    "    return cutout_up, cutout_dip\n",
    "sum_ = dil.sum(axis=0)\n",
    "cutout_up, cutout_dip = model1(sum_)\n",
    "cutout_up, cutout_dip"
   ]
  },
  {
   "cell_type": "code",
   "execution_count": null,
   "id": "1db6fca1",
   "metadata": {},
   "outputs": [],
   "source": [
    "def model2(image, cutout_up, cutout_dip):\n",
    "    cutout_images = []\n",
    "    for up, dip in zip(cutout_up, cutout_dip):\n",
    "        temp = image[:, dip : up]\n",
    "        cutout_images.append(temp)\n",
    "    return cutout_images\n",
    "cutout_images = model2(image, cutout_up, cutout_dip)\n",
    "len(cutout_images)"
   ]
  }
 ],
 "metadata": {},
 "nbformat": 4,
 "nbformat_minor": 5
}
