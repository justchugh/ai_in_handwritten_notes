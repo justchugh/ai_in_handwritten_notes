{
 "cells": [
  {
   "cell_type": "code",
   "execution_count": null,
   "id": "7f9967cc",
   "metadata": {},
   "outputs": [],
   "source": [
    "import numpy as np"
   ]
  },
  {
   "cell_type": "code",
   "execution_count": null,
   "id": "c8439bc9",
   "metadata": {},
   "outputs": [],
   "source": [
    "import cv2 as cv"
   ]
  },
  {
   "cell_type": "code",
   "execution_count": null,
   "id": "1cbb6367",
   "metadata": {},
   "outputs": [],
   "source": [
    "from matplotlib import pyplot as plt"
   ]
  },
  {
   "cell_type": "code",
   "execution_count": null,
   "id": "3d5aff9f",
   "metadata": {},
   "outputs": [],
   "source": [
    "def display_image(image):\n",
    "    plt.imshow(cv.cvtColor(image, cv.COLOR_BGR2RGB))\n",
    "    plt.show(block=True)"
   ]
  },
  {
   "cell_type": "code",
   "execution_count": null,
   "id": "deb1689e",
   "metadata": {},
   "outputs": [],
   "source": [
    "def display_graph(image):\n",
    "    sum_ = image.sum(axis=0)\n",
    "    plt.figure(figsize=(15, 8))\n",
    "    x = list(range(len(sum_)))\n",
    "    y = list(sum_)\n",
    "    plt.scatter(x, y, alpha=0.5)\n",
    "    plt.show()"
   ]
  },
  {
   "cell_type": "code",
   "execution_count": null,
   "id": "022f9a21",
   "metadata": {},
   "outputs": [],
   "source": [
    "image = cv.imread(\"3.jpg\")\n",
    "image = cv.resize(image, (500, 300))\n",
    "image = image[90:210, :]\n",
    "display_image(image)"
   ]
  },
  {
   "cell_type": "code",
   "execution_count": null,
   "id": "5082c6eb",
   "metadata": {},
   "outputs": [],
   "source": [
    "gray = cv.cvtColor(image, cv.COLOR_BGR2GRAY)"
   ]
  },
  {
   "cell_type": "code",
   "execution_count": null,
   "id": "ebb8668f",
   "metadata": {},
   "outputs": [],
   "source": [
    "display_image(gray)"
   ]
  },
  {
   "cell_type": "code",
   "execution_count": null,
   "id": "7ec1e0cb",
   "metadata": {},
   "outputs": [],
   "source": [
    "display_graph(gray)"
   ]
  },
  {
   "cell_type": "code",
   "execution_count": null,
   "id": "64dbc992",
   "metadata": {},
   "outputs": [],
   "source": [
    "blur = cv.bilateralFilter(gray, 7, 75, 75)"
   ]
  },
  {
   "cell_type": "code",
   "execution_count": null,
   "id": "58418dcf",
   "metadata": {},
   "outputs": [],
   "source": [
    "display_image(blur)"
   ]
  },
  {
   "cell_type": "code",
   "execution_count": null,
   "id": "f4bde1c0",
   "metadata": {},
   "outputs": [],
   "source": [
    "display_graph(blur)"
   ]
  }
 ],
 "metadata": {},
 "nbformat": 4,
 "nbformat_minor": 5
}
