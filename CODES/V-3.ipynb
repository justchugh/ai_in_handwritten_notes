{
 "cells": [
  {
   "cell_type": "code",
   "execution_count": null,
   "id": "5672481e",
   "metadata": {},
   "outputs": [],
   "source": [
    "import numpy as np"
   ]
  },
  {
   "cell_type": "code",
   "execution_count": null,
   "id": "605982cc",
   "metadata": {},
   "outputs": [],
   "source": [
    "import cv2 as cv"
   ]
  },
  {
   "cell_type": "code",
   "execution_count": null,
   "id": "9a84f3e3",
   "metadata": {},
   "outputs": [],
   "source": [
    "from matplotlib import pyplot as plt"
   ]
  },
  {
   "cell_type": "code",
   "execution_count": null,
   "id": "2e6e1b38",
   "metadata": {},
   "outputs": [],
   "source": [
    "def display_image(image):\n",
    "    plt.imshow(cv.cvtColor(image, cv.COLOR_BGR2RGB))\n",
    "    plt.show(block=True)"
   ]
  },
  {
   "cell_type": "code",
   "execution_count": null,
   "id": "cf155929",
   "metadata": {},
   "outputs": [],
   "source": [
    "def display_graph(image):\n",
    "    sum_ = image.sum(axis=0)\n",
    "    plt.figure(figsize=(15, 8))\n",
    "    x = list(range(len(sum_)))\n",
    "    y = list(sum_)\n",
    "    plt.scatter(x, y, alpha=0.5)\n",
    "    plt.show()"
   ]
  },
  {
   "cell_type": "code",
   "execution_count": null,
   "id": "2daa9302",
   "metadata": {},
   "outputs": [],
   "source": [
    "image = cv.imread(\"3.jpg\")\n",
    "image = cv.resize(image, (500, 300))\n",
    "image = image[90:210, :]\n",
    "display_image(image)"
   ]
  },
  {
   "cell_type": "code",
   "execution_count": null,
   "id": "9b169048",
   "metadata": {},
   "outputs": [],
   "source": [
    "gray = cv.cvtColor(image, cv.COLOR_BGR2GRAY)"
   ]
  },
  {
   "cell_type": "code",
   "execution_count": null,
   "id": "62a78080",
   "metadata": {},
   "outputs": [],
   "source": [
    "display_image(gray)"
   ]
  },
  {
   "cell_type": "code",
   "execution_count": null,
   "id": "3a229570",
   "metadata": {},
   "outputs": [],
   "source": [
    "display_graph(gray)"
   ]
  },
  {
   "cell_type": "code",
   "execution_count": null,
   "id": "19afa75a",
   "metadata": {},
   "outputs": [],
   "source": [
    "blur = cv.bilateralFilter(gray, 7, 75, 75)"
   ]
  },
  {
   "cell_type": "code",
   "execution_count": null,
   "id": "c86671af",
   "metadata": {},
   "outputs": [],
   "source": [
    "display_image(blur)"
   ]
  }
 ],
 "metadata": {},
 "nbformat": 4,
 "nbformat_minor": 5
}
