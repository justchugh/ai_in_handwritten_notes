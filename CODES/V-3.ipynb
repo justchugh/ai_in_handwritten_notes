{
 "cells": [
  {
   "cell_type": "code",
   "execution_count": null,
   "id": "60d75315",
   "metadata": {},
   "outputs": [],
   "source": [
    "import numpy as np"
   ]
  },
  {
   "cell_type": "code",
   "execution_count": null,
   "id": "8d8f4362",
   "metadata": {},
   "outputs": [],
   "source": [
    "import cv2 as cv"
   ]
  },
  {
   "cell_type": "code",
   "execution_count": null,
   "id": "9de80c69",
   "metadata": {},
   "outputs": [],
   "source": [
    "from matplotlib import pyplot as plt"
   ]
  },
  {
   "cell_type": "code",
   "execution_count": null,
   "id": "0263c7c1",
   "metadata": {},
   "outputs": [],
   "source": [
    "def display_image(image):\n",
    "    plt.imshow(cv.cvtColor(image, cv.COLOR_BGR2RGB))\n",
    "    plt.show(block=True)"
   ]
  },
  {
   "cell_type": "code",
   "execution_count": null,
   "id": "4640f1cf",
   "metadata": {},
   "outputs": [],
   "source": [
    "def display_graph(image):\n",
    "    sum_ = image.sum(axis=0)\n",
    "    plt.figure(figsize=(15, 8))\n",
    "    x = list(range(len(sum_)))\n",
    "    y = list(sum_)\n",
    "    plt.scatter(x, y, alpha=0.5)\n",
    "    plt.show()"
   ]
  },
  {
   "cell_type": "code",
   "execution_count": null,
   "id": "3416ac6a",
   "metadata": {},
   "outputs": [],
   "source": [
    "image = cv.imread(\"3.jpg\")\n",
    "image = cv.resize(image, (500, 300))\n",
    "image = image[90:210, :]\n",
    "display_image(image)"
   ]
  }
 ],
 "metadata": {},
 "nbformat": 4,
 "nbformat_minor": 5
}
