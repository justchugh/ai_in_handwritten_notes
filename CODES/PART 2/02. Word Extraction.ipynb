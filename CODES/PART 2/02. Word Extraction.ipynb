{
 "cells": [
  {
   "cell_type": "code",
   "execution_count": null,
   "id": "ef8f5735",
   "metadata": {},
   "outputs": [],
   "source": [
    "# Libraries"
   ]
  },
  {
   "cell_type": "code",
   "execution_count": null,
   "id": "214eae0d",
   "metadata": {},
   "outputs": [],
   "source": [
    "import numpy as np"
   ]
  },
  {
   "cell_type": "code",
   "execution_count": null,
   "id": "0b463c66",
   "metadata": {},
   "outputs": [],
   "source": [
    "from matplotlib import pyplot as plt"
   ]
  },
  {
   "cell_type": "code",
   "execution_count": null,
   "id": "fab14b1a",
   "metadata": {},
   "outputs": [],
   "source": [
    "import seaborn as sns"
   ]
  },
  {
   "cell_type": "code",
   "execution_count": null,
   "id": "4d2c5b29",
   "metadata": {},
   "outputs": [],
   "source": [
    "import cv2 as cv"
   ]
  },
  {
   "cell_type": "code",
   "execution_count": null,
   "id": "5645b1be",
   "metadata": {},
   "outputs": [],
   "source": [
    "from sklearn import linear_model"
   ]
  },
  {
   "cell_type": "code",
   "execution_count": null,
   "id": "6471f731",
   "metadata": {},
   "outputs": [],
   "source": [
    "import warnings"
   ]
  },
  {
   "cell_type": "code",
   "execution_count": null,
   "id": "faa389b8",
   "metadata": {},
   "outputs": [],
   "source": [
    "warnings.filterwarnings('ignore')"
   ]
  },
  {
   "cell_type": "code",
   "execution_count": null,
   "id": "3d7e9ff6",
   "metadata": {},
   "outputs": [],
   "source": [
    "plt.style.use('seaborn')"
   ]
  },
  {
   "cell_type": "code",
   "execution_count": null,
   "id": "df69102e",
   "metadata": {},
   "outputs": [],
   "source": [
    "# Helping Functions"
   ]
  },
  {
   "cell_type": "code",
   "execution_count": null,
   "id": "feaf8a42",
   "metadata": {},
   "outputs": [],
   "source": [
    "def plot_image(image):\n",
    "    plt.imshow(cv.cvtColor(image, cv.COLOR_BGR2RGB))\n",
    "    plt.show(block=True)"
   ]
  },
  {
   "cell_type": "code",
   "execution_count": null,
   "id": "d45a2948",
   "metadata": {},
   "outputs": [],
   "source": [
    "def display_image(image):\n",
    "    cv.imshow('image', image)\n",
    "    cv.waitKey(0)\n",
    "    cv.destroyAllWindows()"
   ]
  },
  {
   "cell_type": "code",
   "execution_count": null,
   "id": "ce99e510",
   "metadata": {},
   "outputs": [],
   "source": [
    "def MinMaxScalar(x, a=-1, b=1):\n",
    "    N = (x - x.min()) * (b - a)\n",
    "    D = (x.max() - x.min())\n",
    "    return (N / D) + a"
   ]
  },
  {
   "cell_type": "code",
   "execution_count": null,
   "id": "d879299b",
   "metadata": {},
   "outputs": [],
   "source": [
    "# Activate Functions"
   ]
  },
  {
   "cell_type": "code",
   "execution_count": null,
   "id": "ab591a80",
   "metadata": {},
   "outputs": [],
   "source": [
    "def sigmoid(t):\n",
    "    return 1 / (1 + np.exp(-t))"
   ]
  },
  {
   "cell_type": "code",
   "execution_count": null,
   "id": "0c6216df",
   "metadata": {},
   "outputs": [],
   "source": [
    "def relu(t):\n",
    "    return np.maximum(0, t)"
   ]
  },
  {
   "cell_type": "code",
   "execution_count": null,
   "id": "328b5a52",
   "metadata": {},
   "outputs": [],
   "source": [
    "def swish(t):\n",
    "    return t / (1 + np.exp(-t))"
   ]
  },
  {
   "cell_type": "code",
   "execution_count": null,
   "id": "3adccf06",
   "metadata": {},
   "outputs": [],
   "source": [
    "def softplus(t):\n",
    "    return np.log(1 + np.exp(t))"
   ]
  },
  {
   "cell_type": "code",
   "execution_count": null,
   "id": "1cd2a86a",
   "metadata": {},
   "outputs": [],
   "source": [
    "# Loadings"
   ]
  },
  {
   "cell_type": "code",
   "execution_count": null,
   "id": "cf71393c",
   "metadata": {},
   "outputs": [],
   "source": [
    "def preprocess_line(image):\n",
    "    gray = cv.cvtColor(image, cv.COLOR_BGR2GRAY)\n",
    "    blur = cv.bilateralFilter(gray, 3, 75, 75)\n",
    "    thresh = cv.adaptiveThreshold(blur, 255, cv.ADAPTIVE_THRESH_GAUSSIAN_C, cv.THRESH_BINARY, 11, 2)\n",
    "    k = 5\n",
    "    kernal = np.ones((k, k), np.uint8)\n",
    "    dilate = cv.dilate(thresh, kernal, iterations=1)\n",
    "    k = 21\n",
    "    kernal = np.ones((k, k), np.uint8)\n",
    "    erode = cv.erode(dilate, kernal, iterations=1)\n",
    "    return erode"
   ]
  },
  {
   "cell_type": "code",
   "execution_count": null,
   "id": "99ef7f53",
   "metadata": {},
   "outputs": [],
   "source": [
    "line1 = cv.imread('line1.jpg')"
   ]
  },
  {
   "cell_type": "code",
   "execution_count": null,
   "id": "7bea748f",
   "metadata": {},
   "outputs": [],
   "source": [
    "preprocessed_line1 = preprocess_line(line1)"
   ]
  },
  {
   "cell_type": "code",
   "execution_count": null,
   "id": "f19265d5",
   "metadata": {},
   "outputs": [],
   "source": [
    "plt.figure(figsize=(18, 10))\n",
    "sns.scatterplot(np.arange(len(sum_line_scaled)), sum_line_scaled, alpha=0.5, label='scaled')\n",
    "sns.scatterplot(np.arange(len(sum_line_scaled)), sigmoid(sum_line_scaled), alpha=0.7, label='sigmoid')\n",
    "sns.scatterplot(np.arange(len(sum_line_scaled)), softplus(sigmoid(sum_line_scaled)), alpha=0.7, label='softplus')"
   ]
  },
  {
   "cell_type": "code",
   "execution_count": null,
   "id": "0d831f0a",
   "metadata": {},
   "outputs": [],
   "source": [
    "def word_extraction(preprocessed_line1, line1):\n",
    "    sum_line = preprocessed_line1.sum(axis=0)\n",
    "    sum_line_scaled = MinMaxScalar(sum_line, -1, 1)\n",
    "    scaled_activated_sum = softplus(sigmoid(sum_line_scaled))\n",
    "    l = scaled_activated_sum\n",
    "    maximum = max(l)\n",
    "    cutout_dip = []\n",
    "    cutout_up = []\n",
    "    for i in range(len(l)):\n",
    "        if (i + 1) != len(l):\n",
    "            if l[i] == maximum:\n",
    "                if (l[i + 1] < maximum):\n",
    "                    cutout_dip.append(i)\n",
    "            if l[i] < maximum:\n",
    "                if (l[i + 1] == maximum):\n",
    "                    cutout_up.append(i)\n",
    "    cutout_images = []\n",
    "    gray_line1 = cv.cvtColor(line1, cv.COLOR_BGR2GRAY)\n",
    "    for up, dip in zip(cutout_up, cutout_dip):\n",
    "        temp = gray_line1[:, dip : up]\n",
    "        cutout_images.append(temp)\n",
    "    return cutout_images"
   ]
  },
  {
   "cell_type": "code",
   "execution_count": null,
   "id": "dec52960",
   "metadata": {},
   "outputs": [],
   "source": [
    "cutout_images = word_extraction(preprocessed_line1, line1)"
   ]
  },
  {
   "cell_type": "code",
   "execution_count": null,
   "id": "7c171e65",
   "metadata": {},
   "outputs": [],
   "source": [
    "for i in range(len(cutout_images)):\n",
    "    print('image number:', i + 1)\n",
    "    plt.imshow(cv.cvtColor(cutout_images[i], cv.COLOR_BGR2RGB))\n",
    "    plt.show(block=True)"
   ]
  },
  {
   "cell_type": "code",
   "execution_count": null,
   "id": "f1053704",
   "metadata": {},
   "outputs": [],
   "source": [
    "cv.imwrite('A Padding.jpg', cutout_images[0])"
   ]
  },
  {
   "cell_type": "code",
   "execution_count": null,
   "id": "c5ad1095",
   "metadata": {},
   "outputs": [],
   "source": [
    "def preprocess_word(image):\n",
    "    blur = cv.bilateralFilter(image, 3, 75, 75)\n",
    "    thresh = cv.adaptiveThreshold(blur, 255, cv.ADAPTIVE_THRESH_GAUSSIAN_C, cv.THRESH_BINARY, 11, 2)\n",
    "    k = 5\n",
    "    kernal = np.ones((k, k), np.uint8)\n",
    "    dilate = cv.dilate(thresh, kernal, iterations=1)\n",
    "    k = 15\n",
    "    kernal = np.ones((k, k), np.uint8)\n",
    "    erode = cv.erode(dilate, kernal, iterations=1)\n",
    "    return erode"
   ]
  },
  {
   "cell_type": "code",
   "execution_count": null,
   "id": "69f59b26",
   "metadata": {},
   "outputs": [],
   "source": [
    "temp1 = cutout_images[0]"
   ]
  },
  {
   "cell_type": "code",
   "execution_count": null,
   "id": "4e739335",
   "metadata": {},
   "outputs": [],
   "source": [
    "word1 = cutout_images[2]"
   ]
  }
 ],
 "metadata": {},
 "nbformat": 4,
 "nbformat_minor": 5
}
