{
 "cells": [
  {
   "cell_type": "code",
   "execution_count": null,
   "id": "7c4b6a54",
   "metadata": {},
   "outputs": [],
   "source": [
    "# Libraries"
   ]
  },
  {
   "cell_type": "code",
   "execution_count": null,
   "id": "c5653374",
   "metadata": {},
   "outputs": [],
   "source": [
    "import numpy as np"
   ]
  },
  {
   "cell_type": "code",
   "execution_count": null,
   "id": "62828cbc",
   "metadata": {},
   "outputs": [],
   "source": [
    "from matplotlib import pyplot as plt"
   ]
  },
  {
   "cell_type": "code",
   "execution_count": null,
   "id": "40dcca51",
   "metadata": {},
   "outputs": [],
   "source": [
    "import seaborn as sns"
   ]
  },
  {
   "cell_type": "code",
   "execution_count": null,
   "id": "9b5de441",
   "metadata": {},
   "outputs": [],
   "source": [
    "import cv2 as cv"
   ]
  },
  {
   "cell_type": "code",
   "execution_count": null,
   "id": "899a9241",
   "metadata": {},
   "outputs": [],
   "source": [
    "from sklearn import linear_model"
   ]
  },
  {
   "cell_type": "code",
   "execution_count": null,
   "id": "210dd3e4",
   "metadata": {},
   "outputs": [],
   "source": [
    "import warnings"
   ]
  },
  {
   "cell_type": "code",
   "execution_count": null,
   "id": "eb39a62b",
   "metadata": {},
   "outputs": [],
   "source": [
    "warnings.filterwarnings('ignore')"
   ]
  },
  {
   "cell_type": "code",
   "execution_count": null,
   "id": "06c4445b",
   "metadata": {},
   "outputs": [],
   "source": [
    "plt.style.use('seaborn')"
   ]
  },
  {
   "cell_type": "code",
   "execution_count": null,
   "id": "9b76f69a",
   "metadata": {},
   "outputs": [],
   "source": [
    "# Helping Functions"
   ]
  },
  {
   "cell_type": "code",
   "execution_count": null,
   "id": "9553128c",
   "metadata": {},
   "outputs": [],
   "source": [
    "def plot_image(image):\n",
    "    plt.imshow(cv.cvtColor(image, cv.COLOR_BGR2RGB))\n",
    "    plt.show(block=True)"
   ]
  },
  {
   "cell_type": "code",
   "execution_count": null,
   "id": "d8699f8f",
   "metadata": {},
   "outputs": [],
   "source": [
    "def display_image(image):\n",
    "    cv.imshow('image', image)\n",
    "    cv.waitKey(0)\n",
    "    cv.destroyAllWindows()"
   ]
  },
  {
   "cell_type": "code",
   "execution_count": null,
   "id": "bda1f47f",
   "metadata": {},
   "outputs": [],
   "source": [
    "def MinMaxScalar(x, a=-1, b=1):\n",
    "    N = (x - x.min()) * (b - a)\n",
    "    D = (x.max() - x.min())\n",
    "    return (N / D) + a"
   ]
  },
  {
   "cell_type": "code",
   "execution_count": null,
   "id": "21036de7",
   "metadata": {},
   "outputs": [],
   "source": [
    "# Activate Functions"
   ]
  },
  {
   "cell_type": "code",
   "execution_count": null,
   "id": "bed1d952",
   "metadata": {},
   "outputs": [],
   "source": [
    "def sigmoid(t):\n",
    "    return 1 / (1 + np.exp(-t))"
   ]
  },
  {
   "cell_type": "code",
   "execution_count": null,
   "id": "c6949055",
   "metadata": {},
   "outputs": [],
   "source": [
    "def relu(t):\n",
    "    return np.maximum(0, t)"
   ]
  },
  {
   "cell_type": "code",
   "execution_count": null,
   "id": "3c24c11a",
   "metadata": {},
   "outputs": [],
   "source": [
    "def swish(t):\n",
    "    return t / (1 + np.exp(-t))"
   ]
  },
  {
   "cell_type": "code",
   "execution_count": null,
   "id": "6136c8c1",
   "metadata": {},
   "outputs": [],
   "source": [
    "def softplus(t):\n",
    "    return np.log(1 + np.exp(t))"
   ]
  },
  {
   "cell_type": "code",
   "execution_count": null,
   "id": "a4146d33",
   "metadata": {},
   "outputs": [],
   "source": [
    "# Loadings"
   ]
  },
  {
   "cell_type": "code",
   "execution_count": null,
   "id": "2ca828e0",
   "metadata": {},
   "outputs": [],
   "source": [
    "def preprocess_line(image):\n",
    "    gray = cv.cvtColor(image, cv.COLOR_BGR2GRAY)\n",
    "    blur = cv.bilateralFilter(gray, 3, 75, 75)\n",
    "    thresh = cv.adaptiveThreshold(blur, 255, cv.ADAPTIVE_THRESH_GAUSSIAN_C, cv.THRESH_BINARY, 11, 2)\n",
    "    k = 5\n",
    "    kernal = np.ones((k, k), np.uint8)\n",
    "    dilate = cv.dilate(thresh, kernal, iterations=1)\n",
    "    k = 21\n",
    "    kernal = np.ones((k, k), np.uint8)\n",
    "    erode = cv.erode(dilate, kernal, iterations=1)\n",
    "    return erode"
   ]
  },
  {
   "cell_type": "code",
   "execution_count": null,
   "id": "1d43d5c2",
   "metadata": {},
   "outputs": [],
   "source": [
    "line1 = cv.imread('line1.jpg')"
   ]
  },
  {
   "cell_type": "code",
   "execution_count": null,
   "id": "177b382b",
   "metadata": {},
   "outputs": [],
   "source": [
    "preprocessed_line1 = preprocess_line(line1)"
   ]
  },
  {
   "cell_type": "code",
   "execution_count": null,
   "id": "baae03b8",
   "metadata": {},
   "outputs": [],
   "source": [
    "plt.figure(figsize=(18, 10))\n",
    "sns.scatterplot(np.arange(len(sum_line_scaled)), sum_line_scaled, alpha=0.5, label='scaled')\n",
    "sns.scatterplot(np.arange(len(sum_line_scaled)), sigmoid(sum_line_scaled), alpha=0.7, label='sigmoid')\n",
    "sns.scatterplot(np.arange(len(sum_line_scaled)), softplus(sigmoid(sum_line_scaled)), alpha=0.7, label='softplus')"
   ]
  },
  {
   "cell_type": "code",
   "execution_count": null,
   "id": "fdf5848e",
   "metadata": {},
   "outputs": [],
   "source": [
    "def word_extraction(preprocessed_line1, line1):\n",
    "    sum_line = preprocessed_line1.sum(axis=0)\n",
    "    sum_line_scaled = MinMaxScalar(sum_line, -1, 1)\n",
    "    scaled_activated_sum = softplus(sigmoid(sum_line_scaled))\n",
    "    l = scaled_activated_sum\n",
    "    maximum = max(l)\n",
    "    cutout_dip = []\n",
    "    cutout_up = []\n",
    "    for i in range(len(l)):\n",
    "        if (i + 1) != len(l):\n",
    "            if l[i] == maximum:\n",
    "                if (l[i + 1] < maximum):\n",
    "                    cutout_dip.append(i)\n",
    "            if l[i] < maximum:\n",
    "                if (l[i + 1] == maximum):\n",
    "                    cutout_up.append(i)\n",
    "    cutout_images = []\n",
    "    gray_line1 = cv.cvtColor(line1, cv.COLOR_BGR2GRAY)\n",
    "    for up, dip in zip(cutout_up, cutout_dip):\n",
    "        temp = gray_line1[:, dip : up]\n",
    "        cutout_images.append(temp)\n",
    "    return cutout_images"
   ]
  },
  {
   "cell_type": "code",
   "execution_count": null,
   "id": "0092c66e",
   "metadata": {},
   "outputs": [],
   "source": [
    "cutout_images = word_extraction(preprocessed_line1, line1)"
   ]
  },
  {
   "cell_type": "code",
   "execution_count": null,
   "id": "9774eb06",
   "metadata": {},
   "outputs": [],
   "source": [
    "for i in range(len(cutout_images)):\n",
    "    print('image number:', i + 1)\n",
    "    plt.imshow(cv.cvtColor(cutout_images[i], cv.COLOR_BGR2RGB))\n",
    "    plt.show(block=True)"
   ]
  },
  {
   "cell_type": "code",
   "execution_count": null,
   "id": "6641d879",
   "metadata": {},
   "outputs": [],
   "source": [
    "cv.imwrite('A Padding.jpg', cutout_images[0])"
   ]
  },
  {
   "cell_type": "code",
   "execution_count": null,
   "id": "65f683ce",
   "metadata": {},
   "outputs": [],
   "source": [
    "def preprocess_word(image):\n",
    "    blur = cv.bilateralFilter(image, 3, 75, 75)\n",
    "    thresh = cv.adaptiveThreshold(blur, 255, cv.ADAPTIVE_THRESH_GAUSSIAN_C, cv.THRESH_BINARY, 11, 2)\n",
    "    k = 5\n",
    "    kernal = np.ones((k, k), np.uint8)\n",
    "    dilate = cv.dilate(thresh, kernal, iterations=1)\n",
    "    k = 15\n",
    "    kernal = np.ones((k, k), np.uint8)\n",
    "    erode = cv.erode(dilate, kernal, iterations=1)\n",
    "    return erode"
   ]
  },
  {
   "cell_type": "code",
   "execution_count": null,
   "id": "9eece0c0",
   "metadata": {},
   "outputs": [],
   "source": [
    "temp1 = cutout_images[0]"
   ]
  }
 ],
 "metadata": {},
 "nbformat": 4,
 "nbformat_minor": 5
}
