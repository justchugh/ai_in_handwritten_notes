{
 "cells": [
  {
   "cell_type": "code",
   "execution_count": null,
   "id": "13987199",
   "metadata": {},
   "outputs": [],
   "source": [
    "# Libraries"
   ]
  },
  {
   "cell_type": "code",
   "execution_count": null,
   "id": "2f2c927a",
   "metadata": {},
   "outputs": [],
   "source": [
    "import numpy as np"
   ]
  },
  {
   "cell_type": "code",
   "execution_count": null,
   "id": "1d9247b1",
   "metadata": {},
   "outputs": [],
   "source": [
    "from matplotlib import pyplot as plt"
   ]
  },
  {
   "cell_type": "code",
   "execution_count": null,
   "id": "89fcd469",
   "metadata": {},
   "outputs": [],
   "source": [
    "import seaborn as sns"
   ]
  },
  {
   "cell_type": "code",
   "execution_count": null,
   "id": "d456bec7",
   "metadata": {},
   "outputs": [],
   "source": [
    "import cv2 as cv"
   ]
  },
  {
   "cell_type": "code",
   "execution_count": null,
   "id": "d42ca2ac",
   "metadata": {},
   "outputs": [],
   "source": [
    "from sklearn import linear_model"
   ]
  },
  {
   "cell_type": "code",
   "execution_count": null,
   "id": "9c9f6667",
   "metadata": {},
   "outputs": [],
   "source": [
    "import warnings"
   ]
  },
  {
   "cell_type": "code",
   "execution_count": null,
   "id": "727c067a",
   "metadata": {},
   "outputs": [],
   "source": [
    "warnings.filterwarnings('ignore')"
   ]
  },
  {
   "cell_type": "code",
   "execution_count": null,
   "id": "4c83e4b9",
   "metadata": {},
   "outputs": [],
   "source": [
    "plt.style.use('seaborn')"
   ]
  },
  {
   "cell_type": "code",
   "execution_count": null,
   "id": "65e35f12",
   "metadata": {},
   "outputs": [],
   "source": [
    "# Helping Functions"
   ]
  },
  {
   "cell_type": "code",
   "execution_count": null,
   "id": "761d2ed9",
   "metadata": {},
   "outputs": [],
   "source": [
    "def plot_image(image):\n",
    "    plt.imshow(cv.cvtColor(image, cv.COLOR_BGR2RGB))\n",
    "    plt.show(block=True)"
   ]
  },
  {
   "cell_type": "code",
   "execution_count": null,
   "id": "664201f4",
   "metadata": {},
   "outputs": [],
   "source": [
    "def display_image(image):\n",
    "    cv.imshow('image', image)\n",
    "    cv.waitKey(0)\n",
    "    cv.destroyAllWindows()"
   ]
  },
  {
   "cell_type": "code",
   "execution_count": null,
   "id": "c4d6b4fa",
   "metadata": {},
   "outputs": [],
   "source": [
    "def MinMaxScalar(x, a=-1, b=1):\n",
    "    N = (x - x.min()) * (b - a)\n",
    "    D = (x.max() - x.min())\n",
    "    return (N / D) + a"
   ]
  },
  {
   "cell_type": "code",
   "execution_count": null,
   "id": "b08b47ad",
   "metadata": {},
   "outputs": [],
   "source": [
    "# Activate Functions"
   ]
  },
  {
   "cell_type": "code",
   "execution_count": null,
   "id": "99d34904",
   "metadata": {},
   "outputs": [],
   "source": [
    "def sigmoid(t):\n",
    "    return 1 / (1 + np.exp(-t))"
   ]
  },
  {
   "cell_type": "code",
   "execution_count": null,
   "id": "92efe2cf",
   "metadata": {},
   "outputs": [],
   "source": [
    "def relu(t):\n",
    "    return np.maximum(0, t)"
   ]
  },
  {
   "cell_type": "code",
   "execution_count": null,
   "id": "547ba110",
   "metadata": {},
   "outputs": [],
   "source": [
    "# Loadings"
   ]
  }
 ],
 "metadata": {},
 "nbformat": 4,
 "nbformat_minor": 5
}
