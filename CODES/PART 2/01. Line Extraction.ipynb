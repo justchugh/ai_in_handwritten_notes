{
 "cells": [
  {
   "cell_type": "code",
   "execution_count": null,
   "id": "8bf47037",
   "metadata": {},
   "outputs": [],
   "source": [
    "# Libraries"
   ]
  },
  {
   "cell_type": "code",
   "execution_count": null,
   "id": "6497a135",
   "metadata": {},
   "outputs": [],
   "source": [
    "import numpy as np"
   ]
  },
  {
   "cell_type": "code",
   "execution_count": null,
   "id": "66c0951e",
   "metadata": {},
   "outputs": [],
   "source": [
    "from matplotlib import pyplot as plt"
   ]
  },
  {
   "cell_type": "code",
   "execution_count": null,
   "id": "a0c9120c",
   "metadata": {},
   "outputs": [],
   "source": [
    "import seaborn as sns"
   ]
  },
  {
   "cell_type": "code",
   "execution_count": null,
   "id": "f53a5dbb",
   "metadata": {},
   "outputs": [],
   "source": [
    "import cv2 as cv"
   ]
  },
  {
   "cell_type": "code",
   "execution_count": null,
   "id": "188b897f",
   "metadata": {},
   "outputs": [],
   "source": [
    "from sklearn import linear_model"
   ]
  },
  {
   "cell_type": "code",
   "execution_count": null,
   "id": "29a53bc5",
   "metadata": {},
   "outputs": [],
   "source": [
    "import warnings"
   ]
  },
  {
   "cell_type": "code",
   "execution_count": null,
   "id": "6e7156c2",
   "metadata": {},
   "outputs": [],
   "source": [
    "warnings.filterwarnings('ignore')"
   ]
  },
  {
   "cell_type": "code",
   "execution_count": null,
   "id": "8e0c6a66",
   "metadata": {},
   "outputs": [],
   "source": [
    "# Helping Functions"
   ]
  },
  {
   "cell_type": "code",
   "execution_count": null,
   "id": "9cf77cb0",
   "metadata": {},
   "outputs": [],
   "source": [
    "def plot_image(image):\n",
    "    plt.imshow(cv.cvtColor(image, cv.COLOR_BGR2RGB))\n",
    "    plt.show(block=True)"
   ]
  },
  {
   "cell_type": "code",
   "execution_count": null,
   "id": "e38af343",
   "metadata": {},
   "outputs": [],
   "source": [
    "def display_image(image):\n",
    "    cv.imshow('image', image)\n",
    "    cv.waitKey(0)\n",
    "    cv.destroyAllWindows()"
   ]
  },
  {
   "cell_type": "code",
   "execution_count": null,
   "id": "cd4732a0",
   "metadata": {},
   "outputs": [],
   "source": [
    "def plot_graph(image, i=0):\n",
    "    sum_ = image.sum(axis=i)\n",
    "    plt.figure(figsize=(15, 8))\n",
    "    x = list(range(len(sum_)))\n",
    "    y = list(sum_)\n",
    "    plt.scatter(x, y, alpha=0.5)\n",
    "    plt.show()"
   ]
  },
  {
   "cell_type": "code",
   "execution_count": null,
   "id": "07a3f0ca",
   "metadata": {},
   "outputs": [],
   "source": [
    "# Loading"
   ]
  },
  {
   "cell_type": "code",
   "execution_count": null,
   "id": "9febd211",
   "metadata": {},
   "outputs": [],
   "source": [
    "r_image = cv.imread('page03.jpg')"
   ]
  },
  {
   "cell_type": "code",
   "execution_count": null,
   "id": "0c49c1f7",
   "metadata": {},
   "outputs": [],
   "source": [
    "gray = cv.cvtColor(r_image, cv.COLOR_BGR2GRAY)"
   ]
  },
  {
   "cell_type": "code",
   "execution_count": null,
   "id": "1c6b334d",
   "metadata": {},
   "outputs": [],
   "source": [
    "plot_image(r_image)"
   ]
  },
  {
   "cell_type": "code",
   "execution_count": null,
   "id": "488bdb47",
   "metadata": {},
   "outputs": [],
   "source": [
    "# Preprocessing"
   ]
  },
  {
   "cell_type": "code",
   "execution_count": null,
   "id": "7a55b6e6",
   "metadata": {},
   "outputs": [],
   "source": [
    "def preprocess_image(image):\n",
    "    gray = cv.cvtColor(image, cv.COLOR_BGR2GRAY)\n",
    "    blur = cv.bilateralFilter(gray, 3, 75, 75)\n",
    "    thresh = cv.adaptiveThreshold(blur, 255, cv.ADAPTIVE_THRESH_GAUSSIAN_C, cv.THRESH_BINARY, 11, 2)\n",
    "    k = 3\n",
    "    kernal = np.ones((k, k), np.uint8)\n",
    "    dilate = cv.dilate(thresh, kernal, iterations=1)\n",
    "    k = 1\n",
    "    kernal = np.ones((k, k), np.uint8)\n",
    "    erode = cv.erode(dilate, kernal, iterations=1)\n",
    "    return erode"
   ]
  },
  {
   "cell_type": "code",
   "execution_count": null,
   "id": "314bc4f1",
   "metadata": {},
   "outputs": [],
   "source": [
    "preprocess_imaged = preprocess_image(r_image)"
   ]
  },
  {
   "cell_type": "code",
   "execution_count": null,
   "id": "cc2ab260",
   "metadata": {},
   "outputs": [],
   "source": [
    "plot_image(preprocess_imaged)"
   ]
  },
  {
   "cell_type": "code",
   "execution_count": null,
   "id": "5117d628",
   "metadata": {},
   "outputs": [],
   "source": [
    "# Line Extraction"
   ]
  },
  {
   "cell_type": "code",
   "execution_count": null,
   "id": "1492b8d1",
   "metadata": {},
   "outputs": [],
   "source": [
    "def line_extraction(preprocess_imaged, r_image):\n",
    "    gray = cv.cvtColor(r_image, cv.COLOR_BGR2GRAY)\n",
    "    edges = cv.Canny(preprocess_imaged, 0, 125, apertureSize=3)\n",
    "    lines = cv.HoughLinesP(edges, 1, np.pi / 180, 100, minLineLength=int(r_image.shape[1] * 0.0002))\n",
    "    Y = [0,]\n",
    "    for line in lines:\n",
    "        x1, y1, x2, y2 = line[0]\n",
    "        Y.append(y1)\n",
    "    Y.append(gray.shape[0])\n",
    "    Y = sorted(Y)\n",
    "    Y_m = []\n",
    "    for i in range(len(Y)):\n",
    "        if i == len(Y)-1:\n",
    "            break\n",
    "        Y_m.append(Y[i + 1] - Y[i])\n",
    "    LR = linear_model.LinearRegression()\n",
    "    LR.fit(np.array(range(len(Y_m))).reshape(-1, 1), np.array(Y_m))\n",
    "    m = LR.coef_ \n",
    "    c = LR.intercept_\n",
    "    Y_bool = (np.array(Y_m) - (m * np.array(range(len(Y_m)))) - c) > 0\n",
    "    Y_bool = np.where(Y_bool>0)[0]\n",
    "    line_extractions = []\n",
    "    for i in range(len(Y_bool)):\n",
    "        line_extractions.append(r_image[:][Y[Y_bool[i]] : Y[Y_bool[i] + 1]])\n",
    "    return line_extractions, Y, edges, lines, r_image"
   ]
  },
  {
   "cell_type": "code",
   "execution_count": null,
   "id": "2b954a44",
   "metadata": {},
   "outputs": [],
   "source": [
    "line_extractions, Y, edges, lines, r_image = line_extraction(preprocess_imaged, r_image)"
   ]
  },
  {
   "cell_type": "code",
   "execution_count": null,
   "id": "7c0d89c6",
   "metadata": {},
   "outputs": [],
   "source": [
    "len(Y)"
   ]
  },
  {
   "cell_type": "code",
   "execution_count": null,
   "id": "51e5b889",
   "metadata": {},
   "outputs": [],
   "source": [
    "sns.scatterplot(range(len(Y)), Y)"
   ]
  },
  {
   "cell_type": "code",
   "execution_count": null,
   "id": "96f46b37",
   "metadata": {},
   "outputs": [],
   "source": [
    "for line in line_extractions: plot_image(line)"
   ]
  },
  {
   "cell_type": "code",
   "execution_count": null,
   "id": "f7e88d68",
   "metadata": {},
   "outputs": [],
   "source": [
    "line1 = line_extractions[0]"
   ]
  },
  {
   "cell_type": "code",
   "execution_count": null,
   "id": "68aab7f9",
   "metadata": {},
   "outputs": [],
   "source": [
    "cv.imwrite('line1.jpg', line1)"
   ]
  },
  {
   "cell_type": "code",
   "execution_count": null,
   "id": "0d7b7b25",
   "metadata": {},
   "outputs": [],
   "source": [
    "line2 = line_extractions[1]"
   ]
  },
  {
   "cell_type": "code",
   "execution_count": null,
   "id": "22563bc2",
   "metadata": {},
   "outputs": [],
   "source": [
    "cv.imwrite('line2.jpg', line2)"
   ]
  },
  {
   "cell_type": "code",
   "execution_count": null,
   "id": "76998a31",
   "metadata": {},
   "outputs": [],
   "source": [
    "line3 = line_extractions[2]"
   ]
  },
  {
   "cell_type": "code",
   "execution_count": null,
   "id": "358dbc9d",
   "metadata": {},
   "outputs": [],
   "source": [
    "cv.imwrite('line3.jpg', line3)"
   ]
  }
 ],
 "metadata": {},
 "nbformat": 4,
 "nbformat_minor": 5
}
