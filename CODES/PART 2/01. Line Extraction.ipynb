{
 "cells": [
  {
   "cell_type": "code",
   "execution_count": null,
   "id": "d7b3a463",
   "metadata": {},
   "outputs": [],
   "source": [
    "# Libraries"
   ]
  },
  {
   "cell_type": "code",
   "execution_count": null,
   "id": "1ee8e068",
   "metadata": {},
   "outputs": [],
   "source": [
    "import numpy as np"
   ]
  },
  {
   "cell_type": "code",
   "execution_count": null,
   "id": "d0478ff0",
   "metadata": {},
   "outputs": [],
   "source": [
    "from matplotlib import pyplot as plt"
   ]
  },
  {
   "cell_type": "code",
   "execution_count": null,
   "id": "d27a49b4",
   "metadata": {},
   "outputs": [],
   "source": [
    "import seaborn as sns"
   ]
  },
  {
   "cell_type": "code",
   "execution_count": null,
   "id": "c12a6a98",
   "metadata": {},
   "outputs": [],
   "source": [
    "import cv2 as cv"
   ]
  },
  {
   "cell_type": "code",
   "execution_count": null,
   "id": "7ddfaa38",
   "metadata": {},
   "outputs": [],
   "source": [
    "from sklearn import linear_model"
   ]
  },
  {
   "cell_type": "code",
   "execution_count": null,
   "id": "911a1544",
   "metadata": {},
   "outputs": [],
   "source": [
    "import warnings"
   ]
  },
  {
   "cell_type": "code",
   "execution_count": null,
   "id": "f037511f",
   "metadata": {},
   "outputs": [],
   "source": [
    "warnings.filterwarnings('ignore')"
   ]
  },
  {
   "cell_type": "code",
   "execution_count": null,
   "id": "7d73ebfd",
   "metadata": {},
   "outputs": [],
   "source": [
    "# Helping Functions"
   ]
  },
  {
   "cell_type": "code",
   "execution_count": null,
   "id": "8e360113",
   "metadata": {},
   "outputs": [],
   "source": [
    "def plot_image(image):\n",
    "    plt.imshow(cv.cvtColor(image, cv.COLOR_BGR2RGB))\n",
    "    plt.show(block=True)"
   ]
  },
  {
   "cell_type": "code",
   "execution_count": null,
   "id": "01f2158c",
   "metadata": {},
   "outputs": [],
   "source": [
    "def display_image(image):\n",
    "    cv.imshow('image', image)\n",
    "    cv.waitKey(0)\n",
    "    cv.destroyAllWindows()"
   ]
  },
  {
   "cell_type": "code",
   "execution_count": null,
   "id": "d03e444a",
   "metadata": {},
   "outputs": [],
   "source": [
    "def plot_graph(image, i=0):\n",
    "    sum_ = image.sum(axis=i)\n",
    "    plt.figure(figsize=(15, 8))\n",
    "    x = list(range(len(sum_)))\n",
    "    y = list(sum_)\n",
    "    plt.scatter(x, y, alpha=0.5)\n",
    "    plt.show()"
   ]
  },
  {
   "cell_type": "code",
   "execution_count": null,
   "id": "254b7da9",
   "metadata": {},
   "outputs": [],
   "source": [
    "# Loading"
   ]
  },
  {
   "cell_type": "code",
   "execution_count": null,
   "id": "db1247fb",
   "metadata": {},
   "outputs": [],
   "source": [
    "r_image = cv.imread('page03.jpg')"
   ]
  },
  {
   "cell_type": "code",
   "execution_count": null,
   "id": "08314c98",
   "metadata": {},
   "outputs": [],
   "source": [
    "gray = cv.cvtColor(r_image, cv.COLOR_BGR2GRAY)"
   ]
  },
  {
   "cell_type": "code",
   "execution_count": null,
   "id": "ac2e9147",
   "metadata": {},
   "outputs": [],
   "source": [
    "plot_image(r_image)"
   ]
  },
  {
   "cell_type": "code",
   "execution_count": null,
   "id": "5aff7027",
   "metadata": {},
   "outputs": [],
   "source": [
    "# Preprocessing"
   ]
  },
  {
   "cell_type": "code",
   "execution_count": null,
   "id": "9fab329a",
   "metadata": {},
   "outputs": [],
   "source": [
    "def preprocess_image(image):\n",
    "    gray = cv.cvtColor(image, cv.COLOR_BGR2GRAY)\n",
    "    blur = cv.bilateralFilter(gray, 3, 75, 75)\n",
    "    thresh = cv.adaptiveThreshold(blur, 255, cv.ADAPTIVE_THRESH_GAUSSIAN_C, cv.THRESH_BINARY, 11, 2)\n",
    "    k = 3\n",
    "    kernal = np.ones((k, k), np.uint8)\n",
    "    dilate = cv.dilate(thresh, kernal, iterations=1)\n",
    "    k = 1\n",
    "    kernal = np.ones((k, k), np.uint8)\n",
    "    erode = cv.erode(dilate, kernal, iterations=1)\n",
    "    return erode"
   ]
  },
  {
   "cell_type": "code",
   "execution_count": null,
   "id": "dc69d6ec",
   "metadata": {},
   "outputs": [],
   "source": [
    "preprocess_imaged = preprocess_image(r_image)"
   ]
  },
  {
   "cell_type": "code",
   "execution_count": null,
   "id": "d4a6661d",
   "metadata": {},
   "outputs": [],
   "source": [
    "plot_image(preprocess_imaged)"
   ]
  },
  {
   "cell_type": "code",
   "execution_count": null,
   "id": "d61610fb",
   "metadata": {},
   "outputs": [],
   "source": [
    "# Line Extraction"
   ]
  },
  {
   "cell_type": "code",
   "execution_count": null,
   "id": "7bffa7ce",
   "metadata": {},
   "outputs": [],
   "source": [
    "def line_extraction(preprocess_imaged, r_image):\n",
    "    gray = cv.cvtColor(r_image, cv.COLOR_BGR2GRAY)\n",
    "    edges = cv.Canny(preprocess_imaged, 0, 125, apertureSize=3)\n",
    "    lines = cv.HoughLinesP(edges, 1, np.pi / 180, 100, minLineLength=int(r_image.shape[1] * 0.0002))\n",
    "    Y = [0,]\n",
    "    for line in lines:\n",
    "        x1, y1, x2, y2 = line[0]\n",
    "        Y.append(y1)\n",
    "    Y.append(gray.shape[0])\n",
    "    Y = sorted(Y)\n",
    "    Y_m = []\n",
    "    for i in range(len(Y)):\n",
    "        if i == len(Y)-1:\n",
    "            break\n",
    "        Y_m.append(Y[i + 1] - Y[i])\n",
    "    LR = linear_model.LinearRegression()\n",
    "    LR.fit(np.array(range(len(Y_m))).reshape(-1, 1), np.array(Y_m))\n",
    "    m = LR.coef_ \n",
    "    c = LR.intercept_\n",
    "    Y_bool = (np.array(Y_m) - (m * np.array(range(len(Y_m)))) - c) > 0\n",
    "    Y_bool = np.where(Y_bool>0)[0]\n",
    "    line_extractions = []\n",
    "    for i in range(len(Y_bool)):\n",
    "        line_extractions.append(r_image[:][Y[Y_bool[i]] : Y[Y_bool[i] + 1]])\n",
    "    return line_extractions, Y, edges, lines, r_image"
   ]
  },
  {
   "cell_type": "code",
   "execution_count": null,
   "id": "7f420deb",
   "metadata": {},
   "outputs": [],
   "source": [
    "line_extractions, Y, edges, lines, r_image = line_extraction(preprocess_imaged, r_image)"
   ]
  },
  {
   "cell_type": "code",
   "execution_count": null,
   "id": "17690e55",
   "metadata": {},
   "outputs": [],
   "source": [
    "len(Y)"
   ]
  },
  {
   "cell_type": "code",
   "execution_count": null,
   "id": "e357a4cc",
   "metadata": {},
   "outputs": [],
   "source": [
    "sns.scatterplot(range(len(Y)), Y)"
   ]
  },
  {
   "cell_type": "code",
   "execution_count": null,
   "id": "c439e7a1",
   "metadata": {},
   "outputs": [],
   "source": [
    "for line in line_extractions: plot_image(line)"
   ]
  },
  {
   "cell_type": "code",
   "execution_count": null,
   "id": "92d7a7fe",
   "metadata": {},
   "outputs": [],
   "source": [
    "line1 = line_extractions[0]"
   ]
  }
 ],
 "metadata": {},
 "nbformat": 4,
 "nbformat_minor": 5
}
