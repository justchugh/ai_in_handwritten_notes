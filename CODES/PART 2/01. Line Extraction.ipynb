{
 "cells": [
  {
   "cell_type": "code",
   "execution_count": null,
   "id": "2d3f2003",
   "metadata": {},
   "outputs": [],
   "source": [
    "# Libraries"
   ]
  },
  {
   "cell_type": "code",
   "execution_count": null,
   "id": "ebeb7340",
   "metadata": {},
   "outputs": [],
   "source": [
    "import numpy as np"
   ]
  },
  {
   "cell_type": "code",
   "execution_count": null,
   "id": "4e8d6c3e",
   "metadata": {},
   "outputs": [],
   "source": [
    "from matplotlib import pyplot as plt"
   ]
  },
  {
   "cell_type": "code",
   "execution_count": null,
   "id": "38061c29",
   "metadata": {},
   "outputs": [],
   "source": [
    "import seaborn as sns"
   ]
  },
  {
   "cell_type": "code",
   "execution_count": null,
   "id": "4fa0b73f",
   "metadata": {},
   "outputs": [],
   "source": [
    "import cv2 as cv"
   ]
  },
  {
   "cell_type": "code",
   "execution_count": null,
   "id": "66eb2fac",
   "metadata": {},
   "outputs": [],
   "source": [
    "from sklearn import linear_model"
   ]
  },
  {
   "cell_type": "code",
   "execution_count": null,
   "id": "0397c398",
   "metadata": {},
   "outputs": [],
   "source": [
    "import warnings"
   ]
  },
  {
   "cell_type": "code",
   "execution_count": null,
   "id": "0af9d03c",
   "metadata": {},
   "outputs": [],
   "source": [
    "warnings.filterwarnings('ignore')"
   ]
  },
  {
   "cell_type": "code",
   "execution_count": null,
   "id": "4231772f",
   "metadata": {},
   "outputs": [],
   "source": [
    "# Helping Functions"
   ]
  },
  {
   "cell_type": "code",
   "execution_count": null,
   "id": "2a549960",
   "metadata": {},
   "outputs": [],
   "source": [
    "def plot_image(image):\n",
    "    plt.imshow(cv.cvtColor(image, cv.COLOR_BGR2RGB))\n",
    "    plt.show(block=True)"
   ]
  },
  {
   "cell_type": "code",
   "execution_count": null,
   "id": "4a82abfb",
   "metadata": {},
   "outputs": [],
   "source": [
    "def display_image(image):\n",
    "    cv.imshow('image', image)\n",
    "    cv.waitKey(0)\n",
    "    cv.destroyAllWindows()"
   ]
  },
  {
   "cell_type": "code",
   "execution_count": null,
   "id": "03ab81d9",
   "metadata": {},
   "outputs": [],
   "source": [
    "def plot_graph(image, i=0):\n",
    "    sum_ = image.sum(axis=i)\n",
    "    plt.figure(figsize=(15, 8))\n",
    "    x = list(range(len(sum_)))\n",
    "    y = list(sum_)\n",
    "    plt.scatter(x, y, alpha=0.5)\n",
    "    plt.show()"
   ]
  },
  {
   "cell_type": "code",
   "execution_count": null,
   "id": "a1441dc3",
   "metadata": {},
   "outputs": [],
   "source": [
    "# Loading"
   ]
  },
  {
   "cell_type": "code",
   "execution_count": null,
   "id": "719fffaa",
   "metadata": {},
   "outputs": [],
   "source": [
    "r_image = cv.imread('page03.jpg')"
   ]
  },
  {
   "cell_type": "code",
   "execution_count": null,
   "id": "cade25ed",
   "metadata": {},
   "outputs": [],
   "source": [
    "gray = cv.cvtColor(r_image, cv.COLOR_BGR2GRAY)"
   ]
  },
  {
   "cell_type": "code",
   "execution_count": null,
   "id": "6f93c68b",
   "metadata": {},
   "outputs": [],
   "source": [
    "plot_image(r_image)"
   ]
  },
  {
   "cell_type": "code",
   "execution_count": null,
   "id": "20a113ab",
   "metadata": {},
   "outputs": [],
   "source": [
    "# Preprocessing"
   ]
  },
  {
   "cell_type": "code",
   "execution_count": null,
   "id": "d56ba5d7",
   "metadata": {},
   "outputs": [],
   "source": [
    "def preprocess_image(image):\n",
    "    gray = cv.cvtColor(image, cv.COLOR_BGR2GRAY)\n",
    "    blur = cv.bilateralFilter(gray, 3, 75, 75)\n",
    "    thresh = cv.adaptiveThreshold(blur, 255, cv.ADAPTIVE_THRESH_GAUSSIAN_C, cv.THRESH_BINARY, 11, 2)\n",
    "    k = 3\n",
    "    kernal = np.ones((k, k), np.uint8)\n",
    "    dilate = cv.dilate(thresh, kernal, iterations=1)\n",
    "    k = 1\n",
    "    kernal = np.ones((k, k), np.uint8)\n",
    "    erode = cv.erode(dilate, kernal, iterations=1)\n",
    "    return erode"
   ]
  },
  {
   "cell_type": "code",
   "execution_count": null,
   "id": "ad50f2f6",
   "metadata": {},
   "outputs": [],
   "source": [
    "preprocess_imaged = preprocess_image(r_image)"
   ]
  },
  {
   "cell_type": "code",
   "execution_count": null,
   "id": "0b098dab",
   "metadata": {},
   "outputs": [],
   "source": [
    "plot_image(preprocess_imaged)"
   ]
  },
  {
   "cell_type": "code",
   "execution_count": null,
   "id": "d29b4e1f",
   "metadata": {},
   "outputs": [],
   "source": [
    "# Line Extraction"
   ]
  },
  {
   "cell_type": "code",
   "execution_count": null,
   "id": "22ccdb07",
   "metadata": {},
   "outputs": [],
   "source": [
    "def line_extraction(preprocess_imaged, r_image):\n",
    "    gray = cv.cvtColor(r_image, cv.COLOR_BGR2GRAY)\n",
    "    edges = cv.Canny(preprocess_imaged, 0, 125, apertureSize=3)\n",
    "    lines = cv.HoughLinesP(edges, 1, np.pi / 180, 100, minLineLength=int(r_image.shape[1] * 0.0002))\n",
    "    Y = [0,]\n",
    "    for line in lines:\n",
    "        x1, y1, x2, y2 = line[0]\n",
    "        Y.append(y1)\n",
    "    Y.append(gray.shape[0])\n",
    "    Y = sorted(Y)\n",
    "    Y_m = []\n",
    "    for i in range(len(Y)):\n",
    "        if i == len(Y)-1:\n",
    "            break\n",
    "        Y_m.append(Y[i + 1] - Y[i])\n",
    "    LR = linear_model.LinearRegression()\n",
    "    LR.fit(np.array(range(len(Y_m))).reshape(-1, 1), np.array(Y_m))\n",
    "    m = LR.coef_ \n",
    "    c = LR.intercept_\n",
    "    Y_bool = (np.array(Y_m) - (m * np.array(range(len(Y_m)))) - c) > 0\n",
    "    Y_bool = np.where(Y_bool>0)[0]\n",
    "    line_extractions = []\n",
    "    for i in range(len(Y_bool)):\n",
    "        line_extractions.append(r_image[:][Y[Y_bool[i]] : Y[Y_bool[i] + 1]])\n",
    "    return line_extractions, Y, edges, lines, r_image"
   ]
  },
  {
   "cell_type": "code",
   "execution_count": null,
   "id": "c26f05ff",
   "metadata": {},
   "outputs": [],
   "source": [
    "line_extractions, Y, edges, lines, r_image = line_extraction(preprocess_imaged, r_image)"
   ]
  },
  {
   "cell_type": "code",
   "execution_count": null,
   "id": "94ca40ff",
   "metadata": {},
   "outputs": [],
   "source": [
    "len(Y)"
   ]
  },
  {
   "cell_type": "code",
   "execution_count": null,
   "id": "5cea0484",
   "metadata": {},
   "outputs": [],
   "source": [
    "sns.scatterplot(range(len(Y)), Y)"
   ]
  }
 ],
 "metadata": {},
 "nbformat": 4,
 "nbformat_minor": 5
}
