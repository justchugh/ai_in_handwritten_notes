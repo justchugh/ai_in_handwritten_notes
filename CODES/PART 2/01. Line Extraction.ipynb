{
 "cells": [
  {
   "cell_type": "code",
   "execution_count": null,
   "id": "c2ebb6f3",
   "metadata": {},
   "outputs": [],
   "source": [
    "# Libraries"
   ]
  },
  {
   "cell_type": "code",
   "execution_count": null,
   "id": "18a2285c",
   "metadata": {},
   "outputs": [],
   "source": [
    "import numpy as np"
   ]
  },
  {
   "cell_type": "code",
   "execution_count": null,
   "id": "fb1c3625",
   "metadata": {},
   "outputs": [],
   "source": [
    "from matplotlib import pyplot as plt"
   ]
  },
  {
   "cell_type": "code",
   "execution_count": null,
   "id": "365076ba",
   "metadata": {},
   "outputs": [],
   "source": [
    "import seaborn as sns"
   ]
  },
  {
   "cell_type": "code",
   "execution_count": null,
   "id": "ac04dfc9",
   "metadata": {},
   "outputs": [],
   "source": [
    "import cv2 as cv"
   ]
  },
  {
   "cell_type": "code",
   "execution_count": null,
   "id": "c0b71e83",
   "metadata": {},
   "outputs": [],
   "source": [
    "from sklearn import linear_model"
   ]
  },
  {
   "cell_type": "code",
   "execution_count": null,
   "id": "80f71b58",
   "metadata": {},
   "outputs": [],
   "source": [
    "import warnings"
   ]
  },
  {
   "cell_type": "code",
   "execution_count": null,
   "id": "987341bc",
   "metadata": {},
   "outputs": [],
   "source": [
    "warnings.filterwarnings('ignore')"
   ]
  },
  {
   "cell_type": "code",
   "execution_count": null,
   "id": "89f47566",
   "metadata": {},
   "outputs": [],
   "source": [
    "# Helping Functions"
   ]
  },
  {
   "cell_type": "code",
   "execution_count": null,
   "id": "61ed6419",
   "metadata": {},
   "outputs": [],
   "source": [
    "def plot_image(image):\n",
    "    plt.imshow(cv.cvtColor(image, cv.COLOR_BGR2RGB))\n",
    "    plt.show(block=True)"
   ]
  },
  {
   "cell_type": "code",
   "execution_count": null,
   "id": "2aac166d",
   "metadata": {},
   "outputs": [],
   "source": [
    "def display_image(image):\n",
    "    cv.imshow('image', image)\n",
    "    cv.waitKey(0)\n",
    "    cv.destroyAllWindows()"
   ]
  },
  {
   "cell_type": "code",
   "execution_count": null,
   "id": "d87974a3",
   "metadata": {},
   "outputs": [],
   "source": [
    "def plot_graph(image, i=0):\n",
    "    sum_ = image.sum(axis=i)\n",
    "    plt.figure(figsize=(15, 8))\n",
    "    x = list(range(len(sum_)))\n",
    "    y = list(sum_)\n",
    "    plt.scatter(x, y, alpha=0.5)\n",
    "    plt.show()"
   ]
  },
  {
   "cell_type": "code",
   "execution_count": null,
   "id": "38a3b485",
   "metadata": {},
   "outputs": [],
   "source": [
    "# Loading"
   ]
  },
  {
   "cell_type": "code",
   "execution_count": null,
   "id": "cc29b45f",
   "metadata": {},
   "outputs": [],
   "source": [
    "r_image = cv.imread('page03.jpg')"
   ]
  },
  {
   "cell_type": "code",
   "execution_count": null,
   "id": "047d7b73",
   "metadata": {},
   "outputs": [],
   "source": [
    "gray = cv.cvtColor(r_image, cv.COLOR_BGR2GRAY)"
   ]
  },
  {
   "cell_type": "code",
   "execution_count": null,
   "id": "82914f0d",
   "metadata": {},
   "outputs": [],
   "source": [
    "plot_image(r_image)"
   ]
  },
  {
   "cell_type": "code",
   "execution_count": null,
   "id": "06f3c52b",
   "metadata": {},
   "outputs": [],
   "source": [
    "# Preprocessing"
   ]
  },
  {
   "cell_type": "code",
   "execution_count": null,
   "id": "8c0ff732",
   "metadata": {},
   "outputs": [],
   "source": [
    "def preprocess_image(image):\n",
    "    gray = cv.cvtColor(image, cv.COLOR_BGR2GRAY)\n",
    "    blur = cv.bilateralFilter(gray, 3, 75, 75)\n",
    "    thresh = cv.adaptiveThreshold(blur, 255, cv.ADAPTIVE_THRESH_GAUSSIAN_C, cv.THRESH_BINARY, 11, 2)\n",
    "    k = 3\n",
    "    kernal = np.ones((k, k), np.uint8)\n",
    "    dilate = cv.dilate(thresh, kernal, iterations=1)\n",
    "    k = 1\n",
    "    kernal = np.ones((k, k), np.uint8)\n",
    "    erode = cv.erode(dilate, kernal, iterations=1)\n",
    "    return erode"
   ]
  },
  {
   "cell_type": "code",
   "execution_count": null,
   "id": "392eb421",
   "metadata": {},
   "outputs": [],
   "source": [
    "preprocess_imaged = preprocess_image(r_image)"
   ]
  },
  {
   "cell_type": "code",
   "execution_count": null,
   "id": "cb3c8fbd",
   "metadata": {},
   "outputs": [],
   "source": [
    "plot_image(preprocess_imaged)"
   ]
  }
 ],
 "metadata": {},
 "nbformat": 4,
 "nbformat_minor": 5
}
