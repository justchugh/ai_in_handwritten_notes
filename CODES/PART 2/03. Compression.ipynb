{
 "cells": [
  {
   "cell_type": "code",
   "execution_count": null,
   "id": "80de1e28",
   "metadata": {},
   "outputs": [],
   "source": [
    "import numpy as np"
   ]
  },
  {
   "cell_type": "code",
   "execution_count": null,
   "id": "ed828aeb",
   "metadata": {},
   "outputs": [],
   "source": [
    "from matplotlib import pyplot as plt"
   ]
  },
  {
   "cell_type": "code",
   "execution_count": null,
   "id": "f3c1066d",
   "metadata": {},
   "outputs": [],
   "source": [
    "import seaborn as sns"
   ]
  },
  {
   "cell_type": "code",
   "execution_count": null,
   "id": "7450d666",
   "metadata": {},
   "outputs": [],
   "source": [
    "import cv2 as cv"
   ]
  },
  {
   "cell_type": "code",
   "execution_count": null,
   "id": "e0e158af",
   "metadata": {},
   "outputs": [],
   "source": [
    "from sklearn import linear_model"
   ]
  },
  {
   "cell_type": "code",
   "execution_count": null,
   "id": "c8de2354",
   "metadata": {},
   "outputs": [],
   "source": [
    "import warnings"
   ]
  },
  {
   "cell_type": "code",
   "execution_count": null,
   "id": "2691be94",
   "metadata": {},
   "outputs": [],
   "source": [
    "plt.style.use('seaborn')"
   ]
  },
  {
   "cell_type": "code",
   "execution_count": null,
   "id": "4d59c05c",
   "metadata": {},
   "outputs": [],
   "source": [
    "warnings.filterwarnings('ignore')"
   ]
  },
  {
   "cell_type": "code",
   "execution_count": null,
   "id": "dc699b51",
   "metadata": {},
   "outputs": [],
   "source": [
    "def plot_image(image, i=0):"
   ]
  },
  {
   "cell_type": "code",
   "execution_count": null,
   "id": "99493f04",
   "metadata": {},
   "outputs": [],
   "source": [
    "    l = [cv.COLOR_BGR2RGB, cv.COLOR_BGR2GRAY, cv.COLOR_RGB2GRAY,]"
   ]
  },
  {
   "cell_type": "code",
   "execution_count": null,
   "id": "0d7d0b06",
   "metadata": {},
   "outputs": [],
   "source": [
    "    plt.imshow(cv.cvtColor(image, l[i]))"
   ]
  },
  {
   "cell_type": "code",
   "execution_count": null,
   "id": "2e42bb3b",
   "metadata": {},
   "outputs": [],
   "source": [
    "    plt.show(block=True)"
   ]
  },
  {
   "cell_type": "code",
   "execution_count": null,
   "id": "78077e6c",
   "metadata": {},
   "outputs": [],
   "source": [
    "def display_image(image):"
   ]
  },
  {
   "cell_type": "code",
   "execution_count": null,
   "id": "2bcaec2e",
   "metadata": {},
   "outputs": [],
   "source": [
    "    cv.imshow('image', image)"
   ]
  },
  {
   "cell_type": "code",
   "execution_count": null,
   "id": "1c27eb65",
   "metadata": {},
   "outputs": [],
   "source": [
    "    cv.waitKey(0)"
   ]
  },
  {
   "cell_type": "code",
   "execution_count": null,
   "id": "edd71458",
   "metadata": {},
   "outputs": [],
   "source": [
    "    cv.destroyAllWindows()"
   ]
  },
  {
   "cell_type": "code",
   "execution_count": null,
   "id": "bee56775",
   "metadata": {},
   "outputs": [],
   "source": [
    "def plot_graph(image, i=0):"
   ]
  },
  {
   "cell_type": "code",
   "execution_count": null,
   "id": "29086756",
   "metadata": {},
   "outputs": [],
   "source": [
    "    plt.figure(figsize=(15, 8))"
   ]
  },
  {
   "cell_type": "code",
   "execution_count": null,
   "id": "938fb7fb",
   "metadata": {},
   "outputs": [],
   "source": [
    "    sns.scatterplot(np.arange(len(image.sum(i))), image.sum(i), label='a', alpha=0.6)"
   ]
  },
  {
   "cell_type": "code",
   "execution_count": null,
   "id": "edf1794f",
   "metadata": {},
   "outputs": [],
   "source": [
    "def MinMaxScalar(x, a=-1, b=1):"
   ]
  },
  {
   "cell_type": "code",
   "execution_count": null,
   "id": "43c29df7",
   "metadata": {},
   "outputs": [],
   "source": [
    "    N = (x - x.min()) * (b - a)"
   ]
  },
  {
   "cell_type": "code",
   "execution_count": null,
   "id": "f3c36c17",
   "metadata": {},
   "outputs": [],
   "source": [
    "    D = (x.max() - x.min())"
   ]
  },
  {
   "cell_type": "code",
   "execution_count": null,
   "id": "4fd6de42",
   "metadata": {},
   "outputs": [],
   "source": [
    "    return (N / D) + a"
   ]
  },
  {
   "cell_type": "code",
   "execution_count": null,
   "id": "53e734bf",
   "metadata": {},
   "outputs": [],
   "source": [
    "def sigmoid(t):"
   ]
  },
  {
   "cell_type": "code",
   "execution_count": null,
   "id": "28c94fa2",
   "metadata": {},
   "outputs": [],
   "source": [
    "    return 1 / (1 + np.exp(-t))"
   ]
  },
  {
   "cell_type": "code",
   "execution_count": null,
   "id": "5f5f00fe",
   "metadata": {},
   "outputs": [],
   "source": [
    "def softplus(t):"
   ]
  },
  {
   "cell_type": "code",
   "execution_count": null,
   "id": "708da6ea",
   "metadata": {},
   "outputs": [],
   "source": [
    "    return np.log(1 + np.exp(t))"
   ]
  },
  {
   "cell_type": "code",
   "execution_count": null,
   "id": "62ac1574",
   "metadata": {},
   "outputs": [],
   "source": [
    "def preprocess_image(image):"
   ]
  },
  {
   "cell_type": "code",
   "execution_count": null,
   "id": "3e5aebed",
   "metadata": {},
   "outputs": [],
   "source": [
    "    gray = cv.cvtColor(image, cv.COLOR_BGR2GRAY)\n",
    "    blur = cv.bilateralFilter(gray, 3, 75, 75)\n",
    "    thresh = cv.adaptiveThreshold(blur, 255, cv.ADAPTIVE_THRESH_GAUSSIAN_C, cv.THRESH_BINARY, 11, 2)\n",
    "    k = 3\n",
    "    kernal = np.ones((k, k), np.uint8)\n",
    "    dilate = cv.dilate(thresh, kernal, iterations=1)\n",
    "    k = 1\n",
    "    kernal = np.ones((k, k), np.uint8)\n",
    "    erode = cv.erode(dilate, kernal, iterations=1)\n",
    "    return erode"
   ]
  },
  {
   "cell_type": "code",
   "execution_count": null,
   "id": "e1cb31a7",
   "metadata": {},
   "outputs": [],
   "source": [
    "def line_extraction(preprocess_imaged, r_image):"
   ]
  },
  {
   "cell_type": "code",
   "execution_count": null,
   "id": "57350082",
   "metadata": {},
   "outputs": [],
   "source": [
    "    gray = cv.cvtColor(r_image, cv.COLOR_BGR2GRAY)\n",
    "    edges = cv.Canny(preprocess_imaged, 0, 125, apertureSize=3)\n",
    "    lines = cv.HoughLinesP(edges, 1, np.pi / 180, 100, minLineLength=int(r_image.shape[1] * 0.0002))\n",
    "    Y = [0,]\n",
    "    for line in lines:\n",
    "        x1, y1, x2, y2 = line[0]\n",
    "        Y.append(y1)\n",
    "    Y.append(gray.shape[0])\n",
    "    Y = sorted(Y)\n",
    "    Y_m = []\n",
    "    for i in range(len(Y)):\n",
    "        if i == len(Y)-1:\n",
    "            break\n",
    "        Y_m.append(Y[i + 1] - Y[i])\n",
    "    LR = linear_model.LinearRegression()\n",
    "    LR.fit(np.array(range(len(Y_m))).reshape(-1, 1), np.array(Y_m))\n",
    "    m = LR.coef_ \n",
    "    c = LR.intercept_\n",
    "    Y_bool = (np.array(Y_m) - (m * np.array(range(len(Y_m)))) - c) > 0\n",
    "    Y_bool = np.where(Y_bool>0)[0]\n",
    "    line_extractions = []\n",
    "    for i in range(len(Y_bool)):\n",
    "        line_extractions.append(r_image[:][Y[Y_bool[i]] : Y[Y_bool[i] + 1]])\n",
    "    return line_extractions"
   ]
  },
  {
   "cell_type": "code",
   "execution_count": null,
   "id": "dd5b5fcb",
   "metadata": {},
   "outputs": [],
   "source": [
    "def preprocess_line(image):\n",
    "    gray = cv.cvtColor(image, cv.COLOR_BGR2GRAY)\n",
    "    blur = cv.bilateralFilter(gray, 3, 75, 75)\n",
    "    thresh = cv.adaptiveThreshold(blur, 255, cv.ADAPTIVE_THRESH_GAUSSIAN_C, cv.THRESH_BINARY, 11, 2)\n",
    "    k = 5\n",
    "    kernal = np.ones((k, k), np.uint8)\n",
    "    dilate = cv.dilate(thresh, kernal, iterations=1)\n",
    "    k = 21\n",
    "    kernal = np.ones((k, k), np.uint8)\n",
    "    erode = cv.erode(dilate, kernal, iterations=1)\n",
    "    return erode"
   ]
  },
  {
   "cell_type": "code",
   "execution_count": null,
   "id": "2f82a2de",
   "metadata": {},
   "outputs": [],
   "source": [
    "def word_extraction(preprocessed_line1, line1):\n",
    "    sum_line = preprocessed_line1.sum(axis=0)\n",
    "    sum_line_scaled = MinMaxScalar(sum_line, -1, 1)\n",
    "    scaled_activated_sum = softplus(sigmoid(sum_line_scaled))\n",
    "    l = scaled_activated_sum\n",
    "    maximum = max(l)\n",
    "    cutout_dip = []\n",
    "    cutout_up = []\n",
    "    for i in range(len(l)):\n",
    "        if (i + 1) != len(l):\n",
    "            if l[i] == maximum:\n",
    "                if (l[i + 1] < maximum):\n",
    "                    cutout_dip.append(i)\n",
    "            if l[i] < maximum:\n",
    "                if (l[i + 1] == maximum):\n",
    "                    cutout_up.append(i)\n",
    "    cutout_images = []\n",
    "    gray_line1 = cv.cvtColor(line1, cv.COLOR_BGR2GRAY)\n",
    "    for up, dip in zip(cutout_up, cutout_dip):\n",
    "        temp = gray_line1[:, dip : up]\n",
    "        cutout_images.append(temp)\n",
    "    return cutout_images"
   ]
  },
  {
   "cell_type": "code",
   "execution_count": null,
   "id": "dfdab44d",
   "metadata": {},
   "outputs": [],
   "source": [
    "real_page = cv.imread('page03.jpg')"
   ]
  },
  {
   "cell_type": "code",
   "execution_count": null,
   "id": "a8862c77",
   "metadata": {},
   "outputs": [],
   "source": [
    "plot_image(real_page)"
   ]
  },
  {
   "cell_type": "code",
   "execution_count": null,
   "id": "0fba76b3",
   "metadata": {},
   "outputs": [],
   "source": [
    "preprocess_page = preprocess_image(real_page)"
   ]
  }
 ],
 "metadata": {},
 "nbformat": 4,
 "nbformat_minor": 5
}
