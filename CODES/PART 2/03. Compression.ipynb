{
 "cells": [
  {
   "cell_type": "code",
   "execution_count": null,
   "id": "2cb0922b",
   "metadata": {},
   "outputs": [],
   "source": [
    "import numpy as np"
   ]
  },
  {
   "cell_type": "code",
   "execution_count": null,
   "id": "cdd447ff",
   "metadata": {},
   "outputs": [],
   "source": [
    "from matplotlib import pyplot as plt"
   ]
  },
  {
   "cell_type": "code",
   "execution_count": null,
   "id": "7b6d1380",
   "metadata": {},
   "outputs": [],
   "source": [
    "import seaborn as sns"
   ]
  },
  {
   "cell_type": "code",
   "execution_count": null,
   "id": "89588953",
   "metadata": {},
   "outputs": [],
   "source": [
    "import cv2 as cv"
   ]
  },
  {
   "cell_type": "code",
   "execution_count": null,
   "id": "1eea8581",
   "metadata": {},
   "outputs": [],
   "source": [
    "from sklearn import linear_model"
   ]
  },
  {
   "cell_type": "code",
   "execution_count": null,
   "id": "496b64af",
   "metadata": {},
   "outputs": [],
   "source": [
    "import warnings"
   ]
  },
  {
   "cell_type": "code",
   "execution_count": null,
   "id": "0d4b5b0b",
   "metadata": {},
   "outputs": [],
   "source": [
    "plt.style.use('seaborn')"
   ]
  },
  {
   "cell_type": "code",
   "execution_count": null,
   "id": "15fe6515",
   "metadata": {},
   "outputs": [],
   "source": [
    "warnings.filterwarnings('ignore')"
   ]
  },
  {
   "cell_type": "code",
   "execution_count": null,
   "id": "f5b8af69",
   "metadata": {},
   "outputs": [],
   "source": [
    "def plot_image(image, i=0):"
   ]
  },
  {
   "cell_type": "code",
   "execution_count": null,
   "id": "a9eed626",
   "metadata": {},
   "outputs": [],
   "source": [
    "    l = [cv.COLOR_BGR2RGB, cv.COLOR_BGR2GRAY, cv.COLOR_RGB2GRAY,]"
   ]
  },
  {
   "cell_type": "code",
   "execution_count": null,
   "id": "9dbeec3c",
   "metadata": {},
   "outputs": [],
   "source": [
    "    plt.imshow(cv.cvtColor(image, l[i]))"
   ]
  },
  {
   "cell_type": "code",
   "execution_count": null,
   "id": "83a89a76",
   "metadata": {},
   "outputs": [],
   "source": [
    "    plt.show(block=True)"
   ]
  },
  {
   "cell_type": "code",
   "execution_count": null,
   "id": "bb446ad6",
   "metadata": {},
   "outputs": [],
   "source": [
    "def display_image(image):"
   ]
  },
  {
   "cell_type": "code",
   "execution_count": null,
   "id": "82873d5d",
   "metadata": {},
   "outputs": [],
   "source": [
    "    cv.imshow('image', image)"
   ]
  },
  {
   "cell_type": "code",
   "execution_count": null,
   "id": "7b391f68",
   "metadata": {},
   "outputs": [],
   "source": [
    "    cv.waitKey(0)"
   ]
  },
  {
   "cell_type": "code",
   "execution_count": null,
   "id": "e57dbd02",
   "metadata": {},
   "outputs": [],
   "source": [
    "    cv.destroyAllWindows()"
   ]
  },
  {
   "cell_type": "code",
   "execution_count": null,
   "id": "457a6127",
   "metadata": {},
   "outputs": [],
   "source": [
    "def plot_graph(image, i=0):"
   ]
  },
  {
   "cell_type": "code",
   "execution_count": null,
   "id": "7c0d1b88",
   "metadata": {},
   "outputs": [],
   "source": [
    "    plt.figure(figsize=(15, 8))"
   ]
  },
  {
   "cell_type": "code",
   "execution_count": null,
   "id": "0a7c1fb6",
   "metadata": {},
   "outputs": [],
   "source": [
    "    sns.scatterplot(np.arange(len(image.sum(i))), image.sum(i), label='a', alpha=0.6)"
   ]
  },
  {
   "cell_type": "code",
   "execution_count": null,
   "id": "833b6028",
   "metadata": {},
   "outputs": [],
   "source": [
    "def MinMaxScalar(x, a=-1, b=1):"
   ]
  },
  {
   "cell_type": "code",
   "execution_count": null,
   "id": "7a5e53bb",
   "metadata": {},
   "outputs": [],
   "source": [
    "    N = (x - x.min()) * (b - a)"
   ]
  },
  {
   "cell_type": "code",
   "execution_count": null,
   "id": "c0ec4e32",
   "metadata": {},
   "outputs": [],
   "source": [
    "    D = (x.max() - x.min())"
   ]
  },
  {
   "cell_type": "code",
   "execution_count": null,
   "id": "fdf5d746",
   "metadata": {},
   "outputs": [],
   "source": [
    "    return (N / D) + a"
   ]
  },
  {
   "cell_type": "code",
   "execution_count": null,
   "id": "cbd674c9",
   "metadata": {},
   "outputs": [],
   "source": [
    "def sigmoid(t):"
   ]
  },
  {
   "cell_type": "code",
   "execution_count": null,
   "id": "e9757fe4",
   "metadata": {},
   "outputs": [],
   "source": [
    "    return 1 / (1 + np.exp(-t))"
   ]
  },
  {
   "cell_type": "code",
   "execution_count": null,
   "id": "9652b7b4",
   "metadata": {},
   "outputs": [],
   "source": [
    "def softplus(t):"
   ]
  },
  {
   "cell_type": "code",
   "execution_count": null,
   "id": "e729ee75",
   "metadata": {},
   "outputs": [],
   "source": [
    "    return np.log(1 + np.exp(t))"
   ]
  },
  {
   "cell_type": "code",
   "execution_count": null,
   "id": "ae06e896",
   "metadata": {},
   "outputs": [],
   "source": [
    "def preprocess_image(image):"
   ]
  },
  {
   "cell_type": "code",
   "execution_count": null,
   "id": "ae9d2ce2",
   "metadata": {},
   "outputs": [],
   "source": [
    "    gray = cv.cvtColor(image, cv.COLOR_BGR2GRAY)\n",
    "    blur = cv.bilateralFilter(gray, 3, 75, 75)\n",
    "    thresh = cv.adaptiveThreshold(blur, 255, cv.ADAPTIVE_THRESH_GAUSSIAN_C, cv.THRESH_BINARY, 11, 2)\n",
    "    k = 3\n",
    "    kernal = np.ones((k, k), np.uint8)\n",
    "    dilate = cv.dilate(thresh, kernal, iterations=1)\n",
    "    k = 1\n",
    "    kernal = np.ones((k, k), np.uint8)\n",
    "    erode = cv.erode(dilate, kernal, iterations=1)\n",
    "    return erode"
   ]
  },
  {
   "cell_type": "code",
   "execution_count": null,
   "id": "abb97ab1",
   "metadata": {},
   "outputs": [],
   "source": [
    "def line_extraction(preprocess_imaged, r_image):"
   ]
  },
  {
   "cell_type": "code",
   "execution_count": null,
   "id": "ee159416",
   "metadata": {},
   "outputs": [],
   "source": [
    "    gray = cv.cvtColor(r_image, cv.COLOR_BGR2GRAY)\n",
    "    edges = cv.Canny(preprocess_imaged, 0, 125, apertureSize=3)\n",
    "    lines = cv.HoughLinesP(edges, 1, np.pi / 180, 100, minLineLength=int(r_image.shape[1] * 0.0002))\n",
    "    Y = [0,]\n",
    "    for line in lines:\n",
    "        x1, y1, x2, y2 = line[0]\n",
    "        Y.append(y1)\n",
    "    Y.append(gray.shape[0])\n",
    "    Y = sorted(Y)\n",
    "    Y_m = []\n",
    "    for i in range(len(Y)):\n",
    "        if i == len(Y)-1:\n",
    "            break\n",
    "        Y_m.append(Y[i + 1] - Y[i])\n",
    "    LR = linear_model.LinearRegression()\n",
    "    LR.fit(np.array(range(len(Y_m))).reshape(-1, 1), np.array(Y_m))\n",
    "    m = LR.coef_ \n",
    "    c = LR.intercept_\n",
    "    Y_bool = (np.array(Y_m) - (m * np.array(range(len(Y_m)))) - c) > 0\n",
    "    Y_bool = np.where(Y_bool>0)[0]\n",
    "    line_extractions = []\n",
    "    for i in range(len(Y_bool)):\n",
    "        line_extractions.append(r_image[:][Y[Y_bool[i]] : Y[Y_bool[i] + 1]])\n",
    "    return line_extractions"
   ]
  },
  {
   "cell_type": "code",
   "execution_count": null,
   "id": "e68c52ba",
   "metadata": {},
   "outputs": [],
   "source": [
    "def preprocess_line(image):\n",
    "    gray = cv.cvtColor(image, cv.COLOR_BGR2GRAY)\n",
    "    blur = cv.bilateralFilter(gray, 3, 75, 75)\n",
    "    thresh = cv.adaptiveThreshold(blur, 255, cv.ADAPTIVE_THRESH_GAUSSIAN_C, cv.THRESH_BINARY, 11, 2)\n",
    "    k = 5\n",
    "    kernal = np.ones((k, k), np.uint8)\n",
    "    dilate = cv.dilate(thresh, kernal, iterations=1)\n",
    "    k = 21\n",
    "    kernal = np.ones((k, k), np.uint8)\n",
    "    erode = cv.erode(dilate, kernal, iterations=1)\n",
    "    return erode"
   ]
  },
  {
   "cell_type": "code",
   "execution_count": null,
   "id": "c7069b2e",
   "metadata": {},
   "outputs": [],
   "source": [
    "def word_extraction(preprocessed_line1, line1):\n",
    "    sum_line = preprocessed_line1.sum(axis=0)\n",
    "    sum_line_scaled = MinMaxScalar(sum_line, -1, 1)\n",
    "    scaled_activated_sum = softplus(sigmoid(sum_line_scaled))\n",
    "    l = scaled_activated_sum\n",
    "    maximum = max(l)\n",
    "    cutout_dip = []\n",
    "    cutout_up = []\n",
    "    for i in range(len(l)):\n",
    "        if (i + 1) != len(l):\n",
    "            if l[i] == maximum:\n",
    "                if (l[i + 1] < maximum):\n",
    "                    cutout_dip.append(i)\n",
    "            if l[i] < maximum:\n",
    "                if (l[i + 1] == maximum):\n",
    "                    cutout_up.append(i)\n",
    "    cutout_images = []\n",
    "    gray_line1 = cv.cvtColor(line1, cv.COLOR_BGR2GRAY)\n",
    "    for up, dip in zip(cutout_up, cutout_dip):\n",
    "        temp = gray_line1[:, dip : up]\n",
    "        cutout_images.append(temp)\n",
    "    return cutout_images"
   ]
  },
  {
   "cell_type": "code",
   "execution_count": null,
   "id": "9b521582",
   "metadata": {},
   "outputs": [],
   "source": [
    "real_page = cv.imread('page03.jpg')"
   ]
  },
  {
   "cell_type": "code",
   "execution_count": null,
   "id": "e5d0aa28",
   "metadata": {},
   "outputs": [],
   "source": [
    "plot_image(real_page)"
   ]
  },
  {
   "cell_type": "code",
   "execution_count": null,
   "id": "d16a6147",
   "metadata": {},
   "outputs": [],
   "source": [
    "preprocess_page = preprocess_image(real_page)"
   ]
  },
  {
   "cell_type": "code",
   "execution_count": null,
   "id": "260d37f6",
   "metadata": {},
   "outputs": [],
   "source": [
    "line_extracted = line_extraction(preprocess_page, real_page)"
   ]
  },
  {
   "cell_type": "code",
   "execution_count": null,
   "id": "1c67ecb3",
   "metadata": {},
   "outputs": [],
   "source": [
    "for line in line_extracted:\n",
    "    line_p = cv.copyMakeBorder(line, 0, 0, 20, 20, cv.BORDER_CONSTANT, value=(255, 255, 255))\n",
    "    preprocessed_line = preprocess_line(line)\n",
    "    preprocessed_line_p = cv.copyMakeBorder(preprocessed_line, 0, 0, 20, 20, cv.BORDER_CONSTANT, value=255)\n",
    "    word_extracted = word_extraction(preprocessed_line_p, line_p)\n",
    "    for word in word_extracted:\n",
    "        print('words')\n",
    "        word_p = cv.copyMakeBorder(word, 10, 10, 0, 0, cv.BORDER_CONSTANT, value=255)\n",
    "        preprocessed_word = preprocess_word(word_p)\n",
    "        word_t = preprocessed_word.T\n",
    "        word_r = word_extraction_T(word_t, word_p.T)\n",
    "        for word_ in word_r:\n",
    "            plot_image(word_)"
   ]
  },
  {
   "cell_type": "code",
   "execution_count": null,
   "id": "11b73cc7",
   "metadata": {},
   "outputs": [],
   "source": [
    "wanted, unwanted = word_extracted[-2], word_extracted[-1]"
   ]
  },
  {
   "cell_type": "code",
   "execution_count": null,
   "id": "1bb0480f",
   "metadata": {},
   "outputs": [],
   "source": [
    "plot_image(wanted)"
   ]
  },
  {
   "cell_type": "code",
   "execution_count": null,
   "id": "39d7a8c6",
   "metadata": {},
   "outputs": [],
   "source": [
    "plot_image(unwanted)"
   ]
  },
  {
   "cell_type": "code",
   "execution_count": null,
   "id": "4b675ef7",
   "metadata": {},
   "outputs": [],
   "source": [
    "plot_graph(wanted)"
   ]
  },
  {
   "cell_type": "code",
   "execution_count": null,
   "id": "5016c053",
   "metadata": {},
   "outputs": [],
   "source": [
    "plot_graph(unwanted)"
   ]
  },
  {
   "cell_type": "code",
   "execution_count": null,
   "id": "cac7c0d5",
   "metadata": {},
   "outputs": [],
   "source": [
    "wanted.sum(axis=1).mean()"
   ]
  },
  {
   "cell_type": "code",
   "execution_count": null,
   "id": "37ecd570",
   "metadata": {},
   "outputs": [],
   "source": [
    "unwanted.sum(axis=1).mean()"
   ]
  },
  {
   "cell_type": "code",
   "execution_count": null,
   "id": "655bad3f",
   "metadata": {},
   "outputs": [],
   "source": [
    "jkl = wanted.sum(axis=1)\n",
    "arr = []\n",
    "for llp in range(0,len(jkl)-1,2):\n",
    "    print(jkl[llp+1]-jkl[llp])"
   ]
  }
 ],
 "metadata": {},
 "nbformat": 4,
 "nbformat_minor": 5
}
