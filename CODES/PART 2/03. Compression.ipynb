{
 "cells": [
  {
   "cell_type": "code",
   "execution_count": null,
   "id": "64336cb8",
   "metadata": {},
   "outputs": [],
   "source": [
    "import numpy as np"
   ]
  },
  {
   "cell_type": "code",
   "execution_count": null,
   "id": "a91e81d7",
   "metadata": {},
   "outputs": [],
   "source": [
    "from matplotlib import pyplot as plt"
   ]
  },
  {
   "cell_type": "code",
   "execution_count": null,
   "id": "f5d51b32",
   "metadata": {},
   "outputs": [],
   "source": [
    "import seaborn as sns"
   ]
  },
  {
   "cell_type": "code",
   "execution_count": null,
   "id": "4d08bd81",
   "metadata": {},
   "outputs": [],
   "source": [
    "import cv2 as cv"
   ]
  },
  {
   "cell_type": "code",
   "execution_count": null,
   "id": "ae5c71f2",
   "metadata": {},
   "outputs": [],
   "source": [
    "from sklearn import linear_model"
   ]
  },
  {
   "cell_type": "code",
   "execution_count": null,
   "id": "c6d5517e",
   "metadata": {},
   "outputs": [],
   "source": [
    "import warnings"
   ]
  },
  {
   "cell_type": "code",
   "execution_count": null,
   "id": "2a98db98",
   "metadata": {},
   "outputs": [],
   "source": [
    "plt.style.use('seaborn')"
   ]
  },
  {
   "cell_type": "code",
   "execution_count": null,
   "id": "808c4310",
   "metadata": {},
   "outputs": [],
   "source": [
    "warnings.filterwarnings('ignore')"
   ]
  },
  {
   "cell_type": "code",
   "execution_count": null,
   "id": "41aaf25d",
   "metadata": {},
   "outputs": [],
   "source": [
    "def plot_image(image, i=0):"
   ]
  },
  {
   "cell_type": "code",
   "execution_count": null,
   "id": "57bfaf80",
   "metadata": {},
   "outputs": [],
   "source": [
    "    l = [cv.COLOR_BGR2RGB, cv.COLOR_BGR2GRAY, cv.COLOR_RGB2GRAY,]"
   ]
  },
  {
   "cell_type": "code",
   "execution_count": null,
   "id": "fb155440",
   "metadata": {},
   "outputs": [],
   "source": [
    "    plt.imshow(cv.cvtColor(image, l[i]))"
   ]
  },
  {
   "cell_type": "code",
   "execution_count": null,
   "id": "d134cbb0",
   "metadata": {},
   "outputs": [],
   "source": [
    "    plt.show(block=True)"
   ]
  },
  {
   "cell_type": "code",
   "execution_count": null,
   "id": "87040276",
   "metadata": {},
   "outputs": [],
   "source": [
    "def display_image(image):"
   ]
  },
  {
   "cell_type": "code",
   "execution_count": null,
   "id": "3b0216ba",
   "metadata": {},
   "outputs": [],
   "source": [
    "    cv.imshow('image', image)"
   ]
  },
  {
   "cell_type": "code",
   "execution_count": null,
   "id": "b8a964ff",
   "metadata": {},
   "outputs": [],
   "source": [
    "    cv.waitKey(0)"
   ]
  },
  {
   "cell_type": "code",
   "execution_count": null,
   "id": "4e03920f",
   "metadata": {},
   "outputs": [],
   "source": [
    "    cv.destroyAllWindows()"
   ]
  },
  {
   "cell_type": "code",
   "execution_count": null,
   "id": "6b865413",
   "metadata": {},
   "outputs": [],
   "source": [
    "def plot_graph(image, i=0):"
   ]
  },
  {
   "cell_type": "code",
   "execution_count": null,
   "id": "86ef5f65",
   "metadata": {},
   "outputs": [],
   "source": [
    "    plt.figure(figsize=(15, 8))"
   ]
  },
  {
   "cell_type": "code",
   "execution_count": null,
   "id": "b6516edf",
   "metadata": {},
   "outputs": [],
   "source": [
    "    sns.scatterplot(np.arange(len(image.sum(i))), image.sum(i), label='a', alpha=0.6)"
   ]
  },
  {
   "cell_type": "code",
   "execution_count": null,
   "id": "290f6136",
   "metadata": {},
   "outputs": [],
   "source": [
    "def MinMaxScalar(x, a=-1, b=1):"
   ]
  },
  {
   "cell_type": "code",
   "execution_count": null,
   "id": "d6b854cf",
   "metadata": {},
   "outputs": [],
   "source": [
    "    N = (x - x.min()) * (b - a)"
   ]
  },
  {
   "cell_type": "code",
   "execution_count": null,
   "id": "1b7ed4d9",
   "metadata": {},
   "outputs": [],
   "source": [
    "    D = (x.max() - x.min())"
   ]
  },
  {
   "cell_type": "code",
   "execution_count": null,
   "id": "b9d03837",
   "metadata": {},
   "outputs": [],
   "source": [
    "    return (N / D) + a"
   ]
  },
  {
   "cell_type": "code",
   "execution_count": null,
   "id": "b52a20ed",
   "metadata": {},
   "outputs": [],
   "source": [
    "def sigmoid(t):"
   ]
  },
  {
   "cell_type": "code",
   "execution_count": null,
   "id": "441083ec",
   "metadata": {},
   "outputs": [],
   "source": [
    "    return 1 / (1 + np.exp(-t))"
   ]
  },
  {
   "cell_type": "code",
   "execution_count": null,
   "id": "d271d48c",
   "metadata": {},
   "outputs": [],
   "source": [
    "def softplus(t):"
   ]
  },
  {
   "cell_type": "code",
   "execution_count": null,
   "id": "10a3cb1a",
   "metadata": {},
   "outputs": [],
   "source": [
    "    return np.log(1 + np.exp(t))"
   ]
  },
  {
   "cell_type": "code",
   "execution_count": null,
   "id": "fc50f5fe",
   "metadata": {},
   "outputs": [],
   "source": [
    "def preprocess_image(image):"
   ]
  },
  {
   "cell_type": "code",
   "execution_count": null,
   "id": "4026a20c",
   "metadata": {},
   "outputs": [],
   "source": [
    "    gray = cv.cvtColor(image, cv.COLOR_BGR2GRAY)\n",
    "    blur = cv.bilateralFilter(gray, 3, 75, 75)\n",
    "    thresh = cv.adaptiveThreshold(blur, 255, cv.ADAPTIVE_THRESH_GAUSSIAN_C, cv.THRESH_BINARY, 11, 2)\n",
    "    k = 3\n",
    "    kernal = np.ones((k, k), np.uint8)\n",
    "    dilate = cv.dilate(thresh, kernal, iterations=1)\n",
    "    k = 1\n",
    "    kernal = np.ones((k, k), np.uint8)\n",
    "    erode = cv.erode(dilate, kernal, iterations=1)\n",
    "    return erode"
   ]
  },
  {
   "cell_type": "code",
   "execution_count": null,
   "id": "60019ebb",
   "metadata": {},
   "outputs": [],
   "source": [
    "def line_extraction(preprocess_imaged, r_image):"
   ]
  },
  {
   "cell_type": "code",
   "execution_count": null,
   "id": "df4f33a8",
   "metadata": {},
   "outputs": [],
   "source": [
    "    gray = cv.cvtColor(r_image, cv.COLOR_BGR2GRAY)\n",
    "    edges = cv.Canny(preprocess_imaged, 0, 125, apertureSize=3)\n",
    "    lines = cv.HoughLinesP(edges, 1, np.pi / 180, 100, minLineLength=int(r_image.shape[1] * 0.0002))\n",
    "    Y = [0,]\n",
    "    for line in lines:\n",
    "        x1, y1, x2, y2 = line[0]\n",
    "        Y.append(y1)\n",
    "    Y.append(gray.shape[0])\n",
    "    Y = sorted(Y)\n",
    "    Y_m = []\n",
    "    for i in range(len(Y)):\n",
    "        if i == len(Y)-1:\n",
    "            break\n",
    "        Y_m.append(Y[i + 1] - Y[i])\n",
    "    LR = linear_model.LinearRegression()\n",
    "    LR.fit(np.array(range(len(Y_m))).reshape(-1, 1), np.array(Y_m))\n",
    "    m = LR.coef_ \n",
    "    c = LR.intercept_\n",
    "    Y_bool = (np.array(Y_m) - (m * np.array(range(len(Y_m)))) - c) > 0\n",
    "    Y_bool = np.where(Y_bool>0)[0]\n",
    "    line_extractions = []\n",
    "    for i in range(len(Y_bool)):\n",
    "        line_extractions.append(r_image[:][Y[Y_bool[i]] : Y[Y_bool[i] + 1]])\n",
    "    return line_extractions"
   ]
  },
  {
   "cell_type": "code",
   "execution_count": null,
   "id": "648b0784",
   "metadata": {},
   "outputs": [],
   "source": [
    "def preprocess_line(image):\n",
    "    gray = cv.cvtColor(image, cv.COLOR_BGR2GRAY)\n",
    "    blur = cv.bilateralFilter(gray, 3, 75, 75)\n",
    "    thresh = cv.adaptiveThreshold(blur, 255, cv.ADAPTIVE_THRESH_GAUSSIAN_C, cv.THRESH_BINARY, 11, 2)\n",
    "    k = 5\n",
    "    kernal = np.ones((k, k), np.uint8)\n",
    "    dilate = cv.dilate(thresh, kernal, iterations=1)\n",
    "    k = 21\n",
    "    kernal = np.ones((k, k), np.uint8)\n",
    "    erode = cv.erode(dilate, kernal, iterations=1)\n",
    "    return erode"
   ]
  },
  {
   "cell_type": "code",
   "execution_count": null,
   "id": "c16ba5d8",
   "metadata": {},
   "outputs": [],
   "source": [
    "def word_extraction(preprocessed_line1, line1):\n",
    "    sum_line = preprocessed_line1.sum(axis=0)\n",
    "    sum_line_scaled = MinMaxScalar(sum_line, -1, 1)\n",
    "    scaled_activated_sum = softplus(sigmoid(sum_line_scaled))\n",
    "    l = scaled_activated_sum\n",
    "    maximum = max(l)\n",
    "    cutout_dip = []\n",
    "    cutout_up = []\n",
    "    for i in range(len(l)):\n",
    "        if (i + 1) != len(l)):\n",
    "            if l[i] == maximum:\n",
    "                if (l[i + 1] < maximum):\n",
    "                    cutout_dip.append(i)\n",
    "            if l[i] < maximum):\n",
    "                if (l[i + 1] == maximum):\n",
    "                    cutout_up.append(i)\n",
    "    cutout_images = []\n",
    "    gray_line1 = cv.cvtColor(line1, cv.COLOR_BGR2GRAY)\n",
    "    for up, dip in zip(cutout_up, cutout_dip):\n",
    "        temp = gray_line1[:, dip : up]\n",
    "        cutout_images.append(temp)\n",
    "    return cutout_images"
   ]
  },
  {
   "cell_type": "code",
   "execution_count": null,
   "id": "28076171",
   "metadata": {},
   "outputs": [],
   "source": [
    "real_page = cv.imread('page03.jpg')"
   ]
  },
  {
   "cell_type": "code",
   "execution_count": null,
   "id": "ca762746",
   "metadata": {},
   "outputs": [],
   "source": [
    "plot_image(real_page)"
   ]
  },
  {
   "cell_type": "code",
   "execution_count": null,
   "id": "49ef6bc2",
   "metadata": {},
   "outputs": [],
   "source": [
    "preprocess_page = preprocess_image(real_page)"
   ]
  },
  {
   "cell_type": "code",
   "execution_count": null,
   "id": "2ff7a76d",
   "metadata": {},
   "outputs": [],
   "source": [
    "line_extracted = line_extraction(preprocess_page, real_page)"
   ]
  },
  {
   "cell_type": "code",
   "execution_count": null,
   "id": "850948f4",
   "metadata": {},
   "outputs": [],
   "source": [
    "for line in line_extracted:\n",
    "    line_p = cv.copyMakeBorder(line, 0, 0, 20, 20, cv.BORDER_CONSTANT, value=(255, 255, 255))\n",
    "    preprocessed_line = preprocess_line(line)\n",
    "    preprocessed_line_p = cv.copyMakeBorder(preprocessed_line, 0, 0, 20, 20, cv.BORDER_CONSTANT, value=255)\n",
    "    word_extracted = word_extraction(preprocessed_line_p, line_p)\n",
    "    for word in word_extracted:\n",
    "        print('words')\n",
    "        word_p = cv.copyMakeBorder(word, 10, 10, 0, 0, cv.BORDER_CONSTANT, value=255)\n",
    "        preprocessed_word = preprocess_word(word_p)\n",
    "        word_t = preprocessed_word.T\n",
    "        word_r = word_extraction_T(word_t, word_p.T)\n",
    "        for word_ in word_r:\n",
    "            plot_image(word_)"
   ]
  },
  {
   "cell_type": "code",
   "execution_count": null,
   "id": "8b8db6f0",
   "metadata": {},
   "outputs": [],
   "source": [
    "wanted, unwanted = word_extracted[-2], word_extracted[-1]"
   ]
  },
  {
   "cell_type": "code",
   "execution_count": null,
   "id": "4596e95a",
   "metadata": {},
   "outputs": [],
   "source": [
    "plot_image(wanted)"
   ]
  },
  {
   "cell_type": "code",
   "execution_count": null,
   "id": "14ab7842",
   "metadata": {},
   "outputs": [],
   "source": [
    "plot_image(unwanted)"
   ]
  },
  {
   "cell_type": "code",
   "execution_count": null,
   "id": "86ec4b27",
   "metadata": {},
   "outputs": [],
   "source": [
    "plot_graph(wanted)"
   ]
  },
  {
   "cell_type": "code",
   "execution_count": null,
   "id": "1938ad63",
   "metadata": {},
   "outputs": [],
   "source": [
    "plot_graph(unwanted)"
   ]
  },
  {
   "cell_type": "code",
   "execution_count": null,
   "id": "aa5dee3d",
   "metadata": {},
   "outputs": [],
   "source": [
    "wanted.sum(axis=1).mean()"
   ]
  },
  {
   "cell_type": "code",
   "execution_count": null,
   "id": "33042411",
   "metadata": {},
   "outputs": [],
   "source": [
    "unwanted.sum(axis=1).mean()"
   ]
  },
  {
   "cell_type": "code",
   "execution_count": null,
   "id": "f61996ce",
   "metadata": {},
   "outputs": [],
   "source": [
    "jkl = wanted.sum(axis=1)\n",
    "arr = []\n",
    "for llp in range(0,len(jkl)-1,2):\n",
    "    print(jkl[llp+1]-jkl[llp])\n",
    "arr"
   ]
  }
 ],
 "metadata": {},
 "nbformat": 4,
 "nbformat_minor": 5
}
