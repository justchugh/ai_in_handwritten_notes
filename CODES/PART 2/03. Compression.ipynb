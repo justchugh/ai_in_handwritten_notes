{
 "cells": [
  {
   "cell_type": "code",
   "execution_count": null,
   "id": "e288403d",
   "metadata": {},
   "outputs": [],
   "source": [
    "import numpy as np"
   ]
  },
  {
   "cell_type": "code",
   "execution_count": null,
   "id": "9abd5ec1",
   "metadata": {},
   "outputs": [],
   "source": [
    "from matplotlib import pyplot as plt"
   ]
  },
  {
   "cell_type": "code",
   "execution_count": null,
   "id": "06767f23",
   "metadata": {},
   "outputs": [],
   "source": [
    "import seaborn as sns"
   ]
  },
  {
   "cell_type": "code",
   "execution_count": null,
   "id": "0d38a7b4",
   "metadata": {},
   "outputs": [],
   "source": [
    "import cv2 as cv"
   ]
  },
  {
   "cell_type": "code",
   "execution_count": null,
   "id": "baaf28ca",
   "metadata": {},
   "outputs": [],
   "source": [
    "from sklearn import linear_model"
   ]
  },
  {
   "cell_type": "code",
   "execution_count": null,
   "id": "0e7812a8",
   "metadata": {},
   "outputs": [],
   "source": [
    "import warnings"
   ]
  },
  {
   "cell_type": "code",
   "execution_count": null,
   "id": "7e49bb43",
   "metadata": {},
   "outputs": [],
   "source": [
    "plt.style.use('seaborn')"
   ]
  },
  {
   "cell_type": "code",
   "execution_count": null,
   "id": "ddc5b596",
   "metadata": {},
   "outputs": [],
   "source": [
    "warnings.filterwarnings('ignore')"
   ]
  },
  {
   "cell_type": "code",
   "execution_count": null,
   "id": "53119dd3",
   "metadata": {},
   "outputs": [],
   "source": [
    "def plot_image(image, i=0):"
   ]
  },
  {
   "cell_type": "code",
   "execution_count": null,
   "id": "36e342ea",
   "metadata": {},
   "outputs": [],
   "source": [
    "    l = [cv.COLOR_BGR2RGB, cv.COLOR_BGR2GRAY, cv.COLOR_RGB2GRAY,]"
   ]
  },
  {
   "cell_type": "code",
   "execution_count": null,
   "id": "4e2fb73b",
   "metadata": {},
   "outputs": [],
   "source": [
    "    plt.imshow(cv.cvtColor(image, l[i]))"
   ]
  },
  {
   "cell_type": "code",
   "execution_count": null,
   "id": "abcafbde",
   "metadata": {},
   "outputs": [],
   "source": [
    "    plt.show(block=True)"
   ]
  },
  {
   "cell_type": "code",
   "execution_count": null,
   "id": "97a189d2",
   "metadata": {},
   "outputs": [],
   "source": [
    "def display_image(image):"
   ]
  },
  {
   "cell_type": "code",
   "execution_count": null,
   "id": "5284a24a",
   "metadata": {},
   "outputs": [],
   "source": [
    "    cv.imshow('image', image)"
   ]
  },
  {
   "cell_type": "code",
   "execution_count": null,
   "id": "7e32cdeb",
   "metadata": {},
   "outputs": [],
   "source": [
    "    cv.waitKey(0)"
   ]
  },
  {
   "cell_type": "code",
   "execution_count": null,
   "id": "127336e4",
   "metadata": {},
   "outputs": [],
   "source": [
    "    cv.destroyAllWindows()"
   ]
  },
  {
   "cell_type": "code",
   "execution_count": null,
   "id": "42e49426",
   "metadata": {},
   "outputs": [],
   "source": [
    "def plot_graph(image, i=0):"
   ]
  },
  {
   "cell_type": "code",
   "execution_count": null,
   "id": "78bebcb1",
   "metadata": {},
   "outputs": [],
   "source": [
    "    plt.figure(figsize=(15, 8))"
   ]
  },
  {
   "cell_type": "code",
   "execution_count": null,
   "id": "f65e1f4f",
   "metadata": {},
   "outputs": [],
   "source": [
    "    sns.scatterplot(np.arange(len(image.sum(i))), image.sum(i), label='a', alpha=0.6)"
   ]
  },
  {
   "cell_type": "code",
   "execution_count": null,
   "id": "c3981381",
   "metadata": {},
   "outputs": [],
   "source": [
    "def MinMaxScalar(x, a=-1, b=1):"
   ]
  },
  {
   "cell_type": "code",
   "execution_count": null,
   "id": "61a24b37",
   "metadata": {},
   "outputs": [],
   "source": [
    "    N = (x - x.min()) * (b - a)"
   ]
  },
  {
   "cell_type": "code",
   "execution_count": null,
   "id": "5c98711c",
   "metadata": {},
   "outputs": [],
   "source": [
    "    D = (x.max() - x.min())"
   ]
  },
  {
   "cell_type": "code",
   "execution_count": null,
   "id": "1444ace4",
   "metadata": {},
   "outputs": [],
   "source": [
    "    return (N / D) + a"
   ]
  },
  {
   "cell_type": "code",
   "execution_count": null,
   "id": "59539df8",
   "metadata": {},
   "outputs": [],
   "source": [
    "def sigmoid(t):"
   ]
  },
  {
   "cell_type": "code",
   "execution_count": null,
   "id": "41b52bbb",
   "metadata": {},
   "outputs": [],
   "source": [
    "    return 1 / (1 + np.exp(-t))"
   ]
  },
  {
   "cell_type": "code",
   "execution_count": null,
   "id": "6e6dc65f",
   "metadata": {},
   "outputs": [],
   "source": [
    "def softplus(t):"
   ]
  },
  {
   "cell_type": "code",
   "execution_count": null,
   "id": "f8566dca",
   "metadata": {},
   "outputs": [],
   "source": [
    "    return np.log(1 + np.exp(t))"
   ]
  },
  {
   "cell_type": "code",
   "execution_count": null,
   "id": "30cd5191",
   "metadata": {},
   "outputs": [],
   "source": [
    "def preprocess_image(image):"
   ]
  },
  {
   "cell_type": "code",
   "execution_count": null,
   "id": "7f88cba5",
   "metadata": {},
   "outputs": [],
   "source": [
    "    gray = cv.cvtColor(image, cv.COLOR_BGR2GRAY)\n",
    "    blur = cv.bilateralFilter(gray, 3, 75, 75)\n",
    "    thresh = cv.adaptiveThreshold(blur, 255, cv.ADAPTIVE_THRESH_GAUSSIAN_C, cv.THRESH_BINARY, 11, 2)\n",
    "    k = 3\n",
    "    kernal = np.ones((k, k), np.uint8)\n",
    "    dilate = cv.dilate(thresh, kernal, iterations=1)\n",
    "    k = 1\n",
    "    kernal = np.ones((k, k), np.uint8)\n",
    "    erode = cv.erode(dilate, kernal, iterations=1)\n",
    "    return erode"
   ]
  },
  {
   "cell_type": "code",
   "execution_count": null,
   "id": "edd9e95f",
   "metadata": {},
   "outputs": [],
   "source": [
    "def line_extraction(preprocess_imaged, r_image):"
   ]
  },
  {
   "cell_type": "code",
   "execution_count": null,
   "id": "53ccbb86",
   "metadata": {},
   "outputs": [],
   "source": [
    "    gray = cv.cvtColor(r_image, cv.COLOR_BGR2GRAY)\n",
    "    edges = cv.Canny(preprocess_imaged, 0, 125, apertureSize=3)\n",
    "    lines = cv.HoughLinesP(edges, 1, np.pi / 180, 100, minLineLength=int(r_image.shape[1] * 0.0002))\n",
    "    Y = [0,]\n",
    "    for line in lines:\n",
    "        x1, y1, x2, y2 = line[0]\n",
    "        Y.append(y1)\n",
    "    Y.append(gray.shape[0])\n",
    "    Y = sorted(Y)\n",
    "    Y_m = []\n",
    "    for i in range(len(Y)):\n",
    "        if i == len(Y)-1:\n",
    "            break\n",
    "        Y_m.append(Y[i + 1] - Y[i])\n",
    "    LR = linear_model.LinearRegression()\n",
    "    LR.fit(np.array(range(len(Y_m))).reshape(-1, 1), np.array(Y_m))\n",
    "    m = LR.coef_ \n",
    "    c = LR.intercept_\n",
    "    Y_bool = (np.array(Y_m) - (m * np.array(range(len(Y_m)))) - c) > 0\n",
    "    Y_bool = np.where(Y_bool>0)[0]\n",
    "    line_extractions = []\n",
    "    for i in range(len(Y_bool)):\n",
    "        line_extractions.append(r_image[:][Y[Y_bool[i]] : Y[Y_bool[i] + 1]])\n",
    "    return line_extractions"
   ]
  },
  {
   "cell_type": "code",
   "execution_count": null,
   "id": "2f9eb860",
   "metadata": {},
   "outputs": [],
   "source": [
    "def preprocess_line(image):\n",
    "    gray = cv.cvtColor(image, cv.COLOR_BGR2GRAY)\n",
    "    blur = cv.bilateralFilter(gray, 3, 75, 75)\n",
    "    thresh = cv.adaptiveThreshold(blur, 255, cv.ADAPTIVE_THRESH_GAUSSIAN_C, cv.THRESH_BINARY, 11, 2)\n",
    "    k = 5\n",
    "    kernal = np.ones((k, k), np.uint8)\n",
    "    dilate = cv.dilate(thresh, kernal, iterations=1)\n",
    "    k = 21\n",
    "    kernal = np.ones((k, k), np.uint8)\n",
    "    erode = cv.erode(dilate, kernal, iterations=1)\n",
    "    return erode"
   ]
  },
  {
   "cell_type": "code",
   "execution_count": null,
   "id": "d5701839",
   "metadata": {},
   "outputs": [],
   "source": [
    "def word_extraction(preprocessed_line1, line1):\n",
    "    sum_line = preprocessed_line1.sum(axis=0)\n",
    "    sum_line_scaled = MinMaxScalar(sum_line, -1, 1)\n",
    "    scaled_activated_sum = softplus(sigmoid(sum_line_scaled))\n",
    "    l = scaled_activated_sum\n",
    "    maximum = max(l)\n",
    "    cutout_dip = []\n",
    "    cutout_up = []\n",
    "    for i in range(len(l)):\n",
    "        if (i + 1) != len(l):\n",
    "            if l[i] == maximum:\n",
    "                if (l[i + 1] < maximum):\n",
    "                    cutout_dip.append(i)\n",
    "            if l[i] < maximum:\n",
    "                if (l[i + 1] == maximum):\n",
    "                    cutout_up.append(i)\n",
    "    cutout_images = []\n",
    "    gray_line1 = cv.cvtColor(line1, cv.COLOR_BGR2GRAY)\n",
    "    for up, dip in zip(cutout_up, cutout_dip):\n",
    "        temp = gray_line1[:, dip : up]\n",
    "        cutout_images.append(temp)\n",
    "    return cutout_images"
   ]
  },
  {
   "cell_type": "code",
   "execution_count": null,
   "id": "31079707",
   "metadata": {},
   "outputs": [],
   "source": [
    "real_page = cv.imread('page03.jpg')"
   ]
  },
  {
   "cell_type": "code",
   "execution_count": null,
   "id": "d020801a",
   "metadata": {},
   "outputs": [],
   "source": [
    "plot_image(real_page)"
   ]
  },
  {
   "cell_type": "code",
   "execution_count": null,
   "id": "8553d464",
   "metadata": {},
   "outputs": [],
   "source": [
    "preprocess_page = preprocess_image(real_page)"
   ]
  },
  {
   "cell_type": "code",
   "execution_count": null,
   "id": "53fe3039",
   "metadata": {},
   "outputs": [],
   "source": [
    "line_extracted = line_extraction(preprocess_page, real_page)"
   ]
  },
  {
   "cell_type": "code",
   "execution_count": null,
   "id": "5cce4e86",
   "metadata": {},
   "outputs": [],
   "source": [
    "for line in line_extracted:\n",
    "    line_p = cv.copyMakeBorder(line, 0, 0, 20, 20, cv.BORDER_CONSTANT, value=(255, 255, 255))\n",
    "    preprocessed_line = preprocess_line(line)\n",
    "    preprocessed_line_p = cv.copyMakeBorder(preprocessed_line, 0, 0, 20, 20, cv.BORDER_CONSTANT, value=255)\n",
    "    word_extracted = word_extraction(preprocessed_line_p, line_p)\n",
    "    for word in word_extracted:\n",
    "        print('words')\n",
    "        word_p = cv.copyMakeBorder(word, 10, 10, 0, 0, cv.BORDER_CONSTANT, value=255)\n",
    "        preprocessed_word = preprocess_word(word_p)\n",
    "        word_t = preprocessed_word.T\n",
    "        word_r = word_extraction_T(word_t, word_p.T)\n",
    "        for word_ in word_r:\n",
    "            plot_image(word_)"
   ]
  }
 ],
 "metadata": {},
 "nbformat": 4,
 "nbformat_minor": 5
}
