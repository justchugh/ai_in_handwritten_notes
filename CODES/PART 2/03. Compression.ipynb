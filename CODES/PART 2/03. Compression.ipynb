{
 "cells": [
  {
   "cell_type": "code",
   "execution_count": null,
   "id": "2ccd7efc",
   "metadata": {},
   "outputs": [],
   "source": [
    "import numpy as np"
   ]
  },
  {
   "cell_type": "code",
   "execution_count": null,
   "id": "e936eb13",
   "metadata": {},
   "outputs": [],
   "source": [
    "from matplotlib import pyplot as plt"
   ]
  },
  {
   "cell_type": "code",
   "execution_count": null,
   "id": "0fee6dd5",
   "metadata": {},
   "outputs": [],
   "source": [
    "import seaborn as sns"
   ]
  },
  {
   "cell_type": "code",
   "execution_count": null,
   "id": "8c03ee08",
   "metadata": {},
   "outputs": [],
   "source": [
    "import cv2 as cv"
   ]
  },
  {
   "cell_type": "code",
   "execution_count": null,
   "id": "6f6301ec",
   "metadata": {},
   "outputs": [],
   "source": [
    "from sklearn import linear_model"
   ]
  },
  {
   "cell_type": "code",
   "execution_count": null,
   "id": "5e9c3174",
   "metadata": {},
   "outputs": [],
   "source": [
    "import warnings"
   ]
  },
  {
   "cell_type": "code",
   "execution_count": null,
   "id": "057261c7",
   "metadata": {},
   "outputs": [],
   "source": [
    "plt.style.use('seaborn')"
   ]
  },
  {
   "cell_type": "code",
   "execution_count": null,
   "id": "9ea46a4f",
   "metadata": {},
   "outputs": [],
   "source": [
    "warnings.filterwarnings('ignore')"
   ]
  },
  {
   "cell_type": "code",
   "execution_count": null,
   "id": "3551344d",
   "metadata": {},
   "outputs": [],
   "source": [
    "def plot_image(image, i=0):"
   ]
  },
  {
   "cell_type": "code",
   "execution_count": null,
   "id": "c7551075",
   "metadata": {},
   "outputs": [],
   "source": [
    "    l = [cv.COLOR_BGR2RGB, cv.COLOR_BGR2GRAY, cv.COLOR_RGB2GRAY,]"
   ]
  },
  {
   "cell_type": "code",
   "execution_count": null,
   "id": "8dfecbfb",
   "metadata": {},
   "outputs": [],
   "source": [
    "    plt.imshow(cv.cvtColor(image, l[i]))"
   ]
  },
  {
   "cell_type": "code",
   "execution_count": null,
   "id": "63c0e517",
   "metadata": {},
   "outputs": [],
   "source": [
    "    plt.show(block=True)"
   ]
  },
  {
   "cell_type": "code",
   "execution_count": null,
   "id": "9fba7627",
   "metadata": {},
   "outputs": [],
   "source": [
    "def display_image(image):"
   ]
  },
  {
   "cell_type": "code",
   "execution_count": null,
   "id": "0cf14836",
   "metadata": {},
   "outputs": [],
   "source": [
    "    cv.imshow('image', image)"
   ]
  },
  {
   "cell_type": "code",
   "execution_count": null,
   "id": "eb7f5ed5",
   "metadata": {},
   "outputs": [],
   "source": [
    "    cv.waitKey(0)"
   ]
  },
  {
   "cell_type": "code",
   "execution_count": null,
   "id": "0df4558f",
   "metadata": {},
   "outputs": [],
   "source": [
    "    cv.destroyAllWindows()"
   ]
  },
  {
   "cell_type": "code",
   "execution_count": null,
   "id": "95c9ee69",
   "metadata": {},
   "outputs": [],
   "source": [
    "def plot_graph(image, i=0):"
   ]
  },
  {
   "cell_type": "code",
   "execution_count": null,
   "id": "554f1c8a",
   "metadata": {},
   "outputs": [],
   "source": [
    "    plt.figure(figsize=(15, 8))"
   ]
  },
  {
   "cell_type": "code",
   "execution_count": null,
   "id": "ee8eb072",
   "metadata": {},
   "outputs": [],
   "source": [
    "    sns.scatterplot(np.arange(len(image.sum(i))), image.sum(i), label='a', alpha=0.6)"
   ]
  },
  {
   "cell_type": "code",
   "execution_count": null,
   "id": "358ce506",
   "metadata": {},
   "outputs": [],
   "source": [
    "def MinMaxScalar(x, a=-1, b=1):"
   ]
  },
  {
   "cell_type": "code",
   "execution_count": null,
   "id": "361e1118",
   "metadata": {},
   "outputs": [],
   "source": [
    "    N = (x - x.min()) * (b - a)"
   ]
  },
  {
   "cell_type": "code",
   "execution_count": null,
   "id": "80aa8e7e",
   "metadata": {},
   "outputs": [],
   "source": [
    "    D = (x.max() - x.min())"
   ]
  },
  {
   "cell_type": "code",
   "execution_count": null,
   "id": "03b5e6ff",
   "metadata": {},
   "outputs": [],
   "source": [
    "    return (N / D) + a"
   ]
  },
  {
   "cell_type": "code",
   "execution_count": null,
   "id": "252d3b79",
   "metadata": {},
   "outputs": [],
   "source": [
    "def sigmoid(t):"
   ]
  },
  {
   "cell_type": "code",
   "execution_count": null,
   "id": "ad607ade",
   "metadata": {},
   "outputs": [],
   "source": [
    "    return 1 / (1 + np.exp(-t))"
   ]
  },
  {
   "cell_type": "code",
   "execution_count": null,
   "id": "71e6259b",
   "metadata": {},
   "outputs": [],
   "source": [
    "def softplus(t):"
   ]
  },
  {
   "cell_type": "code",
   "execution_count": null,
   "id": "d382567d",
   "metadata": {},
   "outputs": [],
   "source": [
    "    return np.log(1 + np.exp(t))"
   ]
  }
 ],
 "metadata": {},
 "nbformat": 4,
 "nbformat_minor": 5
}
