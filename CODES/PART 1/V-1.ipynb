{
 "cells": [
  {
   "cell_type": "code",
   "execution_count": null,
   "id": "f6e83a8e",
   "metadata": {},
   "outputs": [],
   "source": [
    "import numpy as np"
   ]
  },
  {
   "cell_type": "code",
   "execution_count": null,
   "id": "01daa2a0",
   "metadata": {},
   "outputs": [],
   "source": [
    "from matplotlib import pyplot as plt"
   ]
  },
  {
   "cell_type": "code",
   "execution_count": null,
   "id": "c8c56ef5",
   "metadata": {},
   "outputs": [],
   "source": [
    "import cv2 as cv"
   ]
  },
  {
   "cell_type": "code",
   "execution_count": null,
   "id": "28743733",
   "metadata": {},
   "outputs": [],
   "source": [
    "image = cv.imread('3.jpg', 0)"
   ]
  },
  {
   "cell_type": "code",
   "execution_count": null,
   "id": "810ab47b",
   "metadata": {},
   "outputs": [],
   "source": [
    "image = cv.resize(image, (400, 200))"
   ]
  },
  {
   "cell_type": "code",
   "execution_count": null,
   "id": "704ae35f",
   "metadata": {},
   "outputs": [],
   "source": [
    "image.shape"
   ]
  },
  {
   "cell_type": "code",
   "execution_count": null,
   "id": "d33aab03",
   "metadata": {},
   "outputs": [],
   "source": [
    "cv.imshow('R', image)"
   ]
  },
  {
   "cell_type": "code",
   "execution_count": null,
   "id": "6f82d338",
   "metadata": {},
   "outputs": [],
   "source": [
    "cv.waitKey(0)"
   ]
  },
  {
   "cell_type": "code",
   "execution_count": null,
   "id": "7a72bbdb",
   "metadata": {},
   "outputs": [],
   "source": [
    "cv.destroyAllWindows()"
   ]
  }
 ],
 "metadata": {},
 "nbformat": 4,
 "nbformat_minor": 5
}
