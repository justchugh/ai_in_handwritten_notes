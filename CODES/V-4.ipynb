{
 "cells": [
  {
   "cell_type": "code",
   "execution_count": null,
   "id": "f83c6208",
   "metadata": {},
   "outputs": [],
   "source": [
    "import numpy as np"
   ]
  },
  {
   "cell_type": "code",
   "execution_count": null,
   "id": "33211dae",
   "metadata": {},
   "outputs": [],
   "source": [
    "from matplotlib import pyplot as plt"
   ]
  },
  {
   "cell_type": "code",
   "execution_count": null,
   "id": "8dbe56c8",
   "metadata": {},
   "outputs": [],
   "source": [
    "import cv2 as cv"
   ]
  },
  {
   "cell_type": "code",
   "execution_count": null,
   "id": "da93300d",
   "metadata": {},
   "outputs": [],
   "source": [
    "def display_image(image):\n",
    "    plt.imshow(cv.cvtColor(image, cv.COLOR_BGR2RGB))\n",
    "    plt.show(block=True)"
   ]
  },
  {
   "cell_type": "code",
   "execution_count": null,
   "id": "e247e379",
   "metadata": {},
   "outputs": [],
   "source": [
    "def display_graph(image, i=0):\n",
    "    sum_ = image.sum(axis=i)\n",
    "    plt.figure(figsize=(15, 8))\n",
    "    x = list(range(len(sum_)))\n",
    "    y = list(sum_)\n",
    "    plt.scatter(x, y, alpha=0.5)\n",
    "    plt.show()"
   ]
  },
  {
   "cell_type": "code",
   "execution_count": null,
   "id": "000a4c6f",
   "metadata": {},
   "outputs": [],
   "source": [
    "image = cv.imread(\"6.jpg\")\n",
    "image = cv.resize(image, (300, 300))\n",
    "display_image(image)"
   ]
  },
  {
   "cell_type": "code",
   "execution_count": null,
   "id": "4b41aeef",
   "metadata": {},
   "outputs": [],
   "source": [
    "gray = cv.cvtColor(image, cv.COLOR_BGR2GRAY)"
   ]
  },
  {
   "cell_type": "code",
   "execution_count": null,
   "id": "58344666",
   "metadata": {},
   "outputs": [],
   "source": [
    "display_image(gray)"
   ]
  },
  {
   "cell_type": "code",
   "execution_count": null,
   "id": "4c98f99e",
   "metadata": {},
   "outputs": [],
   "source": [
    "display_graph(gray)"
   ]
  },
  {
   "cell_type": "code",
   "execution_count": null,
   "id": "5f85f067",
   "metadata": {},
   "outputs": [],
   "source": [
    "display_graph(gray, i=1)"
   ]
  },
  {
   "cell_type": "code",
   "execution_count": null,
   "id": "573fcc1c",
   "metadata": {},
   "outputs": [],
   "source": [
    "edges = cv.Canny(gray, 0, 125, apertureSize=3)"
   ]
  },
  {
   "cell_type": "code",
   "execution_count": null,
   "id": "adb2a741",
   "metadata": {},
   "outputs": [],
   "source": [
    "display_image(edges)"
   ]
  },
  {
   "cell_type": "code",
   "execution_count": null,
   "id": "6db13ff9",
   "metadata": {},
   "outputs": [],
   "source": [
    "def model1(edges):\n",
    "    lines = cv.HoughLinesP(edges, 1, np.pi / 180, 100, minLineLength=100, maxLineGap=10)\n",
    "    Y = []\n",
    "    for line in lines:\n",
    "        x1, y1, x2, y2 = line[0]\n",
    "        cv.line(image, (x1, y1), (x2, y2), (0,255,0), 2)\n",
    "        Y.append(y1)\n",
    "    Y = sorted(Y)\n",
    "    display_image(image)\n",
    "    return Y\n",
    "Y = model1(edges)"
   ]
  }
 ],
 "metadata": {},
 "nbformat": 4,
 "nbformat_minor": 5
}
