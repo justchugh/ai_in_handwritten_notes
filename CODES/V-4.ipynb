{
 "cells": [
  {
   "cell_type": "code",
   "execution_count": null,
   "id": "d7518f5b",
   "metadata": {},
   "outputs": [],
   "source": [
    "import numpy as np"
   ]
  },
  {
   "cell_type": "code",
   "execution_count": null,
   "id": "dfe7cfb9",
   "metadata": {},
   "outputs": [],
   "source": [
    "from matplotlib import pyplot as plt"
   ]
  },
  {
   "cell_type": "code",
   "execution_count": null,
   "id": "490d2570",
   "metadata": {},
   "outputs": [],
   "source": [
    "import cv2 as cv"
   ]
  },
  {
   "cell_type": "code",
   "execution_count": null,
   "id": "6f429e0e",
   "metadata": {},
   "outputs": [],
   "source": [
    "def display_image(image):\n",
    "    plt.imshow(cv.cvtColor(image, cv.COLOR_BGR2RGB))\n",
    "    plt.show(block=True)"
   ]
  },
  {
   "cell_type": "code",
   "execution_count": null,
   "id": "1095b803",
   "metadata": {},
   "outputs": [],
   "source": [
    "def display_graph(image, i=0):\n",
    "    sum_ = image.sum(axis=i)\n",
    "    plt.figure(figsize=(15, 8))\n",
    "    x = list(range(len(sum_)))\n",
    "    y = list(sum_)\n",
    "    plt.scatter(x, y, alpha=0.5)\n",
    "    plt.show()"
   ]
  },
  {
   "cell_type": "code",
   "execution_count": null,
   "id": "c6ef3277",
   "metadata": {},
   "outputs": [],
   "source": [
    "image = cv.imread(\"6.jpg\")\n",
    "image = cv.resize(image, (300, 300))\n",
    "display_image(image)"
   ]
  },
  {
   "cell_type": "code",
   "execution_count": null,
   "id": "41ea900d",
   "metadata": {},
   "outputs": [],
   "source": [
    "gray = cv.cvtColor(image, cv.COLOR_BGR2GRAY)"
   ]
  },
  {
   "cell_type": "code",
   "execution_count": null,
   "id": "d76dd1e6",
   "metadata": {},
   "outputs": [],
   "source": [
    "display_image(gray)"
   ]
  },
  {
   "cell_type": "code",
   "execution_count": null,
   "id": "5b48ecc6",
   "metadata": {},
   "outputs": [],
   "source": [
    "display_graph(gray)"
   ]
  },
  {
   "cell_type": "code",
   "execution_count": null,
   "id": "6814f46a",
   "metadata": {},
   "outputs": [],
   "source": [
    "display_graph(gray, i=1)"
   ]
  },
  {
   "cell_type": "code",
   "execution_count": null,
   "id": "bec9dfd0",
   "metadata": {},
   "outputs": [],
   "source": [
    "edges = cv.Canny(gray, 0, 125, apertureSize=3)"
   ]
  }
 ],
 "metadata": {},
 "nbformat": 4,
 "nbformat_minor": 5
}
