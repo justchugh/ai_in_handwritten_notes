{
 "cells": [
  {
   "cell_type": "code",
   "execution_count": null,
   "id": "93557ffe",
   "metadata": {},
   "outputs": [],
   "source": [
    "import numpy as np"
   ]
  },
  {
   "cell_type": "code",
   "execution_count": null,
   "id": "4d3288aa",
   "metadata": {},
   "outputs": [],
   "source": [
    "from matplotlib import pyplot as plt"
   ]
  },
  {
   "cell_type": "code",
   "execution_count": null,
   "id": "1d613369",
   "metadata": {},
   "outputs": [],
   "source": [
    "import cv2 as cv"
   ]
  },
  {
   "cell_type": "code",
   "execution_count": null,
   "id": "0b49ec91",
   "metadata": {},
   "outputs": [],
   "source": [
    "def display_image(image):\n",
    "    plt.imshow(cv.cvtColor(image, cv.COLOR_BGR2RGB))\n",
    "    plt.show(block=True)"
   ]
  },
  {
   "cell_type": "code",
   "execution_count": null,
   "id": "fc3a473f",
   "metadata": {},
   "outputs": [],
   "source": [
    "def display_graph(image, i=0):\n",
    "    sum_ = image.sum(axis=i)\n",
    "    plt.figure(figsize=(15, 8))\n",
    "    x = list(range(len(sum_)))\n",
    "    y = list(sum_)\n",
    "    plt.scatter(x, y, alpha=0.5)\n",
    "    plt.show()"
   ]
  },
  {
   "cell_type": "code",
   "execution_count": null,
   "id": "24c0a9ed",
   "metadata": {},
   "outputs": [],
   "source": [
    "image = cv.imread(\"6.jpg\")\n",
    "image = cv.resize(image, (300, 300))\n",
    "display_image(image)"
   ]
  }
 ],
 "metadata": {},
 "nbformat": 4,
 "nbformat_minor": 5
}
