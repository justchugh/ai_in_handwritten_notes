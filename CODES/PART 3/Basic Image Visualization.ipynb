{
 "cells": [
  {
   "cell_type": "code",
   "execution_count": null,
   "id": "53a8f98c",
   "metadata": {},
   "outputs": [],
   "source": [
    "import warnings\n",
    "import numpy as np\n",
    "import pandas as pd\n",
    "from matplotlib import pyplot as plt\n",
    "import seaborn as sns\n",
    "from plotly import express\n",
    "import cv2 as cv\n",
    "from sklearn import linear_model\n",
    "plt.style.use('seaborn')\n",
    "warnings.filterwarnings('ignore')"
   ]
  },
  {
   "cell_type": "code",
   "execution_count": null,
   "id": "ebf296d5",
   "metadata": {},
   "outputs": [],
   "source": [
    "def plot_image(image, i=0):\n",
    "    l = [cv.COLOR_BGR2RGB, cv.COLOR_BGR2GRAY, cv.COLOR_RGB2GRAY]\n",
    "    plt.imshow(cv.cvtColor(image, l[i]))\n",
    "    plt.show(block=True)"
   ]
  },
  {
   "cell_type": "code",
   "execution_count": null,
   "id": "309d90b9",
   "metadata": {},
   "outputs": [],
   "source": [
    "def display_image(image):\n",
    "    cv.imshow('image', image)\n",
    "    cv.waitKey(0)\n",
    "    cv.destroyAllWindows()"
   ]
  },
  {
   "cell_type": "code",
   "execution_count": null,
   "id": "41d84323",
   "metadata": {},
   "outputs": [],
   "source": [
    "def plot_graph(image, i=0, hue=None):\n",
    "    plt.figure(figsize=(15, 8))\n",
    "    sns.scatterplot(np.arange(len(image.sum(i))), MinMaxScalar(image.sum(i)), label='a', alpha=0.6, hue=hue)\n",
    "    sns.scatterplot(np.arange(len(image.sum(i))), sigmoid(MinMaxScalar(image.sum(i))), label='b', alpha=0.6, hue=hue)"
   ]
  },
  {
   "cell_type": "code",
   "execution_count": null,
   "id": "5b6b7743",
   "metadata": {},
   "outputs": [],
   "source": [
    "def plot_graph_(image, i=0):\n",
    "    df = pd.DataFrame(np.array([np.arange(len(image.sum(0))), MinMaxScalar(image.sum(0)), sigmoid(MinMaxScalar(image.sum(0)))]).T, columns=['img_x', 'img_y1', 'img_y2'])\n",
    "    plot = express.scatter(data_frame=df, x='img_x', y=['img_y1', 'img_y2'], opacity=0.5)\n",
    "    return plot"
   ]
  },
  {
   "cell_type": "code",
   "execution_count": null,
   "id": "330bea95",
   "metadata": {},
   "outputs": [],
   "source": [
    "def MinMaxScalar(x, a=-1, b=1):\n",
    "    N = (x - x.min()) * (b - a)\n",
    "    D = (x.max() - x.min())\n",
    "    return (N / D) + a"
   ]
  },
  {
   "cell_type": "code",
   "execution_count": null,
   "id": "5eab26bb",
   "metadata": {},
   "outputs": [],
   "source": [
    "def sigmoid(t):\n",
    "    return 1 / (1 + np.exp(-t))"
   ]
  },
  {
   "cell_type": "code",
   "execution_count": null,
   "id": "4e8ee209",
   "metadata": {},
   "outputs": [],
   "source": [
    "def tanh(x):\n",
    "    return (np.exp(x) - np.exp(-x)) / (np.exp(x) + np.exp(-x))"
   ]
  },
  {
   "cell_type": "code",
   "execution_count": null,
   "id": "21d65c11",
   "metadata": {},
   "outputs": [],
   "source": [
    "def relu(x):\n",
    "    return np.maximum(0, x)"
   ]
  },
  {
   "cell_type": "code",
   "execution_count": null,
   "id": "69877440",
   "metadata": {},
   "outputs": [],
   "source": [
    "def lrelu(x, c=0.01):\n",
    "    return np.maximum(c * x, x)"
   ]
  },
  {
   "cell_type": "code",
   "execution_count": null,
   "id": "06b8c544",
   "metadata": {},
   "outputs": [],
   "source": [
    "image = cv.imread('2.jpg', 0)\n",
    "image.shape\n",
    "plot_graph(image)\n",
    "plot_graph_(image)"
   ]
  },
  {
   "cell_type": "code",
   "execution_count": null,
   "id": "e943dc76",
   "metadata": {},
   "outputs": [],
   "source": [
    "y1 = image.sum(0)\n",
    "x1 = np.arange(len(y1))\n",
    "c1 = y1.copy()\n",
    "c1[: 270 + 1] = 1\n",
    "c1[270 + 1: 600 + 1] = 0\n",
    "c1[600 + 1: ] = 1\n",
    "x1.shape, c1.shape"
   ]
  },
  {
   "cell_type": "code",
   "execution_count": null,
   "id": "ad2183bc",
   "metadata": {},
   "outputs": [],
   "source": [
    "i = 0\n",
    "plt.figure(figsize=(15, 8))\n",
    "sns.scatterplot(np.arange(len(image.sum(i))), MinMaxScalar(image.sum(i)), label='a', alpha=0.6, hue=c1)\n",
    "sns.scatterplot(np.arange(len(image.sum(i))), sigmoid(MinMaxScalar(image.sum(i))), label='b', alpha=0.6, hue=c1)"
   ]
  }
 ],
 "metadata": {},
 "nbformat": 4,
 "nbformat_minor": 5
}
