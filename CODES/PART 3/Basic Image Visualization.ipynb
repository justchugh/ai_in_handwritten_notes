{
 "cells": [
  {
   "cell_type": "code",
   "execution_count": null,
   "id": "bc55cbd2",
   "metadata": {},
   "outputs": [],
   "source": [
    "import warnings\n",
    "import numpy as np\n",
    "import pandas as pd\n",
    "from matplotlib import pyplot as plt\n",
    "import seaborn as sns\n",
    "from plotly import express\n",
    "import cv2 as cv\n",
    "from sklearn import linear_model\n",
    "plt.style.use('seaborn')\n",
    "warnings.filterwarnings('ignore')"
   ]
  },
  {
   "cell_type": "code",
   "execution_count": null,
   "id": "a5cabdc3",
   "metadata": {},
   "outputs": [],
   "source": [
    "def plot_image(image, i=0):\n",
    "    l = [cv.COLOR_BGR2RGB, cv.COLOR_BGR2GRAY, cv.COLOR_RGB2GRAY]\n",
    "    plt.imshow(cv.cvtColor(image, l[i]))\n",
    "    plt.show(block=True)"
   ]
  },
  {
   "cell_type": "code",
   "execution_count": null,
   "id": "4b809591",
   "metadata": {},
   "outputs": [],
   "source": [
    "def display_image(image):\n",
    "    cv.imshow('image', image)\n",
    "    cv.waitKey(0)\n",
    "    cv.destroyAllWindows()"
   ]
  },
  {
   "cell_type": "code",
   "execution_count": null,
   "id": "09145d7e",
   "metadata": {},
   "outputs": [],
   "source": [
    "def plot_graph(image, i=0, hue=None):\n",
    "    plt.figure(figsize=(15, 8))\n",
    "    sns.scatterplot(np.arange(len(image.sum(i))), MinMaxScalar(image.sum(i)), label='a', alpha=0.6, hue=hue)\n",
    "    sns.scatterplot(np.arange(len(image.sum(i))), sigmoid(MinMaxScalar(image.sum(i))), label='b', alpha=0.6, hue=hue)"
   ]
  },
  {
   "cell_type": "code",
   "execution_count": null,
   "id": "12060ad6",
   "metadata": {},
   "outputs": [],
   "source": [
    "def plot_graph_(image, i=0):\n",
    "    df = pd.DataFrame(np.array([np.arange(len(image.sum(0))), MinMaxScalar(image.sum(0)), sigmoid(MinMaxScalar(image.sum(0)))]).T, columns=['img_x', 'img_y1', 'img_y2'])\n",
    "    plot = express.scatter(data_frame=df, x='img_x', y=['img_y1', 'img_y2'], opacity=0.5)\n",
    "    return plot"
   ]
  },
  {
   "cell_type": "code",
   "execution_count": null,
   "id": "0b7bf613",
   "metadata": {},
   "outputs": [],
   "source": [
    "def MinMaxScalar(x, a=-1, b=1):\n",
    "    N = (x - x.min()) * (b - a)\n",
    "    D = (x.max() - x.min())\n",
    "    return (N / D) + a"
   ]
  },
  {
   "cell_type": "code",
   "execution_count": null,
   "id": "8c491424",
   "metadata": {},
   "outputs": [],
   "source": [
    "def sigmoid(t):\n",
    "    return 1 / (1 + np.exp(-t))"
   ]
  },
  {
   "cell_type": "code",
   "execution_count": null,
   "id": "b7c4c450",
   "metadata": {},
   "outputs": [],
   "source": [
    "def tanh(x):\n",
    "    return (np.exp(x) - np.exp(-x)) / (np.exp(x) + np.exp(-x))"
   ]
  },
  {
   "cell_type": "code",
   "execution_count": null,
   "id": "3315e5e8",
   "metadata": {},
   "outputs": [],
   "source": [
    "def relu(x):\n",
    "    return np.maximum(0, x)"
   ]
  },
  {
   "cell_type": "code",
   "execution_count": null,
   "id": "8ff9f9b2",
   "metadata": {},
   "outputs": [],
   "source": [
    "def lrelu(x, c=0.01):\n",
    "    return np.maximum(c * x, x)"
   ]
  },
  {
   "cell_type": "code",
   "execution_count": null,
   "id": "f82a0a29",
   "metadata": {},
   "outputs": [],
   "source": [
    "image = cv.imread('2.jpg', 0)\n",
    "image.shape\n",
    "plot_graph(image)\n",
    "plot_graph_(image)"
   ]
  },
  {
   "cell_type": "code",
   "execution_count": null,
   "id": "a6edcc4b",
   "metadata": {},
   "outputs": [],
   "source": [
    "y1 = image.sum(0)\n",
    "x1 = np.arange(len(y1))\n",
    "c1 = y1.copy()\n",
    "c1[: 270 + 1] = 1\n",
    "c1[270 + 1: 600 + 1] = 0\n",
    "c1[600 + 1: ] = 1\n",
    "x1.shape, c1.shape"
   ]
  },
  {
   "cell_type": "code",
   "execution_count": null,
   "id": "7e0583c8",
   "metadata": {},
   "outputs": [],
   "source": [
    "i = 0\n",
    "plt.figure(figsize=(15, 8))\n",
    "sns.scatterplot(np.arange(len(image.sum(i))), MinMaxScalar(image.sum(i)), label='a', alpha=0.6, hue=c1)\n",
    "sns.scatterplot(np.arange(len(image.sum(i))), sigmoid(MinMaxScalar(image.sum(i))), label='b', alpha=0.6, hue=c1)"
   ]
  },
  {
   "cell_type": "code",
   "execution_count": null,
   "id": "59899cb6",
   "metadata": {},
   "outputs": [],
   "source": [
    "i = 0\n",
    "plt.figure(figsize=(15, 8))\n",
    "sns.scatterplot(np.arange(len(image.sum(i))), MinMaxScalar(image.sum(i)), label='a', alpha=0.6, hue=c1)\n",
    "sns.scatterplot(np.arange(len(image.sum(i))), tanh(MinMaxScalar(image.sum(i))), label='b', alpha=0.6, hue=c1)"
   ]
  },
  {
   "cell_type": "code",
   "execution_count": null,
   "id": "58d76158",
   "metadata": {},
   "outputs": [],
   "source": [
    "i = 0\n",
    "plt.figure(figsize=(15, 8))\n",
    "sns.scatterplot(np.arange(len(image.sum(i))), MinMaxScalar(image.sum(i)), label='a', alpha=0.6, hue=c1)\n",
    "sns.scatterplot(np.arange(len(image.sum(i))), relu(MinMaxScalar(image.sum(i))), label='b', alpha=0.6, hue=c1)\n",
    "sns.scatterplot(np.arange(len(image.sum(i))), lrelu(MinMaxScalar(image.sum(i)), 0.1), label='c', alpha=0.6, hue=c1)"
   ]
  },
  {
   "cell_type": "code",
   "execution_count": null,
   "id": "f2e1cc84",
   "metadata": {},
   "outputs": [],
   "source": [
    "image_blurred = cv.GaussianBlur(image, (5,5), 0)\n",
    "plot_image(image_blurred)\n",
    "plot_graph(image_blurred)"
   ]
  },
  {
   "cell_type": "code",
   "execution_count": null,
   "id": "20dc4ae8",
   "metadata": {},
   "outputs": [],
   "source": [
    "image_edges = cv.Canny(image_blurred, 100, 200)\n",
    "plot_image(image_edges)\n",
    "plot_graph(image_edges)"
   ]
  },
  {
   "cell_type": "code",
   "execution_count": null,
   "id": "edf909fd",
   "metadata": {},
   "outputs": [],
   "source": [
    "lines = cv.HoughLinesP(image_edges, 1, np.pi / 180, 100, minLineLength=100, maxLineGap=10)\n",
    "for line in lines:\n",
    "    x1, y1, x2, y2 = line[0]\n",
    "    cv.line(image, (x1, y1), (x2, y2), (0, 255, 0), 2)\n",
    "plot_image(image)\n",
    "plot_graph(image)"
   ]
  },
  {
   "cell_type": "code",
   "execution_count": null,
   "id": "86bd2c7b",
   "metadata": {},
   "outputs": [],
   "source": [
    "rect_kernel = cv.getStructuringElement(cv.MORPH_RECT, (30, 5))\n",
    "dilation = cv.dilate(image_edges, rect_kernel, iterations = 1)\n",
    "plot_image(dilation)\n",
    "plot_graph(dilation)"
   ]
  },
  {
   "cell_type": "code",
   "execution_count": null,
   "id": "d936d499",
   "metadata": {},
   "outputs": [],
   "source": [
    "contours, hierarchy = cv.findContours(dilation, cv.RETR_EXTERNAL, cv.CHAIN_APPROX_SIMPLE)\n",
    "for cnt in contours:\n",
    "    x, y, w, h = cv.boundingRect(cnt)\n",
    "    cv.rectangle(image, (x, y), (x + w, y + h), (0, 255, 0), 2)\n",
    "plot_image(image)"
   ]
  },
  {
   "cell_type": "code",
   "execution_count": null,
   "id": "ed689d70",
   "metadata": {},
   "outputs": [],
   "source": [
    "text = 'Detected Text'\n",
    "cv.putText(image, text, (x, y - 10), cv.FONT_HERSHEY_SIMPLEX, 0.9, (0, 255, 0), 2)\n",
    "plot_image(image)"
   ]
  }
 ],
 "metadata": {},
 "nbformat": 4,
 "nbformat_minor": 5
}
