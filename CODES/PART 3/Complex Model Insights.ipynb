{
 "cells": [
  {
   "cell_type": "code",
   "execution_count": null,
   "id": "0e2618b7",
   "metadata": {},
   "outputs": [],
   "source": [
    "\n",
    "import numpy as np\n",
    "import pandas as pd\n",
    "import cv2 as cv\n",
    "from matplotlib import pyplot as plt\n",
    "import seaborn as sns\n",
    "from sklearn.model_selection import train_test_split\n",
    "from sklearn.linear_model import LogisticRegression\n",
    "\n",
    "plt.style.use(\"seaborn\")\n"
   ]
  },
  {
   "cell_type": "code",
   "execution_count": null,
   "id": "9cb15f4a",
   "metadata": {},
   "outputs": [],
   "source": [
    "\n",
    "# Load image and apply advanced image processing techniques\n",
    "def load_processed_image(path):\n",
    "    image = cv.imread(path, 0)\n",
    "    # Applying CLAHE (Contrast Limited Adaptive Histogram Equalization)\n",
    "    clahe = cv.createCLAHE(clipLimit=2.0, tileGridSize=(8, 8))\n",
    "    processed_image = clahe.apply(image)\n",
    "    plt.imshow(cv.cvtColor(processed_image, cv.COLOR_BGR2RGB))\n",
    "    plt.show()\n",
    "    return processed_image\n",
    "\n",
    "image_path = 'line1.jpg'\n",
    "image = load_processed_image(image_path)\n"
   ]
  },
  {
   "cell_type": "code",
   "execution_count": null,
   "id": "571d786a",
   "metadata": {},
   "outputs": [],
   "source": [
    "\n",
    "# Advanced image analysis using contours\n",
    "def analyze_image(image):\n",
    "    contours, _ = cv.findContours(image, cv.RETR_TREE, cv.CHAIN_APPROX_SIMPLE)\n",
    "    image_contours = cv.drawContours(image.copy(), contours, -1, (0, 255, 0), 3)\n",
    "    plt.imshow(image_contours)\n",
    "    plt.show()\n",
    "    return contours\n",
    "\n",
    "contours = analyze_image(image)\n"
   ]
  },
  {
   "cell_type": "code",
   "execution_count": null,
   "id": "19d9a9cf",
   "metadata": {},
   "outputs": [],
   "source": [
    "\n",
    "# Data extraction for machine learning from contour analysis\n",
    "def extract_features(contours):\n",
    "    features = [cv.contourArea(cnt) for cnt in contours]\n",
    "    return features\n",
    "\n",
    "features = extract_features(contours)\n",
    "labels = np.array([1 if f > 100 else 0 for f in features])  # Label based on contour area\n",
    "\n",
    "x_train, x_test, y_train, y_test = train_test_split(features, labels, test_size=0.3, random_state=42)\n",
    "\n",
    "# Train Logistic Regression\n",
    "logistic_model = LogisticRegression()\n",
    "logistic_model.fit(np.array(x_train).reshape(-1, 1), y_train)\n"
   ]
  }
 ],
 "metadata": {},
 "nbformat": 4,
 "nbformat_minor": 5
}
