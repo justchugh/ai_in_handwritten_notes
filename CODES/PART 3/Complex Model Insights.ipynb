{
 "cells": [
  {
   "cell_type": "code",
   "execution_count": null,
   "id": "48ed0e99",
   "metadata": {},
   "outputs": [],
   "source": [
    "\n",
    "import numpy as np\n",
    "import pandas as pd\n",
    "import cv2 as cv\n",
    "from matplotlib import pyplot as plt\n",
    "import seaborn as sns\n",
    "from sklearn.model_selection import train_test_split\n",
    "from sklearn.svm import SVC\n",
    "\n",
    "plt.style.use(\"seaborn\")\n"
   ]
  },
  {
   "cell_type": "code",
   "execution_count": null,
   "id": "ce793cd4",
   "metadata": {},
   "outputs": [],
   "source": [
    "\n",
    "# Load image and apply bilateral filtering for noise reduction\n",
    "def load_filtered_image(path):\n",
    "    image = cv.imread(path, 0)\n",
    "    filtered_image = cv.bilateralFilter(image, 9, 75, 75)\n",
    "    plt.imshow(cv.cvtColor(filtered_image, cv.COLOR_BGR2RGB))\n",
    "    plt.show()\n",
    "    return filtered_image\n",
    "\n",
    "image_path = 'line1.jpg'\n",
    "image = load_filtered_image(image_path)\n"
   ]
  },
  {
   "cell_type": "code",
   "execution_count": null,
   "id": "b56a0263",
   "metadata": {},
   "outputs": [],
   "source": [
    "\n",
    "# Edge detection using Sobel operator\n",
    "def sobel_edges(image):\n",
    "    sobelx = cv.Sobel(image, cv.CV_64F, 1, 0, ksize=5)\n",
    "    sobely = cv.Sobel(image, cv.CV_64F, 0, 1, ksize=5)\n",
    "    sobel_edges = cv.magnitude(sobelx, sobely)\n",
    "    plt.imshow(sobel_edges, cmap='gray')\n",
    "    plt.show()\n",
    "    return sobel_edges\n",
    "\n",
    "edges = sobel_edges(image)\n"
   ]
  },
  {
   "cell_type": "code",
   "execution_count": null,
   "id": "34f139a8",
   "metadata": {},
   "outputs": [],
   "source": [
    "\n",
    "# Feature extraction and SVM training\n",
    "data = edges.flatten()\n",
    "labels = np.where(data > 50, 1, 0)  # Label significant edges\n",
    "\n",
    "x_train, x_test, y_train, y_test = train_test_split(data.reshape(-1, 1), labels, test_size=0.3, random_state=42)\n",
    "\n",
    "# Train SVM with RBF kernel\n",
    "svm_rbf = SVC(kernel='rbf')\n",
    "svm_rbf.fit(x_train, y_train)\n"
   ]
  }
 ],
 "metadata": {},
 "nbformat": 4,
 "nbformat_minor": 5
}
