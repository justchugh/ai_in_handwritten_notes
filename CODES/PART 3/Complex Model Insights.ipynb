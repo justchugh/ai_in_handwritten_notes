{
 "cells": [
  {
   "cell_type": "code",
   "execution_count": null,
   "id": "fb5bdb9f",
   "metadata": {},
   "outputs": [],
   "source": [
    "\n",
    "import numpy as np\n",
    "import pandas as pd\n",
    "import cv2 as cv\n",
    "from matplotlib import pyplot as plt\n",
    "import seaborn as sns\n",
    "\n",
    "plt.style.use(\"seaborn\")\n"
   ]
  },
  {
   "cell_type": "code",
   "execution_count": null,
   "id": "60d13232",
   "metadata": {},
   "outputs": [],
   "source": [
    "\n",
    "# Enhanced image loading and processing\n",
    "def load_image(path):\n",
    "    image = cv.imread(path, 0)\n",
    "    plt.imshow(cv.cvtColor(image, cv.COLOR_BGR2GRAY), cmap='gray')\n",
    "    plt.show()\n",
    "    return image\n",
    "\n",
    "image_path = 'line1.jpg'\n",
    "image = load_image(image_path)\n"
   ]
  },
  {
   "cell_type": "code",
   "execution_count": null,
   "id": "032e0d9e",
   "metadata": {},
   "outputs": [],
   "source": [
    "\n",
    "# Function to normalize image pixel values\n",
    "def normalize_image(image):\n",
    "    norm_image = cv.normalize(image, None, alpha=0, beta=1, norm_type=cv.NORM_MINMAX, dtype=cv.CV_32F)\n",
    "    return norm_image\n",
    "\n",
    "norm_image = normalize_image(image)\n",
    "plt.imshow(norm_image, cmap='gray')\n",
    "plt.show()\n"
   ]
  },
  {
   "cell_type": "code",
   "execution_count": null,
   "id": "1b91d033",
   "metadata": {},
   "outputs": [],
   "source": [
    "\n",
    "# Basic statistical analysis on normalized image\n",
    "def image_statistics(image):\n",
    "    mean_val = np.mean(image)\n",
    "    std_val = np.std(image)\n",
    "    min_val, max_val = np.min(image), np.max(image)\n",
    "    return mean_val, std_val, min_val, max_val\n",
    "\n",
    "stats = image_statistics(norm_image)\n",
    "print(\"Image Statistics:\", stats)\n"
   ]
  }
 ],
 "metadata": {},
 "nbformat": 4,
 "nbformat_minor": 5
}
