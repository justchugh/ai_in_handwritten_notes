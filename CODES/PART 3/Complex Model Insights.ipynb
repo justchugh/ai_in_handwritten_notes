{
 "cells": [
  {
   "cell_type": "code",
   "execution_count": null,
   "id": "e15b68ad",
   "metadata": {},
   "outputs": [],
   "source": [
    "\n",
    "import numpy as np\n",
    "import pandas as pd\n",
    "import cv2 as cv\n",
    "from matplotlib import pyplot as plt\n",
    "import seaborn as sns\n",
    "from sklearn.model_selection import train_test_split\n",
    "from sklearn.tree import DecisionTreeClassifier\n",
    "\n",
    "plt.style.use(\"seaborn\")\n"
   ]
  },
  {
   "cell_type": "code",
   "execution_count": null,
   "id": "93359b21",
   "metadata": {},
   "outputs": [],
   "source": [
    "\n",
    "# Load image and apply a combination of preprocessing techniques\n",
    "def load_advanced_processed_image(path):\n",
    "    image = cv.imread(path, 0)\n",
    "    # Gaussian Blurring and Canny Edge Detection\n",
    "    blurred_image = cv.GaussianBlur(image, (5, 5), 0)\n",
    "    edges = cv.Canny(blurred_image, 50, 150)\n",
    "    plt.imshow(edges, cmap='gray')\n",
    "    plt.show()\n",
    "    return edges\n",
    "\n",
    "image_path = 'line1.jpg'\n",
    "edges = load_advanced_processed_image(image_path)\n"
   ]
  },
  {
   "cell_type": "code",
   "execution_count": null,
   "id": "0823bb61",
   "metadata": {},
   "outputs": [],
   "source": [
    "\n",
    "# Image analysis using feature extraction from edges\n",
    "def extract_edge_features(edges):\n",
    "    contours, _ = cv.findContours(edges, cv.RETR_EXTERNAL, cv.CHAIN_APPROX_NONE)\n",
    "    features = [cv.contourArea(contour) for contour in contours]\n",
    "    return features\n",
    "\n",
    "features = extract_edge_features(edges)\n",
    "labels = np.array([1 if f > 50 else 0 for f in features])\n",
    "\n",
    "x_train, x_test, y_train, y_test = train_test_split(features, labels, test_size=0.3, random_state=42)\n"
   ]
  },
  {
   "cell_type": "code",
   "execution_count": null,
   "id": "6a22d6ec",
   "metadata": {},
   "outputs": [],
   "source": [
    "\n",
    "# Train Decision Tree Classifier\n",
    "decision_tree = DecisionTreeClassifier()\n",
    "decision_tree.fit(np.array(x_train).reshape(-1, 1), y_train)\n"
   ]
  }
 ],
 "metadata": {},
 "nbformat": 4,
 "nbformat_minor": 5
}
