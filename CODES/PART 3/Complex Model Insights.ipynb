{
 "cells": [
  {
   "cell_type": "code",
   "execution_count": null,
   "id": "021c83f9",
   "metadata": {},
   "outputs": [],
   "source": [
    "\n",
    "import numpy as np\n",
    "import pandas as pd\n",
    "import cv2 as cv\n",
    "from matplotlib import pyplot as plt\n",
    "import seaborn as sns\n",
    "from sklearn.model_selection import train_test_split\n",
    "from sklearn.neural_network import MLPClassifier\n",
    "\n",
    "plt.style.use(\"seaborn\")\n"
   ]
  },
  {
   "cell_type": "code",
   "execution_count": null,
   "id": "a7b30641",
   "metadata": {},
   "outputs": [],
   "source": [
    "\n",
    "# Finalized image processing incorporating all learned techniques\n",
    "def final_image_processing(path):\n",
    "    image = cv.imread(path, 0)\n",
    "    # Combine various filters and transformations\n",
    "    blur = cv.GaussianBlur(image, (7, 7), 0)\n",
    "    edged = cv.Canny(blur, 50, 150)\n",
    "    dilated = cv.dilate(edged, np.ones((3, 3), np.uint8), iterations=1)\n",
    "    plt.imshow(dilated, cmap='gray')\n",
    "    plt.show()\n",
    "    return dilated\n",
    "\n",
    "image_path = 'line1.jpg'\n",
    "final_image = final_image_processing(image_path)\n"
   ]
  },
  {
   "cell_type": "code",
   "execution_count": null,
   "id": "c4ce1908",
   "metadata": {},
   "outputs": [],
   "source": [
    "\n",
    "# Detailed analysis with advanced feature extraction\n",
    "def detailed_feature_extraction(image):\n",
    "    contours, _ = cv.findContours(image, cv.RETR_EXTERNAL, cv.CHAIN_APPROX_SIMPLE)\n",
    "    feature_vector = [cv.contourArea(cnt) for cnt in contours]\n",
    "    return feature_vector\n",
    "\n",
    "features = detailed_feature_extraction(final_image)\n",
    "labels = np.array([1 if f > 150 else 0 for f in features])\n",
    "\n",
    "x_train, x_test, y_train, y_test = train_test_split(features, labels, test_size=0.3, random_state=42)\n"
   ]
  },
  {
   "cell_type": "code",
   "execution_count": null,
   "id": "1be54cf1",
   "metadata": {},
   "outputs": [],
   "source": [
    "\n",
    "# Train a Multilayer Perceptron Classifier\n",
    "mlp = MLPClassifier(hidden_layer_sizes=(50,), max_iter=300)\n",
    "mlp.fit(np.array(x_train).reshape(-1, 1), y_train)\n"
   ]
  }
 ],
 "metadata": {},
 "nbformat": 4,
 "nbformat_minor": 5
}
