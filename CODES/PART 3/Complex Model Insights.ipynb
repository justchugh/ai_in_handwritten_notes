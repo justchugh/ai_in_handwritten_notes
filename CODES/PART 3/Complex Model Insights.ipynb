{
 "cells": [
  {
   "cell_type": "code",
   "execution_count": null,
   "id": "fd166e42",
   "metadata": {},
   "outputs": [],
   "source": [
    "\n",
    "import numpy as np\n",
    "import pandas as pd\n",
    "import cv2 as cv\n",
    "from matplotlib import pyplot as plt\n",
    "import seaborn as sns\n",
    "from sklearn.model_selection import train_test_split\n",
    "\n",
    "plt.style.use(\"seaborn\")\n"
   ]
  },
  {
   "cell_type": "code",
   "execution_count": null,
   "id": "5cce3b2b",
   "metadata": {},
   "outputs": [],
   "source": [
    "\n",
    "# Advanced image loading with enhancements\n",
    "def load_and_enhance_image(path):\n",
    "    image = cv.imread(path, 0)\n",
    "    enhanced_image = cv.equalizeHist(image)  # Histogram Equalization\n",
    "    plt.imshow(cv.cvtColor(enhanced_image, cv.COLOR_BGR2RGB))\n",
    "    plt.show()\n",
    "    return enhanced_image\n",
    "\n",
    "image_path = 'line1.jpg'\n",
    "image = load_and_enhance_image(image_path)\n"
   ]
  },
  {
   "cell_type": "code",
   "execution_count": null,
   "id": "a22ce692",
   "metadata": {},
   "outputs": [],
   "source": [
    "\n",
    "# Basic statistical analysis and segmentation of the image\n",
    "def segment_image(image, threshold=127):\n",
    "    _, thresh_image = cv.threshold(image, threshold, 255, cv.THRESH_BINARY)\n",
    "    return thresh_image\n",
    "\n",
    "thresh_image = segment_image(image)\n",
    "plt.imshow(thresh_image, cmap='gray')\n",
    "plt.show()\n"
   ]
  },
  {
   "cell_type": "code",
   "execution_count": null,
   "id": "10a3670c",
   "metadata": {},
   "outputs": [],
   "source": [
    "\n",
    "# Prepare data for simple machine learning\n",
    "data = image.flatten()\n",
    "labels = np.where(data > 127, 1, 0)  # Simple threshold to create labels\n",
    "\n",
    "x_train, x_test, y_train, y_test = train_test_split(data.reshape(-1, 1), labels, test_size=0.3, random_state=42)\n"
   ]
  }
 ],
 "metadata": {},
 "nbformat": 4,
 "nbformat_minor": 5
}
