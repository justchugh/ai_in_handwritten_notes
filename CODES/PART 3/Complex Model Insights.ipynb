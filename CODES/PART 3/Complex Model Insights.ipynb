{
 "cells": [
  {
   "cell_type": "code",
   "execution_count": null,
   "id": "fddf64e2",
   "metadata": {},
   "outputs": [],
   "source": [
    "\n",
    "import numpy as np\n",
    "import pandas as pd\n",
    "import cv2 as cv\n",
    "from matplotlib import pyplot as plt\n",
    "\n",
    "plt.style.use(\"seaborn\")\n"
   ]
  },
  {
   "cell_type": "code",
   "execution_count": null,
   "id": "e7f2d216",
   "metadata": {},
   "outputs": [],
   "source": [
    "\n",
    "# Image loading and simple visualization\n",
    "def load_image(path):\n",
    "    image = cv.imread(path, 0)\n",
    "    plt.imshow(cv.cvtColor(image, cv.COLOR_BGR2RGB))\n",
    "    plt.show()\n",
    "    return image\n",
    "\n",
    "image_path = 'line1.jpg'\n",
    "image = load_image(image_path)\n"
   ]
  },
  {
   "cell_type": "code",
   "execution_count": null,
   "id": "c05a599c",
   "metadata": {},
   "outputs": [],
   "source": [
    "\n",
    "# Basic function to compute min and max of an image\n",
    "def image_min_max(image):\n",
    "    return np.min(image), np.max(image)\n",
    "\n",
    "min_val, max_val = image_min_max(image)\n",
    "print(\"Min and Max Values:\", min_val, max_val)\n"
   ]
  },
  {
   "cell_type": "code",
   "execution_count": null,
   "id": "80d9c658",
   "metadata": {},
   "outputs": [],
   "source": [
    "\n",
    "# Plot a simple histogram of image pixel values\n",
    "def plot_histogram(data):\n",
    "    plt.hist(data.flatten(), bins=50, color='blue')\n",
    "    plt.title('Histogram of Image Pixel Values')\n",
    "    plt.xlabel('Pixel Intensity')\n",
    "    plt.ylabel('Frequency')\n",
    "    plt.show()\n",
    "\n",
    "plot_histogram(image)\n"
   ]
  }
 ],
 "metadata": {},
 "nbformat": 4,
 "nbformat_minor": 5
}
