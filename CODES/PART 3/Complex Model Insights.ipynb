{
 "cells": [
  {
   "cell_type": "code",
   "execution_count": null,
   "id": "a5302892",
   "metadata": {},
   "outputs": [],
   "source": [
    "\n",
    "import numpy as np\n",
    "import pandas as pd\n",
    "import cv2 as cv\n",
    "from matplotlib import pyplot as plt\n",
    "import seaborn as sns\n",
    "from sklearn.model_selection import train_test_split\n",
    "from sklearn.multioutput import MultiOutputClassifier\n",
    "from sklearn.svm import SVC\n",
    "\n",
    "plt.style.use(\"seaborn\")\n"
   ]
  },
  {
   "cell_type": "code",
   "execution_count": null,
   "id": "fd928dc7",
   "metadata": {},
   "outputs": [],
   "source": [
    "\n",
    "# Load image and apply morphological transformations for feature enhancement\n",
    "def load_transformed_image(path):\n",
    "    image = cv.imread(path, 0)\n",
    "    kernel = np.ones((5,5), np.uint8)\n",
    "    img_erosion = cv.erode(image, kernel, iterations=1)\n",
    "    img_dilation = cv.dilate(img_erosion, kernel, iterations=1)\n",
    "    plt.imshow(cv.cvtColor(img_dilation, cv.COLOR_BGR2RGB))\n",
    "    plt.show()\n",
    "    return img_dilation\n",
    "\n",
    "image_path = 'line1.jpg'\n",
    "image = load_transformed_image(image_path)\n"
   ]
  },
  {
   "cell_type": "code",
   "execution_count": null,
   "id": "76645911",
   "metadata": {},
   "outputs": [],
   "source": [
    "\n",
    "# Advanced segmentation using Otsu's thresholding\n",
    "def otsu_segmentation(image):\n",
    "    _, otsu_thresh = cv.threshold(image, 0, 255, cv.THRESH_BINARY + cv.THRESH_OTSU)\n",
    "    plt.imshow(otsu_thresh, cmap='gray')\n",
    "    plt.show()\n",
    "    return otsu_thresh\n",
    "\n",
    "segmented_image = otsu_segmentation(image)\n"
   ]
  },
  {
   "cell_type": "code",
   "execution_count": null,
   "id": "50cc2b72",
   "metadata": {},
   "outputs": [],
   "source": [
    "\n",
    "# Prepare multilabel data and train MultiOutputClassifier\n",
    "data = segmented_image.flatten()\n",
    "labels = np.where(data > 0, 1, 0).reshape(-1, 1)\n",
    "labels = np.hstack([labels, 1-labels])  # Create multilabel targets\n",
    "\n",
    "x_train, x_test, y_train, y_test = train_test_split(data.reshape(-1, 1), labels, test_size=0.3, random_state=42)\n",
    "\n",
    "# Train multioutput SVM classifier\n",
    "svm = SVC(kernel='poly')\n",
    "multilabel_classifier = MultiOutputClassifier(svm, n_jobs=-1)\n",
    "multilabel_classifier.fit(x_train, y_train)\n"
   ]
  }
 ],
 "metadata": {},
 "nbformat": 4,
 "nbformat_minor": 5
}
