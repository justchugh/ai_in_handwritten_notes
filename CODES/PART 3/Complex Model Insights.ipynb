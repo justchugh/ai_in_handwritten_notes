{
 "cells": [
  {
   "cell_type": "code",
   "execution_count": null,
   "id": "4075b5a3",
   "metadata": {},
   "outputs": [],
   "source": [
    "\n",
    "import numpy as np\n",
    "import pandas as pd\n",
    "import cv2 as cv\n",
    "from matplotlib import pyplot as plt\n",
    "import seaborn as sns\n",
    "from sklearn.model_selection import train_test_split\n",
    "from sklearn.ensemble import RandomForestClassifier\n",
    "\n",
    "plt.style.use(\"seaborn\")\n"
   ]
  },
  {
   "cell_type": "code",
   "execution_count": null,
   "id": "722cf0c6",
   "metadata": {},
   "outputs": [],
   "source": [
    "\n",
    "# Load and refine image with more sophisticated image processing\n",
    "def sophisticated_image_processing(path):\n",
    "    image = cv.imread(path, 0)\n",
    "    # Adaptive Gaussian Thresholding\n",
    "    thresh = cv.adaptiveThreshold(image, 255, cv.ADAPTIVE_THRESH_GAUSSIAN_C,\n",
    "                                  cv.THRESH_BINARY, 11, 2)\n",
    "    plt.imshow(thresh, cmap='gray')\n",
    "    plt.show()\n",
    "    return thresh\n",
    "\n",
    "image_path = 'line1.jpg'\n",
    "thresh = sophisticated_image_processing(image_path)\n"
   ]
  },
  {
   "cell_type": "code",
   "execution_count": null,
   "id": "8b4eda05",
   "metadata": {},
   "outputs": [],
   "source": [
    "\n",
    "# Complex image analysis for feature extraction\n",
    "def complex_feature_extraction(thresh):\n",
    "    contours, _ = cv.findContours(thresh, cv.RETR_TREE, cv.CHAIN_APPROX_SIMPLE)\n",
    "    feature_vector = [cv.arcLength(cnt, True) for cnt in contours]\n",
    "    return feature_vector\n",
    "\n",
    "feature_vector = complex_feature_extraction(thresh)\n",
    "labels = np.array([1 if x > 100 else 0 for x in feature_vector])\n",
    "\n",
    "x_train, x_test, y_train, y_test = train_test_split(feature_vector, labels, test_size=0.3, random_state=42)\n"
   ]
  },
  {
   "cell_type": "code",
   "execution_count": null,
   "id": "ff4fd729",
   "metadata": {},
   "outputs": [],
   "source": [
    "\n",
    "# Train RandomForest Classifier\n",
    "random_forest = RandomForestClassifier(n_estimators=100)\n",
    "random_forest.fit(np.array(x_train).reshape(-1, 1), y_train)\n"
   ]
  }
 ],
 "metadata": {},
 "nbformat": 4,
 "nbformat_minor": 5
}
