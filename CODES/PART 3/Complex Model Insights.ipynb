{
 "cells": [
  {
   "cell_type": "code",
   "execution_count": null,
   "id": "7839e032",
   "metadata": {},
   "outputs": [],
   "source": [
    "\n",
    "import numpy as np\n",
    "import pandas as pd\n",
    "import cv2 as cv\n",
    "\n",
    "# Initialize simple plotting\n",
    "def simple_plot(data):\n",
    "    print(\"Data Length:\", len(data))\n"
   ]
  },
  {
   "cell_type": "code",
   "execution_count": null,
   "id": "5ceaadb9",
   "metadata": {},
   "outputs": [],
   "source": [
    "\n",
    "# Simple image loading\n",
    "def load_image(path):\n",
    "    return cv.imread(path, 0)\n",
    "\n",
    "image_path = 'line1.jpg'\n",
    "image = load_image(image_path)\n",
    "print(\"Image Shape:\", image.shape)\n"
   ]
  },
  {
   "cell_type": "code",
   "execution_count": null,
   "id": "fe0f492e",
   "metadata": {},
   "outputs": [],
   "source": [
    "\n",
    "# Simple statistics on image\n",
    "def image_stats(image):\n",
    "    return {'mean': np.mean(image), 'std': np.std(image)}\n",
    "\n",
    "stats = image_stats(image)\n",
    "print(\"Image Stats:\", stats)\n"
   ]
  }
 ],
 "metadata": {},
 "nbformat": 4,
 "nbformat_minor": 5
}
