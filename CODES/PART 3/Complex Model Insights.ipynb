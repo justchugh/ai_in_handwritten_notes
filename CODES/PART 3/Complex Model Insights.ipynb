{
 "cells": [
  {
   "cell_type": "code",
   "execution_count": null,
   "id": "2253baa5",
   "metadata": {},
   "outputs": [],
   "source": [
    "\n",
    "import numpy as np\n",
    "import pandas as pd\n",
    "import cv2 as cv\n",
    "from matplotlib import pyplot as plt\n",
    "import seaborn as sns\n",
    "from sklearn.model_selection import train_test_split\n",
    "from sklearn.svm import SVC\n",
    "\n",
    "plt.style.use(\"seaborn\")\n"
   ]
  },
  {
   "cell_type": "code",
   "execution_count": null,
   "id": "9b924cff",
   "metadata": {},
   "outputs": [],
   "source": [
    "\n",
    "# Load and process image with advanced techniques\n",
    "def load_process_image(path):\n",
    "    image = cv.imread(path, 0)\n",
    "    # Apply Gaussian Blur\n",
    "    image_blur = cv.GaussianBlur(image, (5, 5), 0)\n",
    "    plt.imshow(cv.cvtColor(image_blur, cv.COLOR_BGR2RGB))\n",
    "    plt.show()\n",
    "    return image_blur\n",
    "\n",
    "image_path = 'line1.jpg'\n",
    "image = load_process_image(image_path)\n"
   ]
  },
  {
   "cell_type": "code",
   "execution_count": null,
   "id": "3a6306b8",
   "metadata": {},
   "outputs": [],
   "source": [
    "\n",
    "# Image feature extraction using edge detection\n",
    "def edge_detection(image):\n",
    "    edges = cv.Canny(image, 100, 200)\n",
    "    plt.imshow(edges, cmap='gray')\n",
    "    plt.show()\n",
    "    return edges\n",
    "\n",
    "edges = edge_detection(image)\n"
   ]
  },
  {
   "cell_type": "code",
   "execution_count": null,
   "id": "5ea62aba",
   "metadata": {},
   "outputs": [],
   "source": [
    "\n",
    "# Prepare data for SVM classification\n",
    "data = edges.flatten()\n",
    "labels = np.where(data > 0, 1, 0)  # Label edges as 1\n",
    "\n",
    "x_train, x_test, y_train, y_test = train_test_split(data.reshape(-1, 1), labels, test_size=0.3, random_state=42)\n",
    "\n",
    "# Train SVM\n",
    "svm_model = SVC(kernel='linear')\n",
    "svm_model.fit(x_train, y_train)\n"
   ]
  }
 ],
 "metadata": {},
 "nbformat": 4,
 "nbformat_minor": 5
}
