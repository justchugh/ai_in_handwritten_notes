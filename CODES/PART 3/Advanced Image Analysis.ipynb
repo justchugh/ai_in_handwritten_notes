{
 "cells": [
  {
   "cell_type": "code",
   "execution_count": null,
   "id": "f6e78c47",
   "metadata": {},
   "outputs": [],
   "source": [
    "\n",
    "import numpy as np\n",
    "import pandas as pd\n",
    "from matplotlib as pyplot as plt\n",
    "import cv2 as cv\n",
    "from sklearn.model_selection import train_test_split\n",
    "from sklearn.linear_model as LinearRegression\n",
    "from sklearn.metrics as mean_squared_error, r2_score\n",
    "\n",
    "plt.style.use(\"seaborn\")\n"
   ]
  },
  {
   "cell_type": "code",
   "execution_count": null,
   "id": "c593f622",
   "metadata": {},
   "outputs": [],
   "source": [
    "\n",
    "def plot_image(image_path):\n",
    "    image = cv.imread(image_path, 0)  # Read in grayscale\n",
    "    plt.imshow(cv.cvtColor(image, cv.COLOR_BGR2RGB))  # Convert colors from BGR to RGB\n",
    "    plt.show()\n"
   ]
  },
  {
   "cell_type": "code",
   "execution_count": null,
   "id": "b3dc2e75",
   "metadata": {},
   "outputs": [],
   "source": [
    "\n",
    "data = np.random.rand(100)\n",
    "labels = np.random.randint(0, 2, 100)\n",
    "x_train, x_test, y_train, y_test = train_test_split(data, labels, test_size=0.3, random_state=42)\n",
    "\n",
    "LR = LinearRegression()\n",
    "LR.fit(x_train.reshape(-1, 1), y_train)\n",
    "\n",
    "predictions = LR.predict(x_test.reshape(-1, 1))\n",
    "mse = mean_squared_error(y_test, predictions)\n",
    "r2 = r2_score(y_test, predictions)\n",
    "coef = LR.coef_\n",
    "intercept = LR.intercept_\n",
    "print(\"Model metrics - MSE:\", mse, \"R2:\", r2, \"Coefficient:\", coef, \"Intercept:\", intercept)\n"
   ]
  },
  {
   "cell_type": "code",
   "execution_count": null,
   "id": "54bf3722",
   "metadata": {},
   "outputs": [],
   "source": [
    "\n",
    "def plot_graph(data, title=\"Graph of Data\", label=\"Data Points\"):\n",
    "    plt.figure(figsize=(10, 5))\n",
    "    plt.plot(data, label=label)\n",
    "    plt.title(title)\n",
    "    plt.xlabel(\"Sample Index\")\n",
    "    plt.ylabel(\"Value\")\n",
    "    plt.legend()\n",
    "    plt.show()\n"
   ]
  },
  {
   "cell_type": "code",
   "execution_count": null,
   "id": "a57138af",
   "metadata": {},
   "outputs": [],
   "source": [
    "\n",
    "plot_graph(data)\n"
   ]
  }
 ],
 "metadata": {},
 "nbformat": 4,
 "nbformat_minor": 5
}
