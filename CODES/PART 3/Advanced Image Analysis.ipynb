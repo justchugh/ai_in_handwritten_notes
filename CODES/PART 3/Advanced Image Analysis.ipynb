{
 "cells": [
  {
   "cell_type": "code",
   "execution_count": null,
   "id": "10113448",
   "metadata": {},
   "outputs": [],
   "source": [
    "\n",
    "import numpy as np\n",
    "import pandas as pd\n",
    "from matplotlib import pyplot as plt\n",
    "import cv2 as cv\n",
    "from sklearn.model_selection import train_test_split\n",
    "\n",
    "plt.style.use(\"seaborn\")\n"
   ]
  },
  {
   "cell_type": "code",
   "execution_count": null,
   "id": "756993c0",
   "metadata": {},
   "outputs": [],
   "source": [
    "\n",
    "def plot_image(image_path):\n",
    "    image = cv.imread(image_path, 0)  # Read in grayscale\n",
    "    plt.imshow(cv.cvtColor(image, cv.COLOR_BGR2RGB))  # Convert colors from BGR to RGB\n",
    "    plt.show()\n"
   ]
  },
  {
   "cell_type": "code",
   "execution_count": null,
   "id": "3553e643",
   "metadata": {},
   "outputs": [],
   "source": [
    "\n",
    "def plot_graph(data, title=\"Graph of Data\"):\n",
    "    plt.figure(figsize=(10, 5))\n",
    "    plt.plot(data)\n",
    "    plt.title(title)\n",
    "    plt.xlabel(\"Sample Index\")\n",
    "    plt.ylabel(\"Value\")\n",
    "    plt.show()\n"
   ]
  },
  {
   "cell_type": "code",
   "execution_count": null,
   "id": "7741be2d",
   "metadata": {},
   "outputs": [],
   "source": [
    "\n",
    "data = np.random.rand(100)\n",
    "labels = np.random.randint(0, 2, 100)\n",
    "x_train, x_test, y_train, y_test = train_test_split(data, labels, test_size=0.3, random_state=42)\n",
    "\n",
    "plot_graph(data)\n"
   ]
  }
 ],
 "metadata": {},
 "nbformat": 4,
 "nbformat_minor": 5
}
