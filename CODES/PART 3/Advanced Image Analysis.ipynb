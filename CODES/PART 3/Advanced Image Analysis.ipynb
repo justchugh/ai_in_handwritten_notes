{
 "cells": [
  {
   "cell_type": "code",
   "execution_count": null,
   "id": "fad1e7d1",
   "metadata": {},
   "outputs": [],
   "source": [
    "\n",
    "import numpy as np\n",
    "import pandas as pd\n",
    "from matplotlib import pyplot as plt\n",
    "import cv2 as cv\n",
    "\n",
    "# Basic settings for plotting\n",
    "plt.style.use(\"seaborn\")\n"
   ]
  },
  {
   "cell_type": "code",
   "execution_count": null,
   "id": "4d27249a",
   "metadata": {},
   "outputs": [],
   "source": [
    "\n",
    "def plot_image(image_path):\n",
    "    image = cv.imread(image_path, 0)  # Read in grayscale\n",
    "    plt.imshow(cv.cvtColor(image, cv.COLOR_BGR2RGB))  # Convert colors from BGR to RGB\n",
    "    plt.show()\n"
   ]
  },
  {
   "cell_type": "code",
   "execution_count": null,
   "id": "d79fac66",
   "metadata": {},
   "outputs": [],
   "source": [
    "\n",
    "def plot_graph(data, title=\"Graph of Data\"):\n",
    "    plt.figure(figsize=(10, 5))\n",
    "    plt.plot(data)\n",
    "    plt.title(title)\n",
    "    plt.xlabel(\"Sample Index\")\n",
    "    plt.ylabel(\"Value\")\n",
    "    plt.show()\n"
   ]
  },
  {
   "cell_type": "code",
   "execution_count": null,
   "id": "37be47e7",
   "metadata": {},
   "outputs": [],
   "source": [
    "\n",
    "# Load an image and display it\n",
    "image_path = 'path_to_your_image.jpg'\n",
    "plot_image(image_path)\n",
    "\n",
    "# Generate some random data and plot it\n",
    "data = np.random.rand(100)\n",
    "plot_graph(data)\n"
   ]
  }
 ],
 "metadata": {},
 "nbformat": 4,
 "nbformat_minor": 5
}
