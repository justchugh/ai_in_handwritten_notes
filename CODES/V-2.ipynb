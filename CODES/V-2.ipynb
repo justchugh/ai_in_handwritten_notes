{
 "cells": [
  {
   "cell_type": "code",
   "execution_count": null,
   "id": "15fd739e",
   "metadata": {},
   "outputs": [],
   "source": [
    "import numpy as np"
   ]
  },
  {
   "cell_type": "code",
   "execution_count": null,
   "id": "5bbf182f",
   "metadata": {},
   "outputs": [],
   "source": [
    "import cv2 as cv"
   ]
  },
  {
   "cell_type": "code",
   "execution_count": null,
   "id": "7ac74fb9",
   "metadata": {},
   "outputs": [],
   "source": [
    "from matplotlib import pyplot as plt"
   ]
  },
  {
   "cell_type": "code",
   "execution_count": null,
   "id": "03d2ab2d",
   "metadata": {},
   "outputs": [],
   "source": [
    "image = cv.imread(\"5.jpg\", 0)"
   ]
  },
  {
   "cell_type": "code",
   "execution_count": null,
   "id": "e6e65632",
   "metadata": {},
   "outputs": [],
   "source": [
    "image.shape"
   ]
  },
  {
   "cell_type": "code",
   "execution_count": null,
   "id": "1ba012d0",
   "metadata": {},
   "outputs": [],
   "source": [
    "plt.imshow(cv.cvtColor(image, cv.COLOR_BGR2RGB))"
   ]
  },
  {
   "cell_type": "code",
   "execution_count": null,
   "id": "ce4867a4",
   "metadata": {},
   "outputs": [],
   "source": [
    "plt.show(block=True)"
   ]
  },
  {
   "cell_type": "code",
   "execution_count": null,
   "id": "89986f36",
   "metadata": {},
   "outputs": [],
   "source": [
    "sum_0 = image.sum(axis=0)"
   ]
  },
  {
   "cell_type": "code",
   "execution_count": null,
   "id": "25f3d319",
   "metadata": {},
   "outputs": [],
   "source": [
    "plt.figure(figsize=(15, 8))"
   ]
  },
  {
   "cell_type": "code",
   "execution_count": null,
   "id": "d790d08d",
   "metadata": {},
   "outputs": [],
   "source": [
    "plt.scatter(range(len(sum_0)), sum_0, alpha=0.5)"
   ]
  }
 ],
 "metadata": {},
 "nbformat": 4,
 "nbformat_minor": 5
}
