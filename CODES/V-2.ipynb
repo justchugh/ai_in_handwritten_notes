{
 "cells": [
  {
   "cell_type": "code",
   "execution_count": null,
   "id": "b3ca72a0",
   "metadata": {},
   "outputs": [],
   "source": [
    "import numpy as np"
   ]
  },
  {
   "cell_type": "code",
   "execution_count": null,
   "id": "e410ac0a",
   "metadata": {},
   "outputs": [],
   "source": [
    "import cv2 as cv"
   ]
  },
  {
   "cell_type": "code",
   "execution_count": null,
   "id": "f380174c",
   "metadata": {},
   "outputs": [],
   "source": [
    "from matplotlib import pyplot as plt"
   ]
  },
  {
   "cell_type": "code",
   "execution_count": null,
   "id": "f9d6ac8a",
   "metadata": {},
   "outputs": [],
   "source": [
    "image = cv.imread(\"5.jpg\", 0)"
   ]
  },
  {
   "cell_type": "code",
   "execution_count": null,
   "id": "91413fc4",
   "metadata": {},
   "outputs": [],
   "source": [
    "image.shape"
   ]
  },
  {
   "cell_type": "code",
   "execution_count": null,
   "id": "e8b85173",
   "metadata": {},
   "outputs": [],
   "source": [
    "plt.imshow(cv.cvtColor(image, cv.COLOR_BGR2RGB))"
   ]
  },
  {
   "cell_type": "code",
   "execution_count": null,
   "id": "71b3824e",
   "metadata": {},
   "outputs": [],
   "source": [
    "plt.show(block=True)"
   ]
  },
  {
   "cell_type": "code",
   "execution_count": null,
   "id": "4aa3340f",
   "metadata": {},
   "outputs": [],
   "source": [
    "sum_0 = image.sum(axis=0)"
   ]
  },
  {
   "cell_type": "code",
   "execution_count": null,
   "id": "fef4347e",
   "metadata": {},
   "outputs": [],
   "source": [
    "plt.figure(figsize=(15, 8))"
   ]
  },
  {
   "cell_type": "code",
   "execution_count": null,
   "id": "f56cfbca",
   "metadata": {},
   "outputs": [],
   "source": [
    "plt.scatter(range(len(sum_0)), sum_0, alpha=0.5)"
   ]
  },
  {
   "cell_type": "code",
   "execution_count": null,
   "id": "753aa6a2",
   "metadata": {},
   "outputs": [],
   "source": [
    "def model1(l):\n",
    "    maximum = max(l)\n",
    "    cutout_dip = []\n",
    "    cutout_up = []\n",
    "    \n",
    "    for i in range(len(l)):\n",
    "        if (i + 1) != len(l):\n",
    "            if l[i] == maximum:\n",
    "                if (l[i + 1] < maximum):\n",
    "                    cutout_dip.append(i)\n",
    "            \n",
    "            if l[i] < maximum:\n",
    "                if (l[i + 1] == maximum):\n",
    "                    cutout_up.append(i)\n",
    "    return cutout_up, cutout_dip\n",
    "cutout_up, cutout_dip = model1(sum_0)\n",
    "cutout_up, cutout_dip"
   ]
  },
  {
   "cell_type": "code",
   "execution_count": null,
   "id": "3f0e4c71",
   "metadata": {},
   "outputs": [],
   "source": [
    "def model2(image, cutout_up, cutout_dip):\n",
    "    cutout_images = []\n",
    "    for up, dip in zip(cutout_up, cutout_dip):\n",
    "        temp = image[:, dip : up]\n",
    "        cutout_images.append(temp)\n",
    "    return cutout_images\n",
    "cutout_images = model2(image, cutout_up, cutout_dip)\n",
    "len(cutout_images)"
   ]
  },
  {
   "cell_type": "code",
   "execution_count": null,
   "id": "46712368",
   "metadata": {},
   "outputs": [],
   "source": [
    "for i in range(len(cutout_images)):\n",
    "    print(\"image number : \", i + 1)\n",
    "    plt.imshow(cv.cvtColor(cutout_images[i], cv.COLOR_BGR2RGB))\n",
    "    plt.show(block=True)"
   ]
  },
  {
   "cell_type": "code",
   "execution_count": null,
   "id": "1f7cedbb",
   "metadata": {},
   "outputs": [],
   "source": [
    "image_T = cutout_images[0].T\n",
    "plt.imshow(cv.cvtColor(image_T, cv.COLOR_BGR2RGB))\n",
    "plt.show(block=True)"
   ]
  },
  {
   "cell_type": "code",
   "execution_count": null,
   "id": "d6052a80",
   "metadata": {},
   "outputs": [],
   "source": [
    "sum_1 = image_T.sum(axis=0)"
   ]
  },
  {
   "cell_type": "code",
   "execution_count": null,
   "id": "e6e80bfb",
   "metadata": {},
   "outputs": [],
   "source": [
    "plt.figure(figsize=(15, 8))"
   ]
  },
  {
   "cell_type": "code",
   "execution_count": null,
   "id": "df5fd504",
   "metadata": {},
   "outputs": [],
   "source": [
    "plt.scatter(range(len(sum_1)), sum_1, alpha=0.5)"
   ]
  },
  {
   "cell_type": "code",
   "execution_count": null,
   "id": "abcab06e",
   "metadata": {},
   "outputs": [],
   "source": [
    "cutout_up, cutout_dip = model1(sum_1)"
   ]
  },
  {
   "cell_type": "code",
   "execution_count": null,
   "id": "71ac7811",
   "metadata": {},
   "outputs": [],
   "source": [
    "cutout_up, cutout_dip"
   ]
  }
 ],
 "metadata": {},
 "nbformat": 4,
 "nbformat_minor": 5
}
