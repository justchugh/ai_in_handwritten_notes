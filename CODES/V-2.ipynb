{
 "cells": [
  {
   "cell_type": "code",
   "execution_count": null,
   "id": "bb8e2cef",
   "metadata": {},
   "outputs": [],
   "source": [
    "import numpy as np"
   ]
  },
  {
   "cell_type": "code",
   "execution_count": null,
   "id": "843f946b",
   "metadata": {},
   "outputs": [],
   "source": [
    "import cv2 as cv"
   ]
  },
  {
   "cell_type": "code",
   "execution_count": null,
   "id": "5fce0d55",
   "metadata": {},
   "outputs": [],
   "source": [
    "from matplotlib import pyplot as plt"
   ]
  },
  {
   "cell_type": "code",
   "execution_count": null,
   "id": "254f7df1",
   "metadata": {},
   "outputs": [],
   "source": [
    "image = cv.imread(\"5.jpg\", 0)"
   ]
  },
  {
   "cell_type": "code",
   "execution_count": null,
   "id": "c315e673",
   "metadata": {},
   "outputs": [],
   "source": [
    "image.shape"
   ]
  },
  {
   "cell_type": "code",
   "execution_count": null,
   "id": "a36fa81b",
   "metadata": {},
   "outputs": [],
   "source": [
    "plt.imshow(cv.cvtColor(image, cv.COLOR_BGR2RGB))"
   ]
  },
  {
   "cell_type": "code",
   "execution_count": null,
   "id": "7486983d",
   "metadata": {},
   "outputs": [],
   "source": [
    "plt.show(block=True)"
   ]
  },
  {
   "cell_type": "code",
   "execution_count": null,
   "id": "48ee2e8f",
   "metadata": {},
   "outputs": [],
   "source": [
    "sum_0 = image.sum(axis=0)"
   ]
  },
  {
   "cell_type": "code",
   "execution_count": null,
   "id": "6d447d5d",
   "metadata": {},
   "outputs": [],
   "source": [
    "plt.figure(figsize=(15, 8))"
   ]
  },
  {
   "cell_type": "code",
   "execution_count": null,
   "id": "6b544bf6",
   "metadata": {},
   "outputs": [],
   "source": [
    "plt.scatter(range(len(sum_0)), sum_0, alpha=0.5)"
   ]
  },
  {
   "cell_type": "code",
   "execution_count": null,
   "id": "9f3c2a07",
   "metadata": {},
   "outputs": [],
   "source": [
    "def model1(l):\n",
    "    maximum = max(l)\n",
    "    cutout_dip = []\n",
    "    cutout_up = []\n",
    "    \n",
    "    for i in range(len(l)):\n",
    "        if (i + 1) != len(l):\n",
    "            if l[i] == maximum:\n",
    "                if (l[i + 1] < maximum):\n",
    "                    cutout_dip.append(i)\n",
    "            \n",
    "            if l[i] < maximum:\n",
    "                if (l[i + 1] == maximum):\n",
    "                    cutout_up.append(i)\n",
    "    return cutout_up, cutout_dip\n",
    "cutout_up, cutout_dip = model1(sum_0)\n",
    "cutout_up, cutout_dip"
   ]
  },
  {
   "cell_type": "code",
   "execution_count": null,
   "id": "d30a4481",
   "metadata": {},
   "outputs": [],
   "source": [
    "def model2(image, cutout_up, cutout_dip):\n",
    "    cutout_images = []\n",
    "    for up, dip in zip(cutout_up, cutout_dip):\n",
    "        temp = image[:, dip : up]\n",
    "        cutout_images.append(temp)\n",
    "    return cutout_images\n",
    "cutout_images = model2(image, cutout_up, cutout_dip)\n",
    "len(cutout_images)"
   ]
  },
  {
   "cell_type": "code",
   "execution_count": null,
   "id": "2160535f",
   "metadata": {},
   "outputs": [],
   "source": [
    "for i in range(len(cutout_images)):\n",
    "    print(\"image number : \", i + 1)\n",
    "    plt.imshow(cv.cvtColor(cutout_images[i], cv.COLOR_BGR2RGB))\n",
    "    plt.show(block=True)"
   ]
  },
  {
   "cell_type": "code",
   "execution_count": null,
   "id": "968f6500",
   "metadata": {},
   "outputs": [],
   "source": [
    "image_T = cutout_images[0].T\n",
    "plt.imshow(cv.cvtColor(image_T, cv.COLOR_BGR2RGB))\n",
    "plt.show(block=True)"
   ]
  },
  {
   "cell_type": "code",
   "execution_count": null,
   "id": "1be928f1",
   "metadata": {},
   "outputs": [],
   "source": [
    "sum_1 = image_T.sum(axis=0)"
   ]
  },
  {
   "cell_type": "code",
   "execution_count": null,
   "id": "660e0097",
   "metadata": {},
   "outputs": [],
   "source": [
    "plt.figure(figsize=(15, 8))"
   ]
  },
  {
   "cell_type": "code",
   "execution_count": null,
   "id": "b02cfbc4",
   "metadata": {},
   "outputs": [],
   "source": [
    "plt.scatter(range(len(sum_1)), sum_1, alpha=0.5)"
   ]
  },
  {
   "cell_type": "code",
   "execution_count": null,
   "id": "7c3de307",
   "metadata": {},
   "outputs": [],
   "source": [
    "cutout_up, cutout_dip = model1(sum_1)"
   ]
  },
  {
   "cell_type": "code",
   "execution_count": null,
   "id": "49c1f5f4",
   "metadata": {},
   "outputs": [],
   "source": [
    "cutout_up, cutout_dip"
   ]
  },
  {
   "cell_type": "code",
   "execution_count": null,
   "id": "6d69da86",
   "metadata": {},
   "outputs": [],
   "source": [
    "cutout_images = model2(image_T, cutout_up, cutout_dip)"
   ]
  }
 ],
 "metadata": {},
 "nbformat": 4,
 "nbformat_minor": 5
}
