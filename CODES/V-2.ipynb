{
 "cells": [
  {
   "cell_type": "code",
   "execution_count": null,
   "id": "2a92f064",
   "metadata": {},
   "outputs": [],
   "source": [
    "import numpy as np"
   ]
  },
  {
   "cell_type": "code",
   "execution_count": null,
   "id": "6cd025f1",
   "metadata": {},
   "outputs": [],
   "source": [
    "import cv2 as cv"
   ]
  },
  {
   "cell_type": "code",
   "execution_count": null,
   "id": "df4cf041",
   "metadata": {},
   "outputs": [],
   "source": [
    "from matplotlib import pyplot as plt"
   ]
  },
  {
   "cell_type": "code",
   "execution_count": null,
   "id": "1156225b",
   "metadata": {},
   "outputs": [],
   "source": [
    "image = cv.imread(\"5.jpg\", 0)"
   ]
  },
  {
   "cell_type": "code",
   "execution_count": null,
   "id": "ef9bdc38",
   "metadata": {},
   "outputs": [],
   "source": [
    "image.shape"
   ]
  },
  {
   "cell_type": "code",
   "execution_count": null,
   "id": "988b95ce",
   "metadata": {},
   "outputs": [],
   "source": [
    "plt.imshow(cv.cvtColor(image, cv.COLOR_BGR2RGB))"
   ]
  },
  {
   "cell_type": "code",
   "execution_count": null,
   "id": "2998ff3c",
   "metadata": {},
   "outputs": [],
   "source": [
    "plt.show(block=True)"
   ]
  },
  {
   "cell_type": "code",
   "execution_count": null,
   "id": "d755511b",
   "metadata": {},
   "outputs": [],
   "source": [
    "sum_0 = image.sum(axis=0)"
   ]
  },
  {
   "cell_type": "code",
   "execution_count": null,
   "id": "79b64e0e",
   "metadata": {},
   "outputs": [],
   "source": [
    "plt.figure(figsize=(15, 8))"
   ]
  },
  {
   "cell_type": "code",
   "execution_count": null,
   "id": "6806e994",
   "metadata": {},
   "outputs": [],
   "source": [
    "plt.scatter(range(len(sum_0)), sum_0, alpha=0.5)"
   ]
  },
  {
   "cell_type": "code",
   "execution_count": null,
   "id": "598a8d58",
   "metadata": {},
   "outputs": [],
   "source": [
    "def model1(l):\n",
    "    maximum = max(l)\n",
    "    cutout_dip = []\n",
    "    cutout_up = []\n",
    "    \n",
    "    for i in range(len(l)):\n",
    "        if (i + 1) != len(l):\n",
    "            if l[i] == maximum:\n",
    "                if (l[i + 1] < maximum):\n",
    "                    cutout_dip.append(i)\n",
    "            \n",
    "            if l[i] < maximum:\n",
    "                if (l[i + 1] == maximum):\n",
    "                    cutout_up.append(i)\n",
    "    return cutout_up, cutout_dip\n",
    "cutout_up, cutout_dip = model1(sum_0)\n",
    "cutout_up, cutout_dip"
   ]
  },
  {
   "cell_type": "code",
   "execution_count": null,
   "id": "4862883f",
   "metadata": {},
   "outputs": [],
   "source": [
    "def model2(image, cutout_up, cutout_dip):\n",
    "    cutout_images = []\n",
    "    for up, dip in zip(cutout_up, cutout_dip):\n",
    "        temp = image[:, dip : up]\n",
    "        cutout_images.append(temp)\n",
    "    return cutout_images\n",
    "cutout_images = model2(image, cutout_up, cutout_dip)\n",
    "len(cutout_images)"
   ]
  },
  {
   "cell_type": "code",
   "execution_count": null,
   "id": "f8151f9d",
   "metadata": {},
   "outputs": [],
   "source": [
    "for i in range(len(cutout_images)):\n",
    "    print(\"image number : \", i + 1)\n",
    "    plt.imshow(cv.cvtColor(cutout_images[i], cv.COLOR_BGR2RGB))\n",
    "    plt.show(block=True)"
   ]
  },
  {
   "cell_type": "code",
   "execution_count": null,
   "id": "2d8cfa85",
   "metadata": {},
   "outputs": [],
   "source": [
    "image_T = cutout_images[0].T\n",
    "plt.imshow(cv.cvtColor(image_T, cv.COLOR_BGR2RGB))\n",
    "plt.show(block=True)"
   ]
  },
  {
   "cell_type": "code",
   "execution_count": null,
   "id": "38905953",
   "metadata": {},
   "outputs": [],
   "source": [
    "sum_1 = image_T.sum(axis=0)"
   ]
  },
  {
   "cell_type": "code",
   "execution_count": null,
   "id": "7a7a26e5",
   "metadata": {},
   "outputs": [],
   "source": [
    "plt.figure(figsize=(15, 8))"
   ]
  },
  {
   "cell_type": "code",
   "execution_count": null,
   "id": "6019739b",
   "metadata": {},
   "outputs": [],
   "source": [
    "plt.scatter(range(len(sum_1)), sum_1, alpha=0.5)"
   ]
  },
  {
   "cell_type": "code",
   "execution_count": null,
   "id": "e53319a9",
   "metadata": {},
   "outputs": [],
   "source": [
    "cutout_up, cutout_dip = model1(sum_1)"
   ]
  },
  {
   "cell_type": "code",
   "execution_count": null,
   "id": "bb67d986",
   "metadata": {},
   "outputs": [],
   "source": [
    "cutout_up, cutout_dip"
   ]
  },
  {
   "cell_type": "code",
   "execution_count": null,
   "id": "149cca2c",
   "metadata": {},
   "outputs": [],
   "source": [
    "cutout_images = model2(image_T, cutout_up, cutout_dip)"
   ]
  },
  {
   "cell_type": "code",
   "execution_count": null,
   "id": "e1e77d80",
   "metadata": {},
   "outputs": [],
   "source": [
    "for i in range(len(cutout_images)):\n",
    "    print(\"image number : \", i + 1)\n",
    "    plt.imshow(cv.cvtColor(cutout_images[i], cv.COLOR_BGR2RGB))\n",
    "    plt.show(block=True)"
   ]
  },
  {
   "cell_type": "code",
   "execution_count": null,
   "id": "bff33a05",
   "metadata": {},
   "outputs": [],
   "source": [
    "plt.figure(figsize=(30, 15))"
   ]
  },
  {
   "cell_type": "code",
   "execution_count": null,
   "id": "7b198cbe",
   "metadata": {},
   "outputs": [],
   "source": [
    "plt.plot(range(len(sum_1)), sum_1, alpha=1)"
   ]
  },
  {
   "cell_type": "code",
   "execution_count": null,
   "id": "200d5694",
   "metadata": {},
   "outputs": [],
   "source": [
    "plt.axis('off')"
   ]
  }
 ],
 "metadata": {},
 "nbformat": 4,
 "nbformat_minor": 5
}
