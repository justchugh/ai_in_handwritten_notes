{
 "cells": [
  {
   "cell_type": "code",
   "execution_count": null,
   "id": "998cd9d4",
   "metadata": {},
   "outputs": [],
   "source": [
    "import numpy as np"
   ]
  },
  {
   "cell_type": "code",
   "execution_count": null,
   "id": "1e2c0e5f",
   "metadata": {},
   "outputs": [],
   "source": [
    "import cv2 as cv"
   ]
  },
  {
   "cell_type": "code",
   "execution_count": null,
   "id": "918d2fa4",
   "metadata": {},
   "outputs": [],
   "source": [
    "from matplotlib import pyplot as plt"
   ]
  },
  {
   "cell_type": "code",
   "execution_count": null,
   "id": "65ec9a0f",
   "metadata": {},
   "outputs": [],
   "source": [
    "image = cv.imread(\"5.jpg\", 0)"
   ]
  },
  {
   "cell_type": "code",
   "execution_count": null,
   "id": "a11d083b",
   "metadata": {},
   "outputs": [],
   "source": [
    "image.shape"
   ]
  },
  {
   "cell_type": "code",
   "execution_count": null,
   "id": "715e0f59",
   "metadata": {},
   "outputs": [],
   "source": [
    "plt.imshow(cv.cvtColor(image, cv.COLOR_BGR2RGB))"
   ]
  },
  {
   "cell_type": "code",
   "execution_count": null,
   "id": "7275fd72",
   "metadata": {},
   "outputs": [],
   "source": [
    "plt.show(block=True)"
   ]
  },
  {
   "cell_type": "code",
   "execution_count": null,
   "id": "a8114b33",
   "metadata": {},
   "outputs": [],
   "source": [
    "sum_0 = image.sum(axis=0)"
   ]
  },
  {
   "cell_type": "code",
   "execution_count": null,
   "id": "813e6b90",
   "metadata": {},
   "outputs": [],
   "source": [
    "plt.figure(figsize=(15, 8))"
   ]
  },
  {
   "cell_type": "code",
   "execution_count": null,
   "id": "07a08807",
   "metadata": {},
   "outputs": [],
   "source": [
    "plt.scatter(range(len(sum_0)), sum_0, alpha=0.5)"
   ]
  },
  {
   "cell_type": "code",
   "execution_count": null,
   "id": "49d9b231",
   "metadata": {},
   "outputs": [],
   "source": [
    "def model1(l):\n",
    "    maximum = max(l)\n",
    "    cutout_dip = []\n",
    "    cutout_up = []\n",
    "    \n",
    "    for i in range(len(l)):\n",
    "        if (i + 1) != len(l):\n",
    "            if l[i] == maximum:\n",
    "                if (l[i + 1] < maximum):\n",
    "                    cutout_dip.append(i)\n",
    "            \n",
    "            if l[i] < maximum:\n",
    "                if (l[i + 1] == maximum):\n",
    "                    cutout_up.append(i)\n",
    "    return cutout_up, cutout_dip\n",
    "cutout_up, cutout_dip = model1(sum_0)\n",
    "cutout_up, cutout_dip"
   ]
  },
  {
   "cell_type": "code",
   "execution_count": null,
   "id": "554facd4",
   "metadata": {},
   "outputs": [],
   "source": [
    "def model2(image, cutout_up, cutout_dip):\n",
    "    cutout_images = []\n",
    "    for up, dip in zip(cutout_up, cutout_dip):\n",
    "        temp = image[:, dip : up]\n",
    "        cutout_images.append(temp)\n",
    "    return cutout_images\n",
    "cutout_images = model2(image, cutout_up, cutout_dip)\n",
    "len(cutout_images)"
   ]
  },
  {
   "cell_type": "code",
   "execution_count": null,
   "id": "780a0bde",
   "metadata": {},
   "outputs": [],
   "source": [
    "for i in range(len(cutout_images)):\n",
    "    print(\"image number : \", i + 1)\n",
    "    plt.imshow(cv.cvtColor(cutout_images[i], cv.COLOR_BGR2RGB))\n",
    "    plt.show(block=True)"
   ]
  },
  {
   "cell_type": "code",
   "execution_count": null,
   "id": "c2309814",
   "metadata": {},
   "outputs": [],
   "source": [
    "image_T = cutout_images[0].T\n",
    "plt.imshow(cv.cvtColor(image_T, cv.COLOR_BGR2RGB))\n",
    "plt.show(block=True)"
   ]
  },
  {
   "cell_type": "code",
   "execution_count": null,
   "id": "bfc58508",
   "metadata": {},
   "outputs": [],
   "source": [
    "sum_1 = image_T.sum(axis=0)"
   ]
  },
  {
   "cell_type": "code",
   "execution_count": null,
   "id": "f01dd388",
   "metadata": {},
   "outputs": [],
   "source": [
    "plt.figure(figsize=(15, 8))"
   ]
  },
  {
   "cell_type": "code",
   "execution_count": null,
   "id": "8d59d123",
   "metadata": {},
   "outputs": [],
   "source": [
    "plt.scatter(range(len(sum_1)), sum_1, alpha=0.5)"
   ]
  },
  {
   "cell_type": "code",
   "execution_count": null,
   "id": "eeaa04d3",
   "metadata": {},
   "outputs": [],
   "source": [
    "cutout_up, cutout_dip = model1(sum_1)"
   ]
  },
  {
   "cell_type": "code",
   "execution_count": null,
   "id": "b6607a60",
   "metadata": {},
   "outputs": [],
   "source": [
    "cutout_up, cutout_dip"
   ]
  },
  {
   "cell_type": "code",
   "execution_count": null,
   "id": "ce6791ae",
   "metadata": {},
   "outputs": [],
   "source": [
    "cutout_images = model2(image_T, cutout_up, cutout_dip)"
   ]
  },
  {
   "cell_type": "code",
   "execution_count": null,
   "id": "d338e1b8",
   "metadata": {},
   "outputs": [],
   "source": [
    "for i in range(len(cutout_images)):\n",
    "    print(\"image number : \", i + 1)\n",
    "    plt.imshow(cv.cvtColor(cutout_images[i], cv.COLOR_BGR2RGB))\n",
    "    plt.show(block=True)"
   ]
  }
 ],
 "metadata": {},
 "nbformat": 4,
 "nbformat_minor": 5
}
